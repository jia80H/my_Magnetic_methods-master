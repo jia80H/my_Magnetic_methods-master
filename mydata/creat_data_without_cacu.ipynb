{
  "cells": [
    {
      "cell_type": "markdown",
      "metadata": {},
      "source": [
        "# 创建合成数据\n",
        "可用的真实地图数量很少(最多1000个示例)。为了克服这一困难，利用模拟数据对卷积神经网络进行训练和验证。"
      ]
    },
    {
      "cell_type": "markdown",
      "metadata": {},
      "source": [
        "## 导入模块"
      ]
    },
    {
      "cell_type": "code",
      "execution_count": 1,
      "metadata": {
        "id": "MlzuP1A0mn1_"
      },
      "outputs": [],
      "source": [
        "import numpy as np\n",
        "import matplotlib.pyplot as plt\n",
        "from matplotlib.patches import Rectangle \n",
        "%matplotlib inline\n",
        "\n",
        "import os\n",
        "from sklearn.utils import shuffle \n",
        "import random\n",
        "from skimage import draw\n",
        "import pandas as pd\n",
        "from scipy import ndimage\n",
        "import cv2 \n",
        "\n",
        "from PIL import Image\n",
        "\n",
        "import seaborn as sns\n",
        "sns.set()\n",
        "\n",
        "\n",
        "#%matplotlib notebook\n",
        "np.set_printoptions(suppress=True)  # 禁止打印多余信息"
      ]
    },
    {
      "cell_type": "code",
      "execution_count": 2,
      "metadata": {
        "colab": {
          "base_uri": "https://localhost:8080/",
          "height": 37
        },
        "id": "wwnApjUfzmKw",
        "outputId": "c9e28835-6fe2-4e82-aa64-a1366847eb91"
      },
      "outputs": [
        {
          "data": {
            "text/plain": [
              "'/home/jiajianhao/文档/cnn/Magnetic_methods-master/mydata'"
            ]
          },
          "execution_count": 2,
          "metadata": {},
          "output_type": "execute_result"
        }
      ],
      "source": [
        "os.getcwd()"
      ]
    },
    {
      "cell_type": "code",
      "execution_count": 3,
      "metadata": {
        "id": "FpHJDk99mpiT"
      },
      "outputs": [],
      "source": [
        "# from My_Utils import * # all the functions created that will be useful\n",
        "# all the functions created that will be useful\n",
        "from My_Utils_Magnetic_methods import *\n",
        "from My_Utils import *\n",
        "# 设置画图语言为雅黑体\n",
        "plt.rcParams['font.sans-serif'] = ['WenQuanYi Zen Hei']\n",
        "plt.rcParams['axes.unicode_minus'] = False"
      ]
    },
    {
      "cell_type": "markdown",
      "metadata": {
        "id": "Ps7MgoHQnHOT"
      },
      "source": [
        "##  Model"
      ]
    },
    {
      "cell_type": "markdown",
      "metadata": {},
      "source": [
        "\n",
        "### Model Griding\n",
        "这段代码创建了一个网格，其中 'zmax' 表示总的网格线数，'map_lenght' 表示地图的长度，以米为单位。然后使用自建的工具模块 `grid` 函数生成 X 和 Y 的坐标(x,y都是-25到25,共100个值)\n"
      ]
    },
    {
      "cell_type": "code",
      "execution_count": 4,
      "metadata": {
        "colab": {
          "base_uri": "https://localhost:8080/"
        },
        "id": "PWOAWYoinHsv",
        "outputId": "9233a06f-afca-43f1-bbe9-2e11ffd65274"
      },
      "outputs": [
        {
          "name": "stdout",
          "output_type": "stream",
          "text": [
            "X array shape: (100, 1)\n",
            "Y array shape: (1, 100)\n",
            "Cell lenght: 0.5\n"
          ]
        }
      ],
      "source": [
        "grid_caracteristic = {\n",
        "\n",
        "    'zmax': 100,  # Total number of grid lines\n",
        "    # [m] Our grid will be between (-map_lenght,map_lenght) because our anomalie is centered in (0,0)\n",
        "    'map_lenght': 25\n",
        "}  # 网格属性\n",
        "\n",
        "zmax = grid_caracteristic['zmax']\n",
        "map_lenght = grid_caracteristic['map_lenght']\n",
        "\n",
        "X, Y = grid(zmax, map_lenght)  # X and Y in [meters]\n",
        "\n",
        "print(f'X array shape: {X.shape}')\n",
        "print(f'Y array shape: {Y.shape}')\n",
        "print(f'Cell lenght: {(map_lenght*2)/zmax}')"
      ]
    },
    {
      "cell_type": "markdown",
      "metadata": {
        "id": "YLnZH5JInYJM"
      },
      "source": [
        "\n",
        "### Latitudes\n",
        "\n"
      ]
    },
    {
      "cell_type": "markdown",
      "metadata": {},
      "source": [
        "使用 `latitudes_array` 函数生成相应的纬度数组（以度和弧度表示），以及倾斜角（Inclination）的数组。\n"
      ]
    },
    {
      "cell_type": "code",
      "execution_count": 5,
      "metadata": {
        "colab": {
          "base_uri": "https://localhost:8080/"
        },
        "id": "JUQWPs9lnWIt",
        "outputId": "1a93d0e5-693a-4d87-8739-9f80a4be464d"
      },
      "outputs": [
        {
          "name": "stdout",
          "output_type": "stream",
          "text": [
            "Latitudes: [ 0 30 60 90] [°]\n",
            "Latitudes: [0.   0.52 1.05 1.57] [rad]\n",
            "Inclinaison: [0.   0.86 1.29 1.57] [rad]\n"
          ]
        }
      ],
      "source": [
        "lat_dict = {\n",
        "\n",
        "    'lat_min': 0,  # [°]\n",
        "    'lat_max': 120,  # [°]\n",
        "    'lat_frequency': 30,  # [°]\n",
        "\n",
        "}\n",
        "\n",
        "lat_array, lat_array_rad, I = latitudes_array(\n",
        "    lat_dict['lat_min'], lat_dict['lat_max'], lat_dict['lat_frequency'])\n",
        "\n",
        "print(f'Latitudes: {lat_array} [°]')  # °\n",
        "print(f'Latitudes: {np.round(lat_array_rad, decimals=2)} [rad]')  # 弧度制\n",
        "print(f'Inclinaison: {np.round(I, decimals=2)} [rad]')  # 倾角"
      ]
    },
    {
      "cell_type": "markdown",
      "metadata": {
        "id": "_snwf2pPnfPP"
      },
      "source": [
        "\n",
        "## Defining anomalies physical characteristics\n",
        "\n"
      ]
    },
    {
      "cell_type": "markdown",
      "metadata": {},
      "source": [
        "这段代码定义了一些物理参数"
      ]
    },
    {
      "cell_type": "code",
      "execution_count": 6,
      "metadata": {
        "colab": {
          "base_uri": "https://localhost:8080/"
        },
        "id": "1ZQDiW7_ncnu",
        "outputId": "09afda2d-20bb-47de-8e4e-3b03411f569b"
      },
      "outputs": [
        {
          "name": "stdout",
          "output_type": "stream",
          "text": [
            "Radius: [0.05 0.06 0.07 0.08] [meters]\n",
            "Volume: [0.002 0.004 0.006 0.009] [m^3]\n",
            "Number of V: 4\n",
            "---------------------------------------------\n",
            "Depth: [1.  1.2 1.4 1.6] [meters]\n",
            "Number of h: 4\n",
            "---------------------------------------------\n",
            "Number of examples: 768\n",
            "Parameters array shape: (768, 5) \n"
          ]
        }
      ],
      "source": [
        "r_v_d_dict = {\n",
        "\n",
        "    'Br': 47000,  # Champ local(nT)\n",
        "    'r_min': 0.05,  # [meters]\n",
        "    'r_max': 0.09,  # [meters]\n",
        "    'eAboughtLAndR': 4,\n",
        "    'r_frequency': 0.01,  # [meters]\n",
        "    'h_min': 1.0,  # [meters]\n",
        "    'h_max': 1.8,  # [meters]\n",
        "    'h_frequency': 0.2,  # [meters]\n",
        "\n",
        "\n",
        "}\n",
        "\n",
        "Br = r_v_d_dict['Br']\n",
        "r_min = r_v_d_dict['r_min']\n",
        "r_max = r_v_d_dict['r_max']\n",
        "eAboughtLAndR = r_v_d_dict['eAboughtLAndR']\n",
        "r_frequency = r_v_d_dict['r_frequency']\n",
        "h_min = r_v_d_dict['h_min']\n",
        "h_max = r_v_d_dict['h_max']\n",
        "h_frequency = r_v_d_dict['h_frequency']\n",
        "# position = np.array(\n",
        "#     np.mat('0 0 0;60 0 0'))\n",
        "# position = np.array(\n",
        "#     np.mat('0 0 0;30 0 0;60 0 0;60 180 0;60 270 0;90 0 60;90 0 180;0 120 0;0 90 0'))\n",
        "# theta_range = [0,30,60,90]\n",
        "# phi_range = [0,90,120,180]\n",
        "# gama_range = [0,60,180]\n",
        "theta_range = [0,30,60,90]\n",
        "phi_range = [0,90,120,180]\n",
        "gama_range = [0,60,180]\n",
        "r_array = np.arange(r_min, r_max, r_frequency)\n",
        "numberOfPosition = len(theta_range)*len(phi_range)*len(gama_range)\n",
        "position = np.zeros((numberOfPosition,3))\n",
        "count = 0\n",
        "for theta in theta_range:\n",
        "    for phi in phi_range:\n",
        "        for gama in gama_range:\n",
        "            position[count,:] = gama,theta,phi\n",
        "            count+=1\n",
        "\n",
        "\n",
        "r_array, V_array, h_array, n_examples, Parameters_array = r_V_h_array(r_min, r_max, r_frequency, eAboughtLAndR,\n",
        "                                                                      h_min, h_max, h_frequency, position,\n",
        "                                                                      zmax, Br)\n",
        "L_array = eAboughtLAndR*r_array\n",
        "\n",
        "# Last 3 examples\n",
        "print(f'Radius: {np.round(r_array[:], decimals=3)} [meters]')\n",
        "print(f'Volume: {V_array[:]} [m^3]')  # Last 3 examples\n",
        "print(f'Number of V: {V_array.shape[0]}')  # Last 3 examples\n",
        "print(\"---------------------------------------------\")\n",
        "# Last 3 examples\n",
        "print(f'Depth: {np.round(h_array[:], decimals = 2)} [meters]')\n",
        "print(f'Number of h: {h_array.shape[0]}')  # Last 3 examples\n",
        "print(\"---------------------------------------------\")\n",
        "print(f'Number of examples: {n_examples}')\n",
        "print(f'Parameters array shape: {Parameters_array.shape} ')"
      ]
    },
    {
      "cell_type": "markdown",
      "metadata": {
        "id": "oTw--lOio-TE"
      },
      "source": [
        "<a name='4'></a>\n",
        "## 4.  Creating X and Y array "
      ]
    },
    {
      "cell_type": "markdown",
      "metadata": {
        "id": "ojdsN6EgpA-c"
      },
      "source": [
        "<a name='4.1'></a>\n",
        "### 4.1 Raw data (before data augmetation在数据增强之前)\n",
        "\n"
      ]
    },
    {
      "cell_type": "markdown",
      "metadata": {},
      "source": [
        "这个函数似乎用于计算垂直方向上的磁感应强度。它通过对每个经度的不同纬度值进行迭代，计算在每个网格点上的磁感应强度。\n",
        "\n",
        "函数的输入包括磁场强度（'Br'）、磁矩（'m'）、倾斜角（'I'）、X、Y、深度（'h'）、传感器的底部和顶部高度（'H_capteur_bas'和'H_capteur_haut'）、纬度数量（'N_lat'）、示例数量（'examples'）、网格数量（'zmax'）、参数数量（'n_parameters'）、以及纬度的弧度表示和参数数组。\n",
        "\n",
        "该函数的输出包括一个包含磁感应强度值的三维数组（'X_array_raw'）和一个包含体积和深度值的三维数组（'Parameters_array_raw'）。\n"
      ]
    },
    {
      "cell_type": "code",
      "execution_count": 7,
      "metadata": {
        "id": "zxAxCk4Tnlod"
      },
      "outputs": [],
      "source": [
        "# Capteur type fluxgate, on calcule la composante verticale\n",
        "\n",
        "def X_array_raw(map_lenght, eAboughtLAndR,N_lat, examples,\n",
        "                zmax, n_parameters, lat_array, Parameters_array):\n",
        "\n",
        "    X_array_raw = np.zeros((N_lat, examples, zmax, zmax))  # 初始化磁感应值数组\n",
        "    Parameters_array_raw = np.zeros((N_lat, examples, n_parameters))  # 初始化参数数组\n",
        "\n",
        "\n",
        "    i = 0\n",
        "\n",
        "    for i_lat in lat_array:  # 遍历纬度弧度\n",
        "        Parameters_array_raw[i, :, :] = Parameters_array[:, :]\n",
        "        for i_example in range(examples):\n",
        "            r = round(Parameters_array[i_example,0],2)\n",
        "            L = round(eAboughtLAndR * r,2)\n",
        "            z = round(Parameters_array[i_example,1],2)\n",
        "            gama,theta,phi = Parameters_array[i_example,2:]\n",
        "            print(i_lat,i_example,r,L,z,gama,theta,phi)\n",
        "            # X_array_raw[i,i_example, :, :] = MyModel().F\n",
        "            X_array_raw[i,i_example, :, :] = MyModel(map_lenght, zmax, L, r,r ,gama,theta,phi,0,0,z=z,I=i_lat,D=0).F\n",
        "        i =i + 1\n",
        "\n",
        "    return X_array_raw, Parameters_array_raw"
      ]
    },
    {
      "cell_type": "code",
      "execution_count": 8,
      "metadata": {
        "colab": {
          "base_uri": "https://localhost:8080/"
        },
        "id": "9F9zPr-ApEmX",
        "outputId": "1fd1a25b-650a-4e35-bf8b-3afef6b30d4b"
      },
      "outputs": [],
      "source": [
        "### X_data array, Calculating Induction magnétique de l'Anomalie [nT] ###\n",
        "\n",
        "X_Y_array_dict = {\n",
        "    'N_latitudes': lat_array.shape[0],  # Number of latitudes\n",
        "    'N_parameters': Parameters_array.shape[1]  # Number of parameters\n",
        "}\n",
        "\n",
        "N_latitudes = X_Y_array_dict[\"N_latitudes\"]\n",
        "N_parameters = X_Y_array_dict[\"N_parameters\"]"
      ]
    },
    {
      "cell_type": "code",
      "execution_count": 9,
      "metadata": {},
      "outputs": [
        {
          "data": {
            "text/plain": [
              "'/home/jiajianhao/文档/cnn/Magnetic_methods-master/YOLO/Synthetic_data'"
            ]
          },
          "execution_count": 9,
          "metadata": {},
          "output_type": "execute_result"
        }
      ],
      "source": [
        "os.getcwd()"
      ]
    },
    {
      "cell_type": "code",
      "execution_count": 10,
      "metadata": {},
      "outputs": [
        {
          "name": "stdout",
          "output_type": "stream",
          "text": [
            "X array raw shape: (4, 768, 100, 100)\n",
            "Parameters array raw shape: (4, 768, 5)\n"
          ]
        }
      ],
      "source": [
        "# 读取\n",
        "X_data_array_raw= np.load(file=\"./data/X_data_array_raw768.npy\")\n",
        "Parameters_array_raw= np.load(file=\"./data/Parameters_array_raw768.npy\")\n",
        "\n",
        "print(f'X array raw shape: {X_data_array_raw.shape}')\n",
        "print(f'Parameters array raw shape: {Parameters_array_raw.shape}')"
      ]
    },
    {
      "cell_type": "code",
      "execution_count": 11,
      "metadata": {
        "colab": {
          "base_uri": "https://localhost:8080/"
        },
        "id": "U4XwZ2EwpKqq",
        "outputId": "822464c4-957a-4912-d563-13bf5484c12d"
      },
      "outputs": [
        {
          "name": "stdout",
          "output_type": "stream",
          "text": [
            "(4, 768, 100, 100)\n"
          ]
        }
      ],
      "source": [
        "par_window = 100  # 24 to have a better look\n",
        "\n",
        "diff_max = int((zmax + par_window) / 2)\n",
        "diff_min = int((zmax - par_window) / 2)\n",
        "\n",
        "X_data_array_raw_2 = X_data_array_raw[:,:, diff_min:diff_max, diff_min:diff_max]\n",
        "\n",
        "print(X_data_array_raw_2.shape)"
      ]
    },
    {
      "cell_type": "code",
      "execution_count": 12,
      "metadata": {
        "colab": {
          "base_uri": "https://localhost:8080/",
          "height": 890
        },
        "id": "hKRDsQnvpULZ",
        "outputId": "fe91e55d-9c26-47b4-da77-e048b4eeb505"
      },
      "outputs": [
        {
          "name": "stdout",
          "output_type": "stream",
          "text": [
            "Plotting model: 10\n"
          ]
        },
        {
          "data": {
            "image/png": "[encoded data removed]",
            "text/plain": [
              "<Figure size 1600x1200 with 8 Axes>"
            ]
          },
          "metadata": {},
          "output_type": "display_data"
        }
      ],
      "source": [
        "Raw_visualization_dict = {\n",
        "\n",
        "    'height': 16,\n",
        "    'width': 12,\n",
        "    'n_model_aug': None,  # Not yet\n",
        "    'n_dipoles': None,  # Not yet\n",
        "\n",
        "}\n",
        "\n",
        "height = Raw_visualization_dict['height']\n",
        "width = Raw_visualization_dict['width']\n",
        "n_model_aug = Raw_visualization_dict['n_model_aug']\n",
        "n_dipoles = Raw_visualization_dict['n_dipoles']\n",
        "\n",
        "rows = 2\n",
        "cols = 2\n",
        "\n",
        "example_to_plot = 10\n",
        "\n",
        "par_window = 100\n",
        "\n",
        "Plot_X_array_raw(map_lenght, height, width, example_to_plot, lat_array, X_data_array_raw,\n",
        "                 Parameters_array_raw, n_model_aug, n_dipoles, rows, cols, par_window)"
      ]
    },
    {
      "cell_type": "markdown",
      "metadata": {
        "id": "jL3u-v3ppwZq"
      },
      "source": [
        "<a name='4.2.1'></a>\n",
        "### 4.2.1 Creating boxes per anomaly\n"
      ]
    },
    {
      "cell_type": "code",
      "execution_count": 13,
      "metadata": {
        "id": "igIgr3-upyr5"
      },
      "outputs": [],
      "source": [
        "def box_per_anomaly(N_latitudes, n_examples, h_array, map_lenght, zmax):\n",
        "    \"\"\"\n",
        "    根据给定的参数生成一个包含多个异常的边界框。\n",
        "\n",
        "    参数：\n",
        "    N_latitudes (int): 纬度的个数。\n",
        "    n_examples (int): 异常的个数。\n",
        "    h_array (ndarray): 每个纬度上异常的高度数组。\n",
        "    map_lenght (float): 地图的长度。\n",
        "    zmax (float): 深度的最大值。\n",
        "\n",
        "    返回：\n",
        "    bbox (ndarray): 形状为(N_latitudes, n_examples, 4)的边界框数组。\n",
        "    \"\"\"\n",
        "\n",
        "    # 这个函数要求深度的最小值为1米\n",
        "\n",
        "    real_to_pixel = zmax / (map_lenght * 2)\n",
        "\n",
        "    if h_array[0] != 1:\n",
        "        print(\"Error, Depth min has to be 1\")\n",
        "\n",
        "    bbox = np.zeros((N_latitudes, n_examples, 4))\n",
        "\n",
        "    x0, y0 = (zmax / 2, zmax / 2)\n",
        "\n",
        "    for lat_i in range(N_latitudes):\n",
        "        if lat_i == 0:\n",
        "            w_base = 3.7 * real_to_pixel\n",
        "            h_base = 5.4 * real_to_pixel\n",
        "            w_in = 0.5 * real_to_pixel\n",
        "            h_in = 0.67 * real_to_pixel\n",
        "        elif lat_i == 1:\n",
        "            w_base = 4.6 * real_to_pixel\n",
        "            h_base = 5.2 * real_to_pixel\n",
        "            w_in = 0.5 * real_to_pixel\n",
        "            h_in = 0.8 * real_to_pixel\n",
        "        elif lat_i == 2:\n",
        "            w_base = 3.4 * real_to_pixel\n",
        "            h_base = 4.2 * real_to_pixel\n",
        "            w_in = 0.5 * real_to_pixel\n",
        "            h_in = 0.65 * real_to_pixel\n",
        "        else:\n",
        "            w_base = 3.6 * real_to_pixel\n",
        "            h_base = 3.6 * real_to_pixel\n",
        "            w_in = 0.40 * real_to_pixel\n",
        "            h_in = 0.40 * real_to_pixel\n",
        "\n",
        "        for h_n in range(n_examples):\n",
        "            if h_n == 0:\n",
        "                bbox[lat_i, h_n, :] = np.array(\n",
        "                    [x0 - (w_base / 2), y0 - (h_base / 2), w_base, h_base])\n",
        "            elif h_n < h_array.shape[0]:\n",
        "                bbox[lat_i, h_n, 0] = bbox[lat_i, h_n - 1, 0] - (w_in / 2)\n",
        "                bbox[lat_i, h_n, 1] = bbox[lat_i, h_n - 1, 1] - (h_in / 2)\n",
        "                bbox[lat_i, h_n, 2] = bbox[lat_i, h_n - 1, 2] + w_in\n",
        "                bbox[lat_i, h_n, 3] = bbox[lat_i, h_n - 1, 3] + h_in\n",
        "            else:\n",
        "                bbox[lat_i, h_n, :] = bbox[lat_i, h_n - h_array.shape[0], :]\n",
        "\n",
        "    return bbox"
      ]
    },
    {
      "cell_type": "code",
      "execution_count": 14,
      "metadata": {
        "id": "dXOcXjoPp1GF"
      },
      "outputs": [],
      "source": [
        "def box_per_orientation(rotation, box_anomaly):\n",
        "    \"\"\"\n",
        "    根据旋转角度和边界框异常值生成一系列调整后的边界框\n",
        "\n",
        "    参数：\n",
        "    rotation：旋转角度，数组格式，单位为度\n",
        "    box_anomaly：边界框异常值，多维数组\n",
        "\n",
        "    返回值：\n",
        "    bbox_rot：调整后的边界框，多维数组\n",
        "\n",
        "    \"\"\"\n",
        "\n",
        "    # 计算实际像素长度\n",
        "    real_to_pixel = zmax/(map_lenght*2)\n",
        "\n",
        "    # 获取纬度数量\n",
        "    N_latitudes = box_anomaly.shape[0]\n",
        "\n",
        "    # 获取旋转角度数量\n",
        "    n_rot = rotation.shape[0]\n",
        "\n",
        "    # 获取例子数量\n",
        "    n_examples = box_anomaly.shape[1]\n",
        "\n",
        "    # 初始化调整后的边界框数组\n",
        "    bbox_rot = np.zeros((N_latitudes, n_rot+1, n_examples, 4))\n",
        "\n",
        "    # 设置坐标原点\n",
        "    x0, y0 = (0, 0)\n",
        "\n",
        "    # 遍历纬度\n",
        "    for lat_i in range(N_latitudes):\n",
        "\n",
        "        # 遍历旋转角度\n",
        "        for idx, i_rot in enumerate(rotation):\n",
        "\n",
        "            # 遍历例子\n",
        "            for h_n in range(n_examples):\n",
        "\n",
        "                # 针对特定旋转角度进行处理\n",
        "                if i_rot == 0 or i_rot == 180 or i_rot == 360:\n",
        "                    bbox_rot[lat_i, idx, h_n, :] = box_anomaly[lat_i, h_n, :]\n",
        "                else:\n",
        "                    # 计算基准宽度\n",
        "                    rot_w_base = (\n",
        "                        box_anomaly[lat_i, h_n, 3] - box_anomaly[lat_i, h_n, 2]) / 90\n",
        "\n",
        "                    # 根据旋转角度不同进行计算\n",
        "                    if 0 < i_rot <= 90:\n",
        "                        rot_int = rot_w_base * i_rot\n",
        "                    elif 90 < i_rot <= 180:\n",
        "                        rot_int = rot_w_base * (180 - i_rot)\n",
        "                    elif 180 < i_rot <= 270:\n",
        "                        rot_int = rot_w_base * (i_rot - 180)\n",
        "                    elif 270 < i_rot < 360:\n",
        "                        rot_int = rot_w_base * (360 - i_rot)\n",
        "\n",
        "                    # 计算调整后的边界框坐标\n",
        "                    bbox_rot[lat_i, idx, h_n,\n",
        "                             0] = box_anomaly[lat_i, h_n, 0] - rot_int/2\n",
        "                    bbox_rot[lat_i, idx, h_n,\n",
        "                             1] = box_anomaly[lat_i, h_n, 1] + rot_int/2\n",
        "                    bbox_rot[lat_i, idx, h_n,\n",
        "                             2] = box_anomaly[lat_i, h_n, 2] + rot_int\n",
        "                    bbox_rot[lat_i, idx, h_n,\n",
        "                             3] = box_anomaly[lat_i, h_n, 3] - rot_int\n",
        "\n",
        "    return bbox_rot"
      ]
    },
    {
      "cell_type": "code",
      "execution_count": 15,
      "metadata": {
        "id": "-OaC5krOpayp"
      },
      "outputs": [],
      "source": [
        "rotation = np.arange(0, 360, 30)\n",
        "\n",
        "box_anomaly = box_per_anomaly(\n",
        "    N_latitudes, n_examples, h_array, map_lenght, zmax)\n",
        "\n",
        "box_orientation = box_per_orientation(rotation, box_anomaly)"
      ]
    },
    {
      "cell_type": "code",
      "execution_count": 16,
      "metadata": {
        "colab": {
          "base_uri": "https://localhost:8080/",
          "height": 518
        },
        "id": "ACscyX7Optl4",
        "outputId": "365110ab-9f5d-4156-f988-a12a89828c8a"
      },
      "outputs": [
        {
          "data": {
            "image/png": "[encoded data removed]",
            "text/plain": [
              "<Figure size 1600x1000 with 6 Axes>"
            ]
          },
          "metadata": {},
          "output_type": "display_data"
        }
      ],
      "source": [
        "# %matplotlib auto\n",
        "pixel_to_real = ((map_lenght*2)/zmax)  # 计算像素到真实坐标的比例\n",
        "real_to_pixel = zmax/(map_lenght*2)  # 计算真实坐标到像素的比例\n",
        "\n",
        "X = np.linspace(0, zmax, zmax)  # 在真实坐标系中生成X轴等差数组\n",
        "Y = np.linspace(0, zmax, zmax)  # 在真实坐标系中生成Y轴等差数组\n",
        "\n",
        "height_2 = 10  # 图像的高度\n",
        "width_2 = 16  # 图像的宽度\n",
        "\n",
        "lat = 3  # 选择纬度\n",
        "example_to_plot = 100  # 选择要绘制的示例\n",
        "\n",
        "rot_n = 0  # 选择旋转角度\n",
        "idx = np.where(rotation == rot_n)[0][0]  # 获取指定旋转角度的索引位置\n",
        "\n",
        "fig, axs = plt.subplots(2, 3, figsize=(width_2, height_2))  # 创建一个2行3列的图像对象\n",
        "axs = axs.ravel()  # 将图像对象的轴数组拉平\n",
        "\n",
        "for rot_idx, rot in enumerate(rotation[:6]):  # 遍历前6个旋转角度\n",
        "    x0 = box_orientation[lat, rot_idx,\n",
        "                         example_to_plot, 0]  # 获取框的中心点在真实坐标系中的x坐标\n",
        "    y0 = box_orientation[lat, rot_idx,\n",
        "                         example_to_plot, 1]  # 获取框的中心点在真实坐标系中的y坐标\n",
        "    bwidth = box_orientation[lat, rot_idx, example_to_plot, 2]  # 获取框在真实坐标系中的宽度\n",
        "    bheight = box_orientation[lat, rot_idx,\n",
        "                              example_to_plot, 3]  # 获取框在真实坐标系中的高度\n",
        "\n",
        "    rect_real = Rectangle((x0, y0), bwidth, bheight, edgecolor='r',\n",
        "                          facecolor=\"none\")  # 创建一个矩形对象表示框在真实坐标系中的位置\n",
        "\n",
        "    cp = axs[rot_idx].contourf(X, Y, ndimage.rotate(X_data_array_raw[lat, example_to_plot, :, :], rot, axes=(\n",
        "        0, 1), reshape=False), levels=16, cmap='seismic')  # 绘制旋转后的数据图像\n",
        "    axs[rot_idx].set_xlabel('位置X (m)')  # 设置x轴标签\n",
        "    axs[rot_idx].set_ylabel('位置Y (m)')  # 设置y轴标签\n",
        "    axs[rot_idx].set_xticks(np.arange(0, zmax, step=50))  # 设置x轴刻度\n",
        "    axs[rot_idx].set_yticks(np.arange(0, zmax, step=50))  # 设置y轴刻度\n",
        "    axs[rot_idx].add_patch(rect_real)  # 将矩形框添加到图像中\n",
        "    axs[rot_idx].set_title(f'Declination = {rot}°')  # 设置图像标题"
      ]
    },
    {
      "cell_type": "markdown",
      "metadata": {
        "id": "mM0Og-SYqGh3"
      },
      "source": [
        "<a name='4.5'></a>\n",
        "### 4.5 Creating X array (counting number of dipoles and data augmentation)"
      ]
    },
    {
      "cell_type": "code",
      "execution_count": 19,
      "metadata": {
        "id": "U-iuD1Uzp4XY"
      },
      "outputs": [],
      "source": [
        "def X_array(N_dipoles_f, N_parameters_f, dist_min_i, X_data_pad, bbox, rotation, h_array, new_size, lat_array):\n",
        "\n",
        "    #### Number of dipoles ###\n",
        "\n",
        "    N_dipoles = N_dipoles_f\n",
        "    N_parameters = N_parameters_f\n",
        "    N_h = h_array.shape[0]\n",
        "\n",
        "    ##########################\n",
        "\n",
        "    h_counting = np.arange(0, N_h, 1)\n",
        "\n",
        "    h_idx = np.tile(h_counting, N_h)\n",
        "\n",
        "    ##########################\n",
        "\n",
        "    N_lat = X_data_pad.shape[0]\n",
        "    n_examples = X_data_pad.shape[1]\n",
        "    zmax = int(X_data_pad.shape[2])\n",
        "    border_o = int((zmax)/2)\n",
        "    # border_yolo = int((416-zmax)/2)\n",
        "\n",
        "    ##########################\n",
        "\n",
        "    conversion = (2*map_lenght)/zmax\n",
        "\n",
        "    yolo_conversion = (new_size/zmax)\n",
        "\n",
        "    ##########################\n",
        "\n",
        "    dist_min = dist_min_i / conversion\n",
        "\n",
        "    ##########################\n",
        "\n",
        "    X_data = np.zeros((N_lat, N_dipoles, n_examples, new_size, new_size))\n",
        "    Position = np.zeros((N_lat, N_dipoles, n_examples, N_dipoles*2))\n",
        "    bbox_f = np.zeros((N_lat, N_dipoles, n_examples, 5*N_dipoles))\n",
        "    lat_f = np.zeros((N_lat, N_dipoles, n_examples, 1))\n",
        "\n",
        "    No_pad_left = int((zmax) - zmax/2)\n",
        "    No_pad_right = int((zmax) + zmax/2)\n",
        "\n",
        "    Position_array_to_add = np.zeros((N_lat, N_dipoles, n_examples, 2))\n",
        "\n",
        "    w_in = 1\n",
        "\n",
        "    w_ch = 0\n",
        "    h_ch = 0\n",
        "\n",
        "    limit = (zmax/2) - 1\n",
        "\n",
        "    for i_lat in range(0, N_lat, 1):\n",
        "\n",
        "        for n_dipoles_i in range(0, N_dipoles, 1):\n",
        "\n",
        "            for i_n_examples in range(0, n_examples, 1):\n",
        "                print(i_lat,n_dipoles_i,i_n_examples)\n",
        "\n",
        "                # dist_min_f = int(5 + (h_idx[i_n_examples]*1.5))\n",
        "\n",
        "                if n_dipoles_i == 0:\n",
        "\n",
        "                    ##########################\n",
        "\n",
        "                    position_x = random.randint(-limit, limit)\n",
        "                    position_y = random.randint(-limit, limit)\n",
        "\n",
        "                    Position_array_to_add[i_lat, n_dipoles_i,\n",
        "                                          i_n_examples, 0] = position_x + zmax/2\n",
        "                    Position_array_to_add[i_lat, n_dipoles_i,\n",
        "                                          i_n_examples, 1] = position_y + zmax/2\n",
        "\n",
        "                    ##########################\n",
        "\n",
        "                    rot_n = random.choice(rotation)\n",
        "\n",
        "                    if (i_lat == 3):\n",
        "\n",
        "                        rot_n = 0\n",
        "\n",
        "                    elif (i_lat == 0) and rot_n >= 180:\n",
        "\n",
        "                        rot_n = rot_n - 180\n",
        "\n",
        "                    img = X_data_pad[i_lat, i_n_examples, :, :]\n",
        "\n",
        "                    X_array_rot = ndimage.rotate(\n",
        "                        img, rot_n, axes=(0, 1), reshape=False)\n",
        "\n",
        "                    X_data_padded = cv2.copyMakeBorder(\n",
        "                        X_array_rot, border_o, border_o, border_o, border_o, 0)\n",
        "\n",
        "                    X_data_x = np.roll(X_data_padded, position_x, axis=1)\n",
        "                    X_data_y = np.roll(X_data_x, position_y, axis=0)\n",
        "\n",
        "                    X_array_os = X_data_y[No_pad_left:No_pad_right,\n",
        "                                          No_pad_left:No_pad_right]\n",
        "\n",
        "                    X_array_yolo = cv2.resize(\n",
        "                        X_array_os, (new_size, new_size), interpolation=cv2.INTER_CUBIC)\n",
        "\n",
        "                    X_data[i_lat, n_dipoles_i,\n",
        "                           i_n_examples, :, :] = X_array_yolo\n",
        "\n",
        "                    ##########################\n",
        "\n",
        "                    Position[i_lat, n_dipoles_i:, i_n_examples, (n_dipoles_i)*2:(n_dipoles_i+1)*2] = np.round(\n",
        "                        Position_array_to_add[i_lat, n_dipoles_i, i_n_examples, :] * yolo_conversion, 0)\n",
        "\n",
        "                    ##########################\n",
        "\n",
        "                    # Box latitude\n",
        "                    bbox_f[i_lat, n_dipoles_i:, i_n_examples,\n",
        "                           0 + (5*n_dipoles_i)] = int(i_lat)\n",
        "\n",
        "                    # Box conditions\n",
        "                    x_o = ((bbox[i_lat, np.where(rotation == rot_n)[\n",
        "                           0][0], i_n_examples, 0]) + position_x) * yolo_conversion\n",
        "                    y_o = ((bbox[i_lat, np.where(rotation == rot_n)[\n",
        "                           0][0], i_n_examples, 1]) + position_y) * yolo_conversion\n",
        "                    w_o = bbox[i_lat, np.where(rotation == rot_n)[\n",
        "                        0][0], i_n_examples, 2] * yolo_conversion\n",
        "                    h_o = bbox[i_lat, np.where(rotation == rot_n)[\n",
        "                        0][0], i_n_examples, 3] * yolo_conversion\n",
        "\n",
        "                    limit_yolo = zmax * yolo_conversion\n",
        "\n",
        "                    # condition 1\n",
        "                    if (x_o < 0) and (y_o < 0) and (x_o+w_o <= limit_yolo) and (y_o+h_o > 0):\n",
        "                        x = 0\n",
        "                        y = 0\n",
        "                        w_ch = -x_o\n",
        "                        h_ch = -y_o\n",
        "                    # Condition 2\n",
        "                    elif (x_o >= 0) and (y_o < 0) and (x_o+w_o <= limit_yolo) and (y_o+h_o <= limit_yolo):\n",
        "                        x = x_o\n",
        "                        y = 0\n",
        "                        w_ch = 0\n",
        "                        h_ch = -y_o\n",
        "\n",
        "                    # Condition 3\n",
        "                    elif (x_o >= 0) and (y_o < 0) and (x_o+w_o > limit_yolo) and (y_o+h_o <= limit_yolo):\n",
        "                        x = x_o\n",
        "                        y = 0\n",
        "                        w_ch = (x_o+w_o) - limit_yolo\n",
        "                        h_ch = -y_o\n",
        "\n",
        "                    # Condition 4\n",
        "                    elif (x_o >= 0) and (y_o >= 0) and (x_o+w_o > limit_yolo) and (y_o+h_o <= limit_yolo):\n",
        "                        x = x_o\n",
        "                        y = y_o\n",
        "                        w_ch = (x_o+w_o) - limit_yolo\n",
        "                        h_ch = 0\n",
        "\n",
        "                    # Condition 5\n",
        "                    elif (x_o >= 0) and (y_o >= 0) and (x_o+w_o > limit_yolo) and (y_o+h_o > limit_yolo):\n",
        "                        x = x_o\n",
        "                        y = y_o\n",
        "                        w_ch = (x_o+w_o) - limit_yolo\n",
        "                        h_ch = (y_o+h_o) - limit_yolo\n",
        "\n",
        "                    # Condition 6\n",
        "                    elif (x_o >= 0) and (y_o >= 0) and (x_o+w_o <= limit_yolo) and (y_o+h_o > limit_yolo):\n",
        "                        x = x_o\n",
        "                        y = y_o\n",
        "                        w_ch = 0\n",
        "                        h_ch = (y_o+h_o) - limit_yolo\n",
        "\n",
        "                    # Condition 7\n",
        "                    elif (x_o < 0) and (y_o >= 0) and (x_o+w_o <= limit_yolo) and (y_o+h_o > limit_yolo):\n",
        "                        x = 0\n",
        "                        y = y_o\n",
        "                        w_ch = -x_o\n",
        "                        h_ch = (y_o+h_o) - limit_yolo\n",
        "\n",
        "                    # Condition 8:\n",
        "                    elif (x_o < 0) and (y_o >= 0) and (x_o+w_o <= limit_yolo) and (y_o+h_o <= limit_yolo):\n",
        "                        x = 0\n",
        "                        y = y_o\n",
        "                        w_ch = -x_o\n",
        "                        h_ch = 0\n",
        "\n",
        "                    else:\n",
        "                        x = x_o\n",
        "                        y = y_o\n",
        "                        w_ch = 0\n",
        "                        h_ch = 0\n",
        "\n",
        "                    bbox_f[i_lat, n_dipoles_i:, i_n_examples,\n",
        "                           1 + (5*n_dipoles_i)] = x\n",
        "                    bbox_f[i_lat, n_dipoles_i:, i_n_examples,\n",
        "                           2 + (5*n_dipoles_i)] = y\n",
        "                    bbox_f[i_lat, n_dipoles_i:, i_n_examples,\n",
        "                           3 + (5*n_dipoles_i)] = w_o - w_ch\n",
        "                    bbox_f[i_lat, n_dipoles_i:, i_n_examples,\n",
        "                           4 + (5*n_dipoles_i)] = h_o - h_ch\n",
        "\n",
        "                else:\n",
        "\n",
        "                    while w_in == 1:\n",
        "\n",
        "                        in_a = 0\n",
        "\n",
        "                        position_x = random.randint(-limit, limit)\n",
        "                        position_y = random.randint(-limit, limit)\n",
        "\n",
        "                        X_c = (\n",
        "                            (position_x) - (Position_array_to_add[i_lat, :, i_n_examples, 0] - zmax/2))\n",
        "\n",
        "                        Y_c = (\n",
        "                            (position_y) - (Position_array_to_add[i_lat, :, i_n_examples, 1] - zmax/2))\n",
        "\n",
        "                        distance = np.sqrt(X_c**2 + Y_c**2)\n",
        "\n",
        "                        if np.all(dist_min < distance):\n",
        "\n",
        "                            break\n",
        "\n",
        "                        else:\n",
        "\n",
        "                            if in_a > 150:\n",
        "\n",
        "                                print(\"Looping forever?\")\n",
        "\n",
        "                            in_a += 1\n",
        "\n",
        "                            continue\n",
        "\n",
        "                    Position_array_to_add[i_lat, n_dipoles_i,\n",
        "                                          i_n_examples, 0] = position_x + zmax/2\n",
        "                    Position_array_to_add[i_lat, n_dipoles_i,\n",
        "                                          i_n_examples, 1] = position_y + zmax/2\n",
        "\n",
        "                    ##########################\n",
        "\n",
        "                    if i_lat == 3:\n",
        "\n",
        "                        rot_n = 0\n",
        "\n",
        "                    else:\n",
        "\n",
        "                        rot_n = random.choice(rotation)\n",
        "\n",
        "                    # new_example = np.random.randint(n_examples)\n",
        "\n",
        "                    img = X_data_pad[i_lat, i_n_examples, :, :]\n",
        "\n",
        "                    X_array_rot = ndimage.rotate(\n",
        "                        img, rot_n, axes=(0, 1), reshape=False)\n",
        "\n",
        "                    X_data_padded = cv2.copyMakeBorder(\n",
        "                        X_array_rot, border_o, border_o, border_o, border_o, 0)\n",
        "\n",
        "                    X_data_x = np.roll(X_data_padded, position_x, axis=1)\n",
        "                    X_data_y = np.roll(X_data_x, position_y, axis=0)\n",
        "\n",
        "                    X_array_os = X_data_y[No_pad_left:No_pad_right,\n",
        "                                          No_pad_left:No_pad_right]\n",
        "\n",
        "                    X_array_yolo = cv2.resize(\n",
        "                        X_array_os, (new_size, new_size), interpolation=cv2.INTER_CUBIC)\n",
        "\n",
        "                    X_data[i_lat, n_dipoles_i, i_n_examples, :, :] = X_data[i_lat,\n",
        "                                                                            n_dipoles_i-1, i_n_examples, :, :] + X_array_yolo\n",
        "\n",
        "                    ##########################\n",
        "\n",
        "                    Position[i_lat, n_dipoles_i:, i_n_examples, (n_dipoles_i)*2:(n_dipoles_i+1)*2] = np.round(\n",
        "                        Position_array_to_add[i_lat, n_dipoles_i, i_n_examples, :] * yolo_conversion, 0)\n",
        "\n",
        "                    # Box latitude\n",
        "                    bbox_f[i_lat, n_dipoles_i:, i_n_examples,\n",
        "                           0 + (5*n_dipoles_i)] = int(i_lat)\n",
        "\n",
        "                    # Box conditions\n",
        "                    x_o = ((bbox[i_lat, np.where(rotation == rot_n)[\n",
        "                           0][0], i_n_examples, 0]) + position_x) * yolo_conversion\n",
        "                    y_o = ((bbox[i_lat, np.where(rotation == rot_n)[\n",
        "                           0][0], i_n_examples, 1]) + position_y) * yolo_conversion\n",
        "                    w_o = bbox[i_lat, np.where(rotation == rot_n)[\n",
        "                        0][0], i_n_examples, 2] * yolo_conversion\n",
        "                    h_o = bbox[i_lat, np.where(rotation == rot_n)[\n",
        "                        0][0], i_n_examples, 3] * yolo_conversion\n",
        "\n",
        "                    limit_yolo = zmax * yolo_conversion\n",
        "\n",
        "                    # condition 1\n",
        "                    if (x_o < 0) and (y_o < 0) and (x_o+w_o <= limit_yolo) and (y_o+h_o > 0):\n",
        "                        x = 0\n",
        "                        y = 0\n",
        "                        w_ch = -x_o\n",
        "                        h_ch = -y_o\n",
        "                    # Condition 2\n",
        "                    elif (x_o >= 0) and (y_o < 0) and (x_o+w_o <= limit_yolo) and (y_o+h_o <= limit_yolo):\n",
        "                        x = x_o\n",
        "                        y = 0\n",
        "                        w_ch = 0\n",
        "                        h_ch = -y_o\n",
        "\n",
        "                    # Condition 3\n",
        "                    elif (x_o >= 0) and (y_o < 0) and (x_o+w_o > limit_yolo) and (y_o+h_o <= limit_yolo):\n",
        "                        x = x_o\n",
        "                        y = 0\n",
        "                        w_ch = (x_o+w_o) - limit_yolo\n",
        "                        h_ch = -y_o\n",
        "\n",
        "                    # Condition 4\n",
        "                    elif (x_o >= 0) and (y_o >= 0) and (x_o+w_o > limit_yolo) and (y_o+h_o <= limit_yolo):\n",
        "                        x = x_o\n",
        "                        y = y_o\n",
        "                        w_ch = (x_o+w_o) - limit_yolo\n",
        "                        h_ch = 0\n",
        "\n",
        "                    # Condition 5\n",
        "                    elif (x_o >= 0) and (y_o >= 0) and (x_o+w_o > limit_yolo) and (y_o+h_o > limit_yolo):\n",
        "                        x = x_o\n",
        "                        y = y_o\n",
        "                        w_ch = (x_o+w_o) - limit_yolo\n",
        "                        h_ch = (y_o+h_o) - limit_yolo\n",
        "\n",
        "                    # Condition 6\n",
        "                    elif (x_o >= 0) and (y_o >= 0) and (x_o+w_o <= limit_yolo) and (y_o+h_o > limit_yolo):\n",
        "                        x = x_o\n",
        "                        y = y_o\n",
        "                        w_ch = 0\n",
        "                        h_ch = (y_o+h_o) - limit_yolo\n",
        "\n",
        "                    # Condition 7\n",
        "                    elif (x_o < 0) and (y_o >= 0) and (x_o+w_o <= limit_yolo) and (y_o+h_o > limit_yolo):\n",
        "                        x = 0\n",
        "                        y = y_o\n",
        "                        w_ch = -x_o\n",
        "                        h_ch = (y_o+h_o) - limit_yolo\n",
        "\n",
        "                    # Condition 8:\n",
        "                    elif (x_o < 0) and (y_o >= 0) and (x_o+w_o <= limit_yolo) and (y_o+h_o <= limit_yolo):\n",
        "                        x = 0\n",
        "                        y = y_o\n",
        "                        w_ch = -x_o\n",
        "                        h_ch = 0\n",
        "\n",
        "                    else:\n",
        "                        x = x_o\n",
        "                        y = y_o\n",
        "                        w_ch = 0\n",
        "                        h_ch = 0\n",
        "\n",
        "                    bbox_f[i_lat, n_dipoles_i:, i_n_examples,\n",
        "                           1 + (5*n_dipoles_i)] = x\n",
        "                    bbox_f[i_lat, n_dipoles_i:, i_n_examples,\n",
        "                           2 + (5*n_dipoles_i)] = y\n",
        "                    bbox_f[i_lat, n_dipoles_i:, i_n_examples,\n",
        "                           3 + (5*n_dipoles_i)] = w_o - w_ch\n",
        "                    bbox_f[i_lat, n_dipoles_i:, i_n_examples,\n",
        "                           4 + (5*n_dipoles_i)] = h_o - h_ch\n",
        "\n",
        "    return X_data, Position, bbox_f, lat_f"
      ]
    },
    {
      "cell_type": "code",
      "execution_count": 20,
      "metadata": {
        "colab": {
          "base_uri": "https://localhost:8080/"
        },
        "id": "70x0fHqXqPhV",
        "outputId": "ca0e1da0-1ec5-40e0-942b-42f36d51adc8"
      },
      "outputs": [
        {
          "ename": "",
          "evalue": "",
          "output_type": "error",
          "traceback": [
            "\u001b[1;31mThe Kernel crashed while executing code in the the current cell or a previous cell. Please review the code in the cell(s) to identify a possible cause of the failure. Click <a href='https://aka.ms/vscodeJupyterKernelCrash'>here</a> for more info. View Jupyter <a href='command:jupyter.viewOutput'>log</a> for further details."
          ]
        }
      ],
      "source": [
        "#### Data augmentation ####\n",
        "N_models = 1\n",
        "\n",
        "### Number of dipoles and min distance between dipoles ###\n",
        "N_parameters_f = 3  # Latitude, Depth, Radius\n",
        "N_dipoles_f = 10\n",
        "\n",
        "##########################\n",
        "dist_min_i = 2  # meters, to avoid coalescence\n",
        "\n",
        "##########################\n",
        "rotation = np.arange(0, 360, 30)\n",
        "\n",
        "##########################\n",
        "new_size = 416\n",
        "\n",
        "##########################\n",
        "X_data_f = np.zeros((N_models, N_latitudes, N_dipoles_f,\n",
        "                    n_examples, new_size, new_size))\n",
        "Position_f = np.zeros(\n",
        "    (N_models, N_latitudes, N_dipoles_f, n_examples, 2*N_dipoles_f))\n",
        "bbox_f = np.zeros((N_models, N_latitudes, N_dipoles_f,\n",
        "                  n_examples, 5*N_dipoles_f))\n",
        "lat_array_f = np.zeros((N_models, N_latitudes, N_dipoles_f, n_examples, 1))\n",
        "\n",
        "for i_n_models in range(N_models):\n",
        "\n",
        "    X_data_f[i_n_models, :, :, :, :], Position_f[i_n_models, :, :, :, :], bbox_f[i_n_models, :, :, :, :], lat_array_f[i_n_models, :, :,  :, :] = X_array(N_dipoles_f, N_parameters_f, dist_min_i, X_data_array_raw, box_orientation, rotation, h_array, new_size, lat_array)\n",
        "\n",
        "    print(f\"Model: {i_n_models+1} ready\")"
      ]
    },
    {
      "cell_type": "code",
      "execution_count": null,
      "metadata": {},
      "outputs": [],
      "source": [
        "# 存储\n",
        "np.save(file=\"./data/X_data_f768.npy\", arr=X_data_f)\n",
        "np.save(file=\"./data/Position_f768.npy\", arr=Position_f)\n",
        "np.save(file=\"./data/bbox_f768.npy\", arr=bbox_f)\n",
        "np.save(file=\"./data/lat_array_f768.npy\", arr=lat_array_f)\n",
        "\n",
        "# 读取\n",
        "# X_data_f= np.load(file=\"./data/X_data_f.npy\")\n",
        "# Position_f= np.load(file=\"./data/Position_f.npy\")\n",
        "# bbox_f= np.load(file=\"./data/bbox_f.npy\")\n",
        "# lat_array_f= np.load(file=\"./data/lat_array_f.npy\")"
      ]
    },
    {
      "cell_type": "code",
      "execution_count": null,
      "metadata": {
        "colab": {
          "base_uri": "https://localhost:8080/",
          "height": 738
        },
        "id": "fRgSF4jbqbQE",
        "outputId": "0b8ac6b7-f902-4564-a608-1e5d90c5f767"
      },
      "outputs": [],
      "source": [
        "model_to_plot_l = np.random.randint(X_data_f.shape[3])\n",
        "# model_to_plot_l = 4\n",
        "\n",
        "data_augmentation_n = 0\n",
        "\n",
        "height_2 = 14\n",
        "width_2 = 8\n",
        "\n",
        "n_lat_to_plot = 1\n",
        "\n",
        "n_dipoles_tp = 8\n",
        "\n",
        "X_data_tp = X_data_f[data_augmentation_n, :, n_dipoles_tp-1, :, :, :]\n",
        "\n",
        "Plot_X_data(map_lenght, height_2, width_2, model_to_plot_l, X_data_tp, Position_f[data_augmentation_n, :, n_dipoles_tp-1, :, :],\n",
        "            bbox_f[data_augmentation_n, :, n_dipoles_tp-1, :, :], n_dipoles_tp, lat_array_f[data_augmentation_n, :, n_dipoles_tp-1, 0, :], n_lat_to_plot)"
      ]
    },
    {
      "cell_type": "code",
      "execution_count": null,
      "metadata": {
        "colab": {
          "base_uri": "https://localhost:8080/"
        },
        "id": "m3dI1U4Yqecl",
        "outputId": "15ce5135-5e77-485c-f075-a0d1f4e8334c"
      },
      "outputs": [],
      "source": [
        "X_data_f = np.moveaxis(X_data_f, 1, 0)\n",
        "Position_f = np.moveaxis(Position_f, 1, 0)\n",
        "bbox_f = np.moveaxis(bbox_f, 1, 0)\n",
        "lat_array_f = np.moveaxis(lat_array_f, 1, 0)\n",
        "\n",
        "print(f\"X_data shape: {X_data_f.shape}\")\n",
        "print(f\"Position shape: {Position_f.shape}\")\n",
        "print(f\"Box f shape: {bbox_f.shape}\")\n",
        "print(f\"Lat f shape: {lat_array_f.shape}\")"
      ]
    },
    {
      "cell_type": "markdown",
      "metadata": {
        "id": "4F-DVHHwkqFu"
      },
      "source": [
        "### rearranging database shape"
      ]
    },
    {
      "cell_type": "code",
      "execution_count": null,
      "metadata": {
        "id": "LHT41kXEkogH"
      },
      "outputs": [],
      "source": [
        "def rearrange_dipoles(X_data_array, bbox_f, Y_pos, lat_array_f):\n",
        "\n",
        "    X_data_array_final = X_data_array.reshape(\n",
        "        X_data_array.shape[0], X_data_array.shape[1]*X_data_array.shape[2]*X_data_array.shape[3], X_data_array.shape[4], X_data_array.shape[5])\n",
        "\n",
        "    bbox_final = bbox_f.reshape(bbox_f.shape[0], bbox_f.shape[1]*bbox_f.shape[2]*bbox_f.shape[3],\n",
        "                                bbox_f.shape[4])\n",
        "\n",
        "    Y_pos_final = Y_pos.reshape(Y_pos.shape[0], Y_pos.shape[1]*Y_pos.shape[2]*Y_pos.shape[3],\n",
        "                                Y_pos.shape[4])\n",
        "\n",
        "    lat_array_final = lat_array_f.reshape(lat_array_f.shape[0], lat_array_f.shape[1]*lat_array_f.shape[2]*lat_array_f.shape[3],\n",
        "                                          lat_array_f.shape[4])\n",
        "\n",
        "    return X_data_array_final, bbox_final, Y_pos_final, lat_array_final"
      ]
    },
    {
      "cell_type": "code",
      "execution_count": null,
      "metadata": {
        "id": "eRvgMh2ekuLm"
      },
      "outputs": [],
      "source": [
        "X_array_final, bbox_final, Y_position, lat_array_final = rearrange_dipoles(\n",
        "    X_data_f, bbox_f, Position_f, lat_array_f)"
      ]
    },
    {
      "cell_type": "code",
      "execution_count": null,
      "metadata": {
        "colab": {
          "base_uri": "https://localhost:8080/"
        },
        "id": "yHqyPc0Skun2",
        "outputId": "436c09b4-a4b9-438b-9973-d5589933cc0b"
      },
      "outputs": [],
      "source": [
        "print(f'X_data shape:{X_array_final.shape}')\n",
        "print(f'Y_position shape: {Y_position.shape}')\n",
        "print(f'bbox_final shape: {bbox_final.shape}')\n",
        "print(f'lat_array_final: {lat_array_final.shape}')"
      ]
    },
    {
      "cell_type": "code",
      "execution_count": null,
      "metadata": {
        "id": "iKq-2xylkwOX"
      },
      "outputs": [],
      "source": [
        "random_seed_2 = 10\n",
        "\n",
        "for lat_i in range(X_data_f.shape[0]):\n",
        "\n",
        "    X_array_final[lat_i, :] = shuffle(\n",
        "        X_array_final[lat_i, :], random_state=random_seed_2)\n",
        "    Y_position[lat_i, :] = shuffle(\n",
        "        Y_position[lat_i, :], random_state=random_seed_2)\n",
        "    bbox_final[lat_i, :] = shuffle(\n",
        "        bbox_final[lat_i, :], random_state=random_seed_2)\n",
        "    lat_array_final[lat_i, :] = shuffle(\n",
        "        lat_array_final[lat_i, :], random_state=random_seed_2)"
      ]
    },
    {
      "cell_type": "code",
      "execution_count": null,
      "metadata": {
        "id": "183Ilgo8kyaH"
      },
      "outputs": [],
      "source": [
        "train_rate = 0.70\n",
        "dev_rate = 0.25\n",
        "test_rate = 0.05\n",
        "\n",
        "examples_t = X_array_final.shape[1]\n",
        "\n",
        "X_train = X_array_final[0, :int(examples_t*train_rate), :, :]\n",
        "Y_pos_train = Y_position[0, :int(examples_t*train_rate), :]\n",
        "Bbox_train = bbox_final[0, :int(examples_t*train_rate), :]\n",
        "Lat_train = lat_array_final[0, :int(examples_t*train_rate), :]\n",
        "\n",
        "X_dev = X_array_final[0, int(examples_t*train_rate):int(examples_t*(train_rate+dev_rate)), :, :]\n",
        "Y_pos_dev = Y_position[0, int(examples_t*train_rate)\n",
        "                              :int(examples_t*(train_rate+dev_rate)), :]\n",
        "Bbox_dev = bbox_final[0, int(examples_t*train_rate)\n",
        "                             :int(examples_t*(train_rate+dev_rate)), :]\n",
        "Lat_dev = lat_array_final[0, int(\n",
        "    examples_t*train_rate):int(examples_t*(train_rate+dev_rate)), :]\n",
        "\n",
        "X_test = X_array_final[0, int(examples_t*(train_rate+dev_rate)):, :, :]\n",
        "Y_pos_test = Y_position[0, int(examples_t*(train_rate+dev_rate)):, :]\n",
        "Bbox_test = bbox_final[0, int(examples_t*(train_rate+dev_rate)):, :]\n",
        "Lat_test = lat_array_final[0, int(examples_t*(train_rate+dev_rate)):, :]"
      ]
    },
    {
      "cell_type": "code",
      "execution_count": null,
      "metadata": {
        "id": "ttd8W1ValBXG"
      },
      "outputs": [],
      "source": [
        "def rearrange_final(X_data_array, Y_pos, Bbox, Lat, N_dipoles_f):\n",
        "\n",
        "    X_data_array_final = X_data_array.reshape(\n",
        "        X_data_array.shape[0], X_data_array.shape[1], X_data_array.shape[2], 1)\n",
        "\n",
        "    Y_pos_final = Y_pos.reshape(Y_pos.shape[0], N_dipoles_f, 2)\n",
        "\n",
        "    Bbox_final = Bbox.reshape(Bbox.shape[0], N_dipoles_f, 5)\n",
        "\n",
        "    Lat_final = Lat.reshape(Lat.shape[0], 1)\n",
        "\n",
        "    return X_data_array_final, Y_pos_final, Bbox_final, Lat_final"
      ]
    },
    {
      "cell_type": "code",
      "execution_count": null,
      "metadata": {
        "id": "_cb15e75lDLl"
      },
      "outputs": [],
      "source": [
        "X_train, Y_pos_train, Bbox_train, Lat_train = rearrange_final(\n",
        "    X_train, Y_pos_train, Bbox_train, Lat_train, N_dipoles_f)\n",
        "\n",
        "X_dev, Y_pos_dev, Bbox_dev, Lat_dev = rearrange_final(\n",
        "    X_dev, Y_pos_dev, Bbox_dev, Lat_dev, N_dipoles_f)\n",
        "\n",
        "X_test, Y_pos_test, Bbox_test, Lat_test = rearrange_final(\n",
        "    X_test, Y_pos_test, Bbox_test, Lat_test, N_dipoles_f)"
      ]
    },
    {
      "cell_type": "code",
      "execution_count": null,
      "metadata": {
        "colab": {
          "base_uri": "https://localhost:8080/"
        },
        "id": "mlB1L2LGlE_l",
        "outputId": "d20014ed-329c-4121-a473-f68ab4cfa4ed"
      },
      "outputs": [],
      "source": [
        "print(X_train.shape, Bbox_train.shape, Y_pos_train.shape, Lat_train.shape)\n",
        "print(X_dev.shape, Bbox_dev.shape, Y_pos_dev.shape, Lat_dev.shape)\n",
        "print(X_test.shape, Bbox_test.shape, Y_pos_test.shape, Lat_test.shape)"
      ]
    },
    {
      "cell_type": "code",
      "execution_count": null,
      "metadata": {
        "id": "6397Q4rNlGLl"
      },
      "outputs": [],
      "source": [
        "def shuffle_final(X, pos, box, lat, random_seed_3):\n",
        "\n",
        "    X = shuffle(X[:], random_state=random_seed_3)\n",
        "    pos = shuffle(pos[:], random_state=random_seed_3)\n",
        "    box = shuffle(box[:], random_state=random_seed_3)\n",
        "    lat = shuffle(lat[:], random_state=random_seed_3)\n",
        "\n",
        "    return X, pos, box, lat"
      ]
    },
    {
      "cell_type": "code",
      "execution_count": null,
      "metadata": {
        "id": "j7H0aOpllIMy"
      },
      "outputs": [],
      "source": [
        "random_seed_3 = 30\n",
        "\n",
        "X_train, Y_pos_train, Bbox_train, Lat_train = shuffle_final(\n",
        "    X_train, Y_pos_train, Bbox_train, Lat_train, random_seed_3)\n",
        "X_dev, Y_pos_dev, Bbox_dev, Lat_dev = shuffle_final(\n",
        "    X_dev, Y_pos_dev, Bbox_dev, Lat_dev, random_seed_3)\n",
        "X_test, Y_pos_test, Bbox_test, Lat_test = shuffle_final(\n",
        "    X_test, Y_pos_test, Bbox_test, Lat_test, random_seed_3)"
      ]
    },
    {
      "cell_type": "code",
      "execution_count": null,
      "metadata": {
        "colab": {
          "base_uri": "https://localhost:8080/"
        },
        "id": "ajhHRqSQlJlV",
        "outputId": "60b01030-b46d-42f8-d5ac-c16ededca6c8"
      },
      "outputs": [],
      "source": [
        "print(\"Total examples: {:.0f}\".format(\n",
        "    X_train.shape[0]+X_dev.shape[0]+X_test.shape[0]))"
      ]
    },
    {
      "cell_type": "markdown",
      "metadata": {
        "id": "aUL62k0qlPGe"
      },
      "source": [
        "<a name='4.7'></a>\n",
        "### X,Y data visualization\n"
      ]
    },
    {
      "cell_type": "code",
      "execution_count": null,
      "metadata": {
        "colab": {
          "base_uri": "https://localhost:8080/",
          "height": 628
        },
        "id": "ojmD_VQGlLBF",
        "outputId": "487c6412-b831-43be-bddd-9694e550595e"
      },
      "outputs": [],
      "source": [
        "model_to_plot_l = int(np.random.randint(0, X_train.shape[0], 1))\n",
        "# model_to_plot_l = 9\n",
        "\n",
        "height_2 = 12\n",
        "width_2 = 6\n",
        "\n",
        "Plot_X_data_final(map_lenght, height_2, width_2, model_to_plot_l,\n",
        "                  X_train[:, :, :, 0], Y_pos_train[:, :, :], Bbox_train[:, :, :], N_dipoles_f, Lat_train, N_latitudes)"
      ]
    },
    {
      "cell_type": "markdown",
      "metadata": {
        "id": "HUzfI0IOla1_"
      },
      "source": [
        "### Adding Gaussian noise"
      ]
    },
    {
      "cell_type": "code",
      "execution_count": null,
      "metadata": {
        "id": "ALNn0CLZlbvG"
      },
      "outputs": [],
      "source": [
        "def gaussian_noise_models(mean, var, sigma, n_models_with_noise, zmax, X_data_array, Bbox, Y_pos):\n",
        "\n",
        "    X_data_array_with_noise = np.zeros(\n",
        "        (n_models_with_noise, zmax, zmax, X_data_array.shape[3]))\n",
        "    Bbox_f = np.zeros((n_models_with_noise, Bbox.shape[1], Bbox.shape[2]))\n",
        "    Y_pos_f = np.zeros((n_models_with_noise, Y_pos.shape[1], Y_pos.shape[2]))\n",
        "\n",
        "    n_i = random.sample(range(X_data_array.shape[0]-1), n_models_with_noise)\n",
        "\n",
        "    for i_noise_models in range(0, n_models_with_noise, 1):\n",
        "\n",
        "        m = n_i[i_noise_models]\n",
        "\n",
        "        if (0 > np.max(X_data_array[m, :, :, 0])) and (np.max(X_data_array[m, :, :, 0]) < 10):\n",
        "\n",
        "            var = 0.01\n",
        "\n",
        "        elif (-10 < np.min(X_data_array[m, :, :, 0])) and (np.min(X_data_array[m, :, :, 0]) < 0):\n",
        "\n",
        "            var = 0.01\n",
        "\n",
        "        elif (10 > np.max(X_data_array[m, :, :, 0])) and (np.max(X_data_array[m, :, :, 0]) < 100):\n",
        "\n",
        "            var = 1\n",
        "\n",
        "        elif (-100 < np.min(X_data_array[m, :, :, 0])) and (np.min(X_data_array[m, :, :, 0]) < -10):\n",
        "\n",
        "            var = 1\n",
        "\n",
        "        elif (100 > np.max(X_data_array[m, :, :, 0])) and (np.max(X_data_array[m, :, :, 0]) < 1000):\n",
        "\n",
        "            var = 5\n",
        "\n",
        "        elif (-1000 < np.min(X_data_array[m, :, :, 0])) and (np.min(X_data_array[m, :, :, 0]) < -100):\n",
        "\n",
        "            var = 5\n",
        "\n",
        "        else:\n",
        "            var = 10\n",
        "\n",
        "        sigma = var ** 0.5\n",
        "\n",
        "        gaussian = np.random.normal(mean, sigma, (zmax, zmax))\n",
        "\n",
        "        X_data_array_with_noise[i_noise_models, :, :,\n",
        "                                0] = X_data_array[m, :, :, 0] + gaussian\n",
        "\n",
        "        Bbox_f[i_noise_models, :, :] = Bbox[m, :, :]\n",
        "\n",
        "        Y_pos_f[i_noise_models, :, :] = Y_pos[m, :, :]\n",
        "\n",
        "    return X_data_array_with_noise, Bbox_f, Y_pos_f, n_i"
      ]
    },
    {
      "cell_type": "code",
      "execution_count": null,
      "metadata": {
        "id": "D-7j0GsulgQk"
      },
      "outputs": [],
      "source": [
        "Gaussian_noise_dict = {\n",
        "\n",
        "    \"mean\": 0,\n",
        "    \"var\": 0.1,\n",
        "    \"n_models_with_noise\": 100  # Number of models with noise\n",
        "\n",
        "}\n",
        "\n",
        "sigma = Gaussian_noise_dict['var'] ** 0.5\n",
        "\n",
        "X_data_array_with_noise, Bbox_train_noise, Y_pos_train_noise, n_i = gaussian_noise_models(Gaussian_noise_dict['mean'], Gaussian_noise_dict['var'],\n",
        "                                                                                          sigma, Gaussian_noise_dict[\n",
        "                                                                                              'n_models_with_noise'],\n",
        "                                                                                          X_train.shape[1], X_train, Bbox_train, Y_pos_train)"
      ]
    },
    {
      "cell_type": "markdown",
      "metadata": {
        "id": "h-U_nWMAlo3P"
      },
      "source": [
        "Gaussian noise models visualization"
      ]
    },
    {
      "cell_type": "code",
      "execution_count": null,
      "metadata": {
        "colab": {
          "base_uri": "https://localhost:8080/",
          "height": 916
        },
        "id": "dDpTrtCjljWC",
        "outputId": "a6daa639-4448-4dac-84de-e423dd0161a0"
      },
      "outputs": [],
      "source": [
        "height_2 = 10\n",
        "width_2 = 14\n",
        "\n",
        "X = np.linspace(0, new_size, new_size)\n",
        "Y = np.linspace(0, new_size, new_size)\n",
        "\n",
        "model_to_plot_l = int(np.random.randint(\n",
        "    0, X_data_array_with_noise.shape[0]-1, 1))\n",
        "# model_to_plot_l = 436\n",
        "print(model_to_plot_l)\n",
        "\n",
        "##############################\n",
        "\n",
        "fig, axs = plt.subplots(2, 2, figsize=(width_2, height_2))\n",
        "\n",
        "axs = axs.ravel()\n",
        "\n",
        "cp_0 = axs[0].contourf(X, Y, X_train[n_i[model_to_plot_l],\n",
        "                       :, :, 0], levels=50, cmap='rainbow')\n",
        "axs[0].set_xlabel('Position X (m)')\n",
        "# axs[0].set_xticks(np.arange(-25, 25, step=5))\n",
        "axs[0].set_ylabel('Position Y (m)')\n",
        "# axs[0].set_yticks(np.arange(-25, 25, step=5))\n",
        "clb = plt.colorbar(cp_0, ax=axs[0])\n",
        "\n",
        "cp_1 = axs[1].contourf(\n",
        "    X, Y, X_train[n_i[model_to_plot_l+1], :, :, 0], levels=50, cmap='rainbow')\n",
        "axs[1].set_xlabel('Position X (m)')\n",
        "# axs[1].set_xticks(np.arange(-25, 25, step=5))\n",
        "axs[1].set_ylabel('Position Y (m)')\n",
        "# axs[1].set_yticks(np.arange(-25, 25, step=5))\n",
        "clb = plt.colorbar(cp_1, ax=axs[1])\n",
        "\n",
        "cp_2 = axs[2].contourf(\n",
        "    X, Y, X_data_array_with_noise[model_to_plot_l, :, :, 0], levels=50, cmap='rainbow')\n",
        "axs[2].set_xlabel('Position X (m)')\n",
        "# axs[2].set_xticks(np.arange(-25, 25, step=5))\n",
        "axs[2].set_ylabel('Position Y (m)')\n",
        "# axs[2].set_yticks(np.arange(-25, 25, step=5))\n",
        "for n_ii in range(N_dipoles_f):\n",
        "    x0 = Bbox_train_noise[model_to_plot_l, n_ii, 1]\n",
        "    y0 = Bbox_train_noise[model_to_plot_l, n_ii, 2]\n",
        "    bwidth = Bbox_train_noise[model_to_plot_l, n_ii, 3]\n",
        "    bheight = Bbox_train_noise[model_to_plot_l, n_ii, 4]\n",
        "    # print(f\"Dipole_{n_ii}: x0: {np.round(x0,1)}, y0: {np.round(y0,1)}, w: {round(bwidth,1)}, h:{round(bheight,1)}\")\n",
        "    axs[2].add_patch(Rectangle((x0, y0), bwidth, bheight,\n",
        "                     edgecolor='r', facecolor=\"none\"))\n",
        "clb = plt.colorbar(cp_2, ax=axs[2])\n",
        "\n",
        "cp_3 = axs[3].contourf(\n",
        "    X, Y, X_data_array_with_noise[model_to_plot_l+1, :, :, 0], levels=18, cmap='rainbow')\n",
        "axs[3].set_xlabel('Position X (m)')\n",
        "# axs[3].set_xticks(np.arange(-25, 25, step=5))\n",
        "axs[3].set_ylabel('Position Y (m)')\n",
        "# axs[3].set_yticks(np.arange(-25, 25, step=5))\n",
        "for n_ii in range(N_dipoles_f):\n",
        "    x0 = Bbox_train_noise[model_to_plot_l+1, n_ii, 1]\n",
        "    y0 = Bbox_train_noise[model_to_plot_l+1, n_ii, 2]\n",
        "    bwidth = Bbox_train_noise[model_to_plot_l+1, n_ii, 3]\n",
        "    bheight = Bbox_train_noise[model_to_plot_l+1, n_ii, 4]\n",
        "    print(\n",
        "        f\"Dipole_{n_ii}: x0: {np.round(Y_pos_train_noise[model_to_plot_l+1,n_ii,0],1)}, y0: {np.round(Y_pos_train_noise[model_to_plot_l+1,n_ii,1],1)}, w: {round(bwidth,1)}, h:{round(bheight,1)}\")\n",
        "    axs[3].add_patch(Rectangle((x0, y0), bwidth, bheight,\n",
        "                     edgecolor='r', facecolor=\"none\"))\n",
        "clb = plt.colorbar(cp_3, ax=axs[3])\n",
        "\n",
        "\n",
        "plt.tight_layout()"
      ]
    },
    {
      "cell_type": "code",
      "execution_count": null,
      "metadata": {
        "id": "POlu-dcplwzj"
      },
      "outputs": [],
      "source": [
        "X_train = np.concatenate((X_train, X_data_array_with_noise), axis=0)\n",
        "Bbox_train = np.concatenate((Bbox_train, Bbox_train_noise), axis=0)\n",
        "Y_pos_train = np.concatenate((Y_pos_train, Y_pos_train_noise), axis=0)"
      ]
    },
    {
      "cell_type": "code",
      "execution_count": null,
      "metadata": {
        "id": "3ZhaaL8Ily0g"
      },
      "outputs": [],
      "source": [
        "random_seed_3 = 128\n",
        "\n",
        "X_train = shuffle(X_train[:], random_state=random_seed_3)\n",
        "Bbox_train = shuffle(Bbox_train[:], random_state=random_seed_3)\n",
        "Y_pos_train = shuffle(Y_pos_train[:], random_state=random_seed_3)"
      ]
    },
    {
      "cell_type": "code",
      "execution_count": null,
      "metadata": {
        "colab": {
          "base_uri": "https://localhost:8080/"
        },
        "id": "GLs-Qu50l_Ug",
        "outputId": "f95b04c5-080b-4d65-ef31-fec47f226d8f"
      },
      "outputs": [],
      "source": [
        "N_total_examples = X_train.shape[0] + X_dev.shape[0] + X_test.shape[0]\n",
        "\n",
        "print(f'Total number of examples : {N_total_examples}')\n",
        "print(f'Train : {X_train.shape[0]}')\n",
        "print(f'Dev : {X_dev.shape[0]}')\n",
        "print(f'Test : {X_test.shape[0]}')"
      ]
    },
    {
      "cell_type": "markdown",
      "metadata": {
        "id": "9P5YEfHEmFdS"
      },
      "source": [
        "### 4.8 YOLO format"
      ]
    },
    {
      "cell_type": "code",
      "execution_count": null,
      "metadata": {
        "id": "JuOmLV0tmEhe"
      },
      "outputs": [],
      "source": [
        "def convert_to_YOLO(IMG_size, X_array, Y_position, bbox_f, flag):\n",
        "\n",
        "    YOLO_box = np.zeros((bbox_f.shape[0], N_dipoles_f, 5))\n",
        "\n",
        "    for bb_n_models in range(bbox_f.shape[0]):\n",
        "\n",
        "        # Normalize between 0 - 1\n",
        "\n",
        "        image = (X_array[bb_n_models, :, :, :] - np.min(X_array[bb_n_models, :, :, :])) / (\n",
        "            np.max(X_array[bb_n_models, :, :, :]) - np.min(X_array[bb_n_models, :, :, :]))\n",
        "\n",
        "        # Converting to rgb\n",
        "\n",
        "        image_t = np.uint8(image * 255)\n",
        "        image_t = cv2.cvtColor(image_t, cv2.COLOR_GRAY2RGB)\n",
        "\n",
        "        # Saving image\n",
        "\n",
        "        im = Image.fromarray(image_t)\n",
        "        im.save(f\"{flag}_{bb_n_models+1}_{theta_range_num}.jpg\")\n",
        "\n",
        "        for bb_n_dipoles in range(bbox_f.shape[1]):\n",
        "\n",
        "            YOLO_box[bb_n_models, bb_n_dipoles,\n",
        "                     0] = bbox_f[bb_n_models, bb_n_dipoles, 0]\n",
        "            YOLO_box[bb_n_models, bb_n_dipoles,\n",
        "                     1] = Y_position[bb_n_models, bb_n_dipoles, 0] / IMG_size[0]\n",
        "            YOLO_box[bb_n_models, bb_n_dipoles,\n",
        "                     2] = Y_position[bb_n_models, bb_n_dipoles, 1] / IMG_size[0]\n",
        "            YOLO_box[bb_n_models, bb_n_dipoles, 3] = (\n",
        "                bbox_f[bb_n_models, bb_n_dipoles, 3]) / IMG_size[0]\n",
        "            YOLO_box[bb_n_models, bb_n_dipoles, 4] = (\n",
        "                bbox_f[bb_n_models, bb_n_dipoles, 4]) / IMG_size[0]\n",
        "\n",
        "            if bb_n_dipoles == 0:\n",
        "\n",
        "                with open(f\"{flag}_{bb_n_models+1}.txt\", \"w\") as f:\n",
        "\n",
        "                    f.write(str(int(YOLO_box[bb_n_models, bb_n_dipoles, 0])) + ' ' + str(YOLO_box[bb_n_models, bb_n_dipoles, 1]) + ' ' + str(\n",
        "                        YOLO_box[bb_n_models, bb_n_dipoles, 2]) + ' ' + str(YOLO_box[bb_n_models, bb_n_dipoles, 3]) + ' ' + str(YOLO_box[bb_n_models, bb_n_dipoles, 4]))\n",
        "\n",
        "            else:\n",
        "\n",
        "                if YOLO_box[bb_n_models, bb_n_dipoles, 3] != 0:\n",
        "\n",
        "                    with open(f\"{flag}_{bb_n_models+1}.txt\", \"a\") as f:\n",
        "\n",
        "                        f.write('\\n' + str(int(YOLO_box[bb_n_models, bb_n_dipoles, 0])) + ' ' + str(YOLO_box[bb_n_models, bb_n_dipoles, 1]) + ' ' + str(\n",
        "                            YOLO_box[bb_n_models, bb_n_dipoles, 2]) + ' ' + str(YOLO_box[bb_n_models, bb_n_dipoles, 3]) + ' ' + str(YOLO_box[bb_n_models, bb_n_dipoles, 4]))"
      ]
    },
    {
      "cell_type": "code",
      "execution_count": null,
      "metadata": {},
      "outputs": [],
      "source": [
        "os.getcwd()"
      ]
    },
    {
      "cell_type": "code",
      "execution_count": null,
      "metadata": {},
      "outputs": [],
      "source": [
        "os.chdir('../Model_training/data/')"
      ]
    },
    {
      "cell_type": "code",
      "execution_count": null,
      "metadata": {
        "id": "qM8SMbINmKUM"
      },
      "outputs": [],
      "source": [
        "IMG_size = (new_size, new_size)\n",
        "\n",
        "\n",
        "os.chdir(\"obj\")\n",
        "\n",
        "convert_to_YOLO(IMG_size, X_train, Y_pos_train, Bbox_train, flag='train')\n",
        "\n",
        "os.chdir(\"../test\")\n",
        "\n",
        "convert_to_YOLO(IMG_size, X_dev, Y_pos_dev, Bbox_dev, flag='dev')\n",
        "\n",
        "os.chdir(\"../after_training\")\n",
        "\n",
        "convert_to_YOLO(IMG_size, X_test, Y_pos_test, Bbox_test, flag='test')"
      ]
    },
    {
      "cell_type": "code",
      "execution_count": null,
      "metadata": {
        "id": "Sd0WWqfp0Z1k"
      },
      "outputs": [],
      "source": []
    }
  ],
  "metadata": {
    "accelerator": "GPU",
    "colab": {
      "collapsed_sections": [],
      "name": "Creating_synthetic_data.ipynb",
      "provenance": []
    },
    "kernelspec": {
      "display_name": "Python 3",
      "name": "python3"
    },
    "language_info": {
      "codemirror_mode": {
        "name": "ipython",
        "version": 3
      },
      "file_extension": ".py",
      "mimetype": "text/x-python",
      "name": "python",
      "nbconvert_exporter": "python",
      "pygments_lexer": "ipython3",
      "version": "3.9.18"
    }
  },
  "nbformat": 4,
  "nbformat_minor": 0
}
