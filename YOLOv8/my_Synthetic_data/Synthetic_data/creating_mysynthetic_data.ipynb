{
 "cells": [
  {
   "cell_type": "markdown",
   "metadata": {},
   "source": [
    "# 创建椭球体模型\n"
   ]
  },
  {
   "cell_type": "markdown",
   "metadata": {},
   "source": [
    "## 导入模块\n"
   ]
  },
  {
   "cell_type": "code",
   "execution_count": 9,
   "metadata": {},
   "outputs": [],
   "source": [
    "import numpy as np\n",
    "import matplotlib.pyplot as plt\n",
    "from matplotlib.patches import Rectangle \n",
    "%matplotlib inline\n",
    "\n",
    "import os\n",
    "from sklearn.utils import shuffle \n",
    "import random\n",
    "from skimage import draw\n",
    "import pandas as pd\n",
    "\n",
    "\n",
    "from PIL import Image\n",
    "\n",
    "import seaborn as sns\n",
    "sns.set()\n",
    "\n",
    "from sklearn.utils import shuffle \n",
    "\n",
    "#%matplotlib notebook\n",
    "np.set_printoptions(suppress=True)"
   ]
  },
  {
   "cell_type": "code",
   "execution_count": 10,
   "metadata": {},
   "outputs": [
    {
     "data": {
      "text/plain": [
       "'/home/jiajianhao/文档/cnn/Magnetic_methods-master/YOLO/Synthetic_data'"
      ]
     },
     "execution_count": 10,
     "metadata": {},
     "output_type": "execute_result"
    }
   ],
   "source": [
    "os.getcwd()"
   ]
  },
  {
   "cell_type": "code",
   "execution_count": 11,
   "metadata": {},
   "outputs": [],
   "source": [
    "# from My_Utils import * # all the fungamations gamareated that will be useful\n",
    "# all the functions created that will be useful\n",
    "from My_Utils_Magnetic_methods import *\n",
    "# 设置画图语言为雅黑体\n",
    "plt.rcParams['font.sans-serif'] = ['WenQuanYi Zen Hei']\n",
    "plt.rcParams ['axes.unicode_minus'] = False"
   ]
  },
  {
   "cell_type": "markdown",
   "metadata": {},
   "source": [
    "## 创建模型类\n",
    "[椭球体模型参考文献](https://academic.oup.com/gji/article/220/1/37/5571818)"
   ]
  },
  {
   "cell_type": "code",
   "execution_count": 12,
   "metadata": {},
   "outputs": [],
   "source": [
    "class MyModel(object):\n",
    "    miu_0 = 4 * np.pi * (1e-7)  # μ0为真空磁导率\n",
    "\n",
    "    def __init__(self,map_length=25,zmax=100, a=0.4, b=0.1, c=0.1, \n",
    "                gama=90.0, theta=0.0, phi=-5.0, x=0, y=0, z=1.5, b_0=55000.0, I=70.0, D=3.5) -> None:\n",
    "\n",
    "        self.map_length = map_length\n",
    "        self.zmax = zmax\n",
    "        self.X = np.linspace(-map_length, map_length, zmax)  # 0,1,...x\n",
    "        self.Y = np.linspace(-map_length, map_length, zmax)\n",
    "        self.center = [x, y, z]  # 中心点坐标\n",
    "        self.axis = [a, b, c]  # 三个轴长 a> b > c\n",
    "        self.D = np.radians(D)  # 磁偏角\n",
    "        self.I = np.radians(I)  # 磁倾角\n",
    "        # self.I = np.arctan(2*np.tan(np.radians(I)))  # 磁倾角\n",
    "        self.b_0 = b_0\n",
    "        self.B_0 = self.__dicichang()\n",
    "\n",
    "        if b == c:\n",
    "            self.axis = [a, b, b]\n",
    "            self.e = a/b  # 横纵轴比\n",
    "        # 椭球的方向\n",
    "        self.gama = gama\n",
    "        self.theta = theta\n",
    "        self.phi = phi\n",
    "        # 转为rad值\n",
    "        self.gama_rad = np.radians(self.gama)\n",
    "        self.theta_rad = np.radians(self.theta)\n",
    "        self.phi_rad = np.radians(self.phi)\n",
    "\n",
    "        self.V = self.__volme()  # 体积\n",
    "        self.A = self.__euler_angles()  # 欧拉旋转角\n",
    "        self.X_d = self.__effective_permeability_matrix()  # 计算有效磁化率矩阵\n",
    "        self.m_i = self.__total_magnetic_dipole_moment()  # 总磁偶极矩\n",
    "        self.F = self.__ji_suan_yi_chang()\n",
    "\n",
    "    # 计算体积\n",
    "\n",
    "    def __volme(self):\n",
    "        return 4/3*np.pi*self.axis[0]*self.axis[1]*self.axis[2]\n",
    "\n",
    "    # 计算地磁场\n",
    "    def __dicichang(self):\n",
    "        b0 = self.b_0 * np.array([np.cos(self.I)*np.cos(self.D),\n",
    "                                 np.cos(self.I)*np.sin(self.D), np.sin(self.I)])\n",
    "        return b0\n",
    "    # 计算欧拉旋转角\n",
    "\n",
    "    def __euler_angles(self):\n",
    "        A = np.array([\n",
    "            [np.cos(self.gama_rad) * np.cos(self.phi_rad), -np.cos(self.gama_rad)\n",
    "             * np.sin(self.phi_rad), -np.sin(self.gama_rad)],\n",
    "            [np.sin(self.theta_rad) * np.sin(self.gama_rad) * np.cos(self.phi_rad) + np.cos(self.theta_rad) * np.sin(self.phi_rad),\n",
    "             -np.sin(self.theta_rad) * np.sin(self.gama_rad) *\n",
    "             np.sin(self.phi_rad) + np.cos(self.theta_rad) *\n",
    "             np.sin(self.phi_rad),\n",
    "             np.sin(self.theta_rad) * np.cos(self.gama_rad)],\n",
    "            [np.cos(self.theta_rad) * np.sin(self.gama_rad) * np.cos(self.phi_rad) - np.sin(self.theta_rad) * np.sin(self.phi_rad),\n",
    "             -np.cos(self.theta_rad) * np.sin(self.gama_rad) *\n",
    "             np.sin(self.phi_rad) - np.sin(self.theta_rad) *\n",
    "             np.cos(self.gama_rad),\n",
    "             np.cos(self.theta_rad) * np.cos(self.gama_rad)]\n",
    "        ])\n",
    "        return A\n",
    "\n",
    "    # 计算有效磁化率矩阵\n",
    "    def __effective_permeability_matrix(self):\n",
    "        E = np.log(self.e - np.sqrt(self.e**2 - 1)) / np.sqrt(self.e**2 - 1)\n",
    "        print(E)\n",
    "        alpha_1 = (self.e * (self.e + E)) / (self.e**2 - 1)\n",
    "        alpha_3 = (-2 * self.e * (self.e**(-1) + E)) / (self.e**2 - 1)\n",
    "        alpha_2 = (self.e * (self.e + E)) / (self.e**2 - 1)\n",
    "        v = [2/alpha_1, 2/alpha_2, 2/alpha_3]\n",
    "        X_d = np.diag(v)\n",
    "        return X_d\n",
    "\n",
    "    # 计算总磁偶极矩\n",
    "\n",
    "    def __total_magnetic_dipole_moment(self):\n",
    "        m_i = (self.V/MyModel.miu_0)*self.A.T @ self.X_d @ self.A @ self.B_0\n",
    "\n",
    "        return m_i\n",
    "\n",
    "    def __ji_suan_yi_chang(self):\n",
    "        X = self.X\n",
    "        Y = self.Y\n",
    "        miu_0 = MyModel.miu_0\n",
    "        m_i = self.m_i\n",
    "        I = self.I\n",
    "        D = self.D\n",
    "        Z = 0\n",
    "        x_0, y_0, z_0 = self.center\n",
    "        X_0, Y_0 = np.meshgrid(X, Y)\n",
    "        igrf = np.array([np.cos(I)*np.cos(D), np.cos(I) *\n",
    "                        np.sin(D), np.sin(I)], dtype=float)\n",
    "        self.igrf = igrf\n",
    "        temp1 = np.empty_like(X_0, dtype=float)\n",
    "        temp2 = np.empty_like(X_0, dtype=float)\n",
    "        temp3 = np.empty_like(X_0, dtype=float)\n",
    "        temp4 = np.empty_like(X_0, dtype=object)\n",
    "        temp5 = np.empty_like(X_0, dtype=object)\n",
    "        b = np.empty_like(X_0, dtype=object)\n",
    "        F1 = np.empty_like(X_0, dtype=float)\n",
    "        for i in range(X_0.shape[0]):\n",
    "            for j in range(Y_0.shape[1]):\n",
    "                R = np.array([X_0[i, j] - x_0, Y_0[i, j] -\n",
    "                             y_0, Z - z_0], dtype=float)\n",
    "                RR = np.linalg.norm(R)\n",
    "                temp1[i, j] = miu_0 / (4 * np.pi * RR ** 3)\n",
    "                temp2[i, j] = 3 / RR ** 2\n",
    "                temp3[i, j] = np.dot(R, m_i)\n",
    "                temp4[i, j] = temp3[i, j] * R\n",
    "                temp5[i, j] = temp2[i, j] * temp4[i, j] - m_i\n",
    "                b[i, j] = temp1[i, j] * temp5[i, j]\n",
    "\n",
    "                F1[i, j] = b[i, j] @ igrf.T\n",
    "\n",
    "        return F1\n",
    "\n",
    "    def plot_F_dengzhixian(self):\n",
    "        # 绘制干扰场强度等值线图\n",
    "        plt.contourf(self.X)\n",
    "        plt.xlabel('Easting (m)')\n",
    "        plt.ylabel('Northing (m)')\n",
    "        plt.colorbar(label='nT')\n",
    "        plt.show()\n",
    "\n",
    "    def plot_F_sandian_test(self):\n",
    "        X = self.X\n",
    "        Y = self.Y\n",
    "        x_0, y_0, z_0 = self.center\n",
    "        X_0, Y_0 = np.meshgrid(X, Y)\n",
    "        fig = plt.figure(figsize=(10, 8))\n",
    "        ax = fig.add_subplot(111)\n",
    "        ax.imshow(self.F.reshape(X.size, Y.size), extent=[\n",
    "                  X.min(), X.max(), Y.min(), Y.max()], cmap='viridis')\n",
    "        ax.set_xlabel('X')\n",
    "        ax.set_ylabel('Y')\n",
    "    \n",
    "    def plot_F_sandian(self):\n",
    "        X = self.X\n",
    "        Y = self.Y\n",
    "        x_0, y_0, z_0 = self.center\n",
    "        X_0, Y_0 = np.meshgrid(X, Y)\n",
    "        fig = plt.figure(figsize=(10, 8))\n",
    "        ax = fig.add_subplot(111)\n",
    "        cp = ax.contourf(X, Y, self.F,levels=16, cmap='rainbow')\n",
    "        ax.set_xlabel('位置X (m)')\n",
    "        ax.set_ylabel('位置Y (m)')\n",
    "        ax.set_xticks(np.arange(-25, 25, step=2))\n",
    "        ax.set_yticks(np.arange(-25, 25, step=2))\n",
    "        clb = fig.colorbar(cp,ax=ax)\n",
    "        clb.set_label('磁通密度 (nT)',labelpad=15, y=0.5, rotation=270)\n",
    "        plt.tight_layout()\n"
   ]
  },
  {
   "cell_type": "code",
   "execution_count": 13,
   "metadata": {},
   "outputs": [
    {
     "name": "stdout",
     "output_type": "stream",
     "text": [
      "-0.5327771602519704\n"
     ]
    }
   ],
   "source": [
    "test = MyModel()\n",
    "a = test.e"
   ]
  }
 ],
 "metadata": {
  "kernelspec": {
   "display_name": "tensorflow",
   "language": "python",
   "name": "python3"
  },
  "language_info": {
   "codemirror_mode": {
    "name": "ipython",
    "version": 3
   },
   "file_extension": ".py",
   "mimetype": "text/x-python",
   "name": "python",
   "nbconvert_exporter": "python",
   "pygments_lexer": "ipython3",
   "version": "3.9.18"
  }
 },
 "nbformat": 4,
 "nbformat_minor": 2
}
