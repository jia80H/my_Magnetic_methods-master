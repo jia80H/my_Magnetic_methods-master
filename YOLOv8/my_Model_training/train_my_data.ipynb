{
 "cells": [
  {
   "cell_type": "markdown",
   "metadata": {},
   "source": [
    "## import libraries"
   ]
  },
  {
   "cell_type": "code",
   "execution_count": 1,
   "metadata": {},
   "outputs": [],
   "source": [
    "from ultralytics import YOLO\n"
   ]
  },
  {
   "cell_type": "code",
   "execution_count": 2,
   "metadata": {},
   "outputs": [],
   "source": [
    "from Utils.Utils_YOLO import *"
   ]
  },
  {
   "cell_type": "code",
   "execution_count": 3,
   "metadata": {},
   "outputs": [
    {
     "data": {
      "text/plain": [
       "'/home/jiajianhao/文档/cnn/my_Magnetic_methods-master/YOLOv8/my_Model_training'"
      ]
     },
     "execution_count": 3,
     "metadata": {},
     "output_type": "execute_result"
    }
   ],
   "source": [
    "# useful function\n",
    "import os\n",
    "os.getcwd()"
   ]
  },
  {
   "cell_type": "markdown",
   "metadata": {},
   "source": [
    "## fit my data"
   ]
  },
  {
   "cell_type": "code",
   "execution_count": 4,
   "metadata": {},
   "outputs": [
    {
     "name": "stdout",
     "output_type": "stream",
     "text": [
      "Transferred 355/355 items from pretrained weights\n"
     ]
    }
   ],
   "source": [
    "model = YOLO('yolov8n.yaml').load('yolov8n.pt')"
   ]
  },
  {
   "cell_type": "code",
   "execution_count": 5,
   "metadata": {},
   "outputs": [
    {
     "name": "stdout",
     "output_type": "stream",
     "text": [
      "New https://pypi.org/project/ultralytics/8.1.42 available 😃 Update with 'pip install -U ultralytics'\n",
      "Ultralytics YOLOv8.1.29 🚀 Python-3.9.18 torch-2.2.1+cu121 CUDA:0 (Tesla P100-PCIE-16GB, 16276MiB)\n",
      "\u001b[34m\u001b[1mengine/trainer: \u001b[0mtask=detect, mode=train, model=yolov8n.yaml, data=./parameters/qiu_data.yaml, epochs=10, time=None, patience=100, batch=16, imgsz=640, save=True, save_period=-1, cache=False, device=None, workers=8, project=None, name=train, exist_ok=False, pretrained=True, optimizer=auto, verbose=True, seed=0, deterministic=True, single_cls=False, rect=False, cos_lr=False, close_mosaic=10, resume=False, amp=True, fraction=1.0, profile=False, freeze=None, multi_scale=False, overlap_mask=True, mask_ratio=4, dropout=0.0, val=True, split=val, save_json=False, save_hybrid=False, conf=None, iou=0.7, max_det=300, half=False, dnn=False, plots=True, source=None, vid_stride=1, stream_buffer=False, visualize=False, augment=False, agnostic_nms=False, classes=None, retina_masks=False, embed=None, show=False, save_frames=False, save_txt=False, save_conf=False, save_crop=False, show_labels=True, show_conf=True, show_boxes=True, line_width=None, format=torchscript, keras=False, optimize=False, int8=False, dynamic=False, simplify=False, opset=None, workspace=4, nms=False, lr0=0.01, lrf=0.01, momentum=0.937, weight_decay=0.0005, warmup_epochs=3.0, warmup_momentum=0.8, warmup_bias_lr=0.1, box=7.5, cls=0.5, dfl=1.5, pose=12.0, kobj=1.0, label_smoothing=0.0, nbs=64, hsv_h=0.015, hsv_s=0.7, hsv_v=0.4, degrees=0.0, translate=0.1, scale=0.5, shear=0.0, perspective=0.0, flipud=0.0, fliplr=0.5, mosaic=1.0, mixup=0.0, copy_paste=0.0, auto_augment=randaugment, erasing=0.4, crop_fraction=1.0, cfg=None, tracker=botsort.yaml, save_dir=runs/detect/train\n",
      "Overriding model.yaml nc=80 with nc=1\n",
      "\n",
      "                   from  n    params  module                                       arguments                     \n",
      "  0                  -1  1       464  ultralytics.nn.modules.conv.Conv             [3, 16, 3, 2]                 \n",
      "  1                  -1  1      4672  ultralytics.nn.modules.conv.Conv             [16, 32, 3, 2]                \n",
      "  2                  -1  1      7360  ultralytics.nn.modules.block.C2f             [32, 32, 1, True]             \n",
      "  3                  -1  1     18560  ultralytics.nn.modules.conv.Conv             [32, 64, 3, 2]                \n",
      "  4                  -1  2     49664  ultralytics.nn.modules.block.C2f             [64, 64, 2, True]             \n",
      "  5                  -1  1     73984  ultralytics.nn.modules.conv.Conv             [64, 128, 3, 2]               \n",
      "  6                  -1  2    197632  ultralytics.nn.modules.block.C2f             [128, 128, 2, True]           \n",
      "  7                  -1  1    295424  ultralytics.nn.modules.conv.Conv             [128, 256, 3, 2]              \n",
      "  8                  -1  1    460288  ultralytics.nn.modules.block.C2f             [256, 256, 1, True]           \n",
      "  9                  -1  1    164608  ultralytics.nn.modules.block.SPPF            [256, 256, 5]                 \n",
      " 10                  -1  1         0  torch.nn.modules.upsampling.Upsample         [None, 2, 'nearest']          \n",
      " 11             [-1, 6]  1         0  ultralytics.nn.modules.conv.Concat           [1]                           \n",
      " 12                  -1  1    148224  ultralytics.nn.modules.block.C2f             [384, 128, 1]                 \n",
      " 13                  -1  1         0  torch.nn.modules.upsampling.Upsample         [None, 2, 'nearest']          \n",
      " 14             [-1, 4]  1         0  ultralytics.nn.modules.conv.Concat           [1]                           \n",
      " 15                  -1  1     37248  ultralytics.nn.modules.block.C2f             [192, 64, 1]                  \n",
      " 16                  -1  1     36992  ultralytics.nn.modules.conv.Conv             [64, 64, 3, 2]                \n",
      " 17            [-1, 12]  1         0  ultralytics.nn.modules.conv.Concat           [1]                           \n",
      " 18                  -1  1    123648  ultralytics.nn.modules.block.C2f             [192, 128, 1]                 \n",
      " 19                  -1  1    147712  ultralytics.nn.modules.conv.Conv             [128, 128, 3, 2]              \n",
      " 20             [-1, 9]  1         0  ultralytics.nn.modules.conv.Concat           [1]                           \n",
      " 21                  -1  1    493056  ultralytics.nn.modules.block.C2f             [384, 256, 1]                 \n",
      " 22        [15, 18, 21]  1    751507  ultralytics.nn.modules.head.Detect           [1, [64, 128, 256]]           \n",
      "YOLOv8n summary: 225 layers, 3011043 parameters, 3011027 gradients, 8.2 GFLOPs\n",
      "\n",
      "Transferred 319/355 items from pretrained weights\n",
      "\u001b[34m\u001b[1mTensorBoard: \u001b[0mStart with 'tensorboard --logdir runs/detect/train', view at http://localhost:6006/\n",
      "Freezing layer 'model.22.dfl.conv.weight'\n",
      "\u001b[34m\u001b[1mAMP: \u001b[0mrunning Automatic Mixed Precision (AMP) checks with YOLOv8n...\n",
      "\u001b[34m\u001b[1mAMP: \u001b[0mchecks passed ✅\n"
     ]
    },
    {
     "name": "stderr",
     "output_type": "stream",
     "text": [
      "\u001b[34m\u001b[1mtrain: \u001b[0mScanning /home/jiajianhao/文档/cnn/my_Magnetic_methods-master/YOLOv8/my_Model_training/data/qiu_data/train... 2867 images, 0 backgrounds, 0 corrupt: 100%|██████████| 2867/2867 [00:02<00:00, 1215.05it/s]"
     ]
    },
    {
     "name": "stdout",
     "output_type": "stream",
     "text": [
      "\u001b[34m\u001b[1mtrain: \u001b[0mWARNING ⚠️ /home/jiajianhao/文档/cnn/my_Magnetic_methods-master/YOLOv8/my_Model_training/data/qiu_data/train/train_1306.jpg: 1 duplicate labels removed\n",
      "\u001b[34m\u001b[1mtrain: \u001b[0mWARNING ⚠️ /home/jiajianhao/文档/cnn/my_Magnetic_methods-master/YOLOv8/my_Model_training/data/qiu_data/train/train_6.jpg: 1 duplicate labels removed\n"
     ]
    },
    {
     "name": "stderr",
     "output_type": "stream",
     "text": [
      "\n"
     ]
    },
    {
     "name": "stdout",
     "output_type": "stream",
     "text": [
      "\u001b[34m\u001b[1mtrain: \u001b[0mNew cache created: /home/jiajianhao/文档/cnn/my_Magnetic_methods-master/YOLOv8/my_Model_training/data/qiu_data/train.cache\n"
     ]
    },
    {
     "name": "stderr",
     "output_type": "stream",
     "text": [
      "\u001b[34m\u001b[1mval: \u001b[0mScanning /home/jiajianhao/文档/cnn/my_Magnetic_methods-master/YOLOv8/my_Model_training/data/qiu_data/val... 1024 images, 0 backgrounds, 0 corrupt: 100%|██████████| 1024/1024 [00:00<00:00, 1300.49it/s]\n"
     ]
    },
    {
     "name": "stdout",
     "output_type": "stream",
     "text": [
      "\u001b[34m\u001b[1mval: \u001b[0mNew cache created: /home/jiajianhao/文档/cnn/my_Magnetic_methods-master/YOLOv8/my_Model_training/data/qiu_data/val.cache\n",
      "Plotting labels to runs/detect/train/labels.jpg... \n",
      "\u001b[34m\u001b[1moptimizer:\u001b[0m 'optimizer=auto' found, ignoring 'lr0=0.01' and 'momentum=0.937' and determining best 'optimizer', 'lr0' and 'momentum' automatically... \n",
      "\u001b[34m\u001b[1moptimizer:\u001b[0m AdamW(lr=0.002, momentum=0.9) with parameter groups 57 weight(decay=0.0), 64 weight(decay=0.0005), 63 bias(decay=0.0)\n",
      "\u001b[34m\u001b[1mTensorBoard: \u001b[0mmodel graph visualization added ✅\n",
      "Image sizes 640 train, 640 val\n",
      "Using 8 dataloader workers\n",
      "Logging results to \u001b[1mruns/detect/train\u001b[0m\n",
      "Starting training for 10 epochs...\n",
      "Closing dataloader mosaic\n",
      "\n",
      "      Epoch    GPU_mem   box_loss   cls_loss   dfl_loss  Instances       Size\n"
     ]
    },
    {
     "name": "stderr",
     "output_type": "stream",
     "text": [
      "       1/10      2.38G      1.273       1.44      1.129         18        640: 100%|██████████| 180/180 [00:42<00:00,  4.25it/s]\n",
      "                 Class     Images  Instances      Box(P          R      mAP50  mAP50-95): 100%|██████████| 32/32 [00:07<00:00,  4.13it/s]\n"
     ]
    },
    {
     "name": "stdout",
     "output_type": "stream",
     "text": [
      "                   all       1024       4565      0.969      0.927      0.976      0.423\n",
      "\n",
      "      Epoch    GPU_mem   box_loss   cls_loss   dfl_loss  Instances       Size\n"
     ]
    },
    {
     "name": "stderr",
     "output_type": "stream",
     "text": [
      "       2/10       2.4G     0.9529     0.7297     0.9861         11        640: 100%|██████████| 180/180 [00:38<00:00,  4.72it/s]\n",
      "                 Class     Images  Instances      Box(P          R      mAP50  mAP50-95): 100%|██████████| 32/32 [00:06<00:00,  5.22it/s]\n"
     ]
    },
    {
     "name": "stdout",
     "output_type": "stream",
     "text": [
      "                   all       1024       4565      0.995      0.987      0.995      0.711\n",
      "\n",
      "      Epoch    GPU_mem   box_loss   cls_loss   dfl_loss  Instances       Size\n"
     ]
    },
    {
     "name": "stderr",
     "output_type": "stream",
     "text": [
      "       3/10       2.4G     0.9138      0.575     0.9699         11        640: 100%|██████████| 180/180 [00:39<00:00,  4.55it/s]\n",
      "                 Class     Images  Instances      Box(P          R      mAP50  mAP50-95): 100%|██████████| 32/32 [00:05<00:00,  5.36it/s]\n"
     ]
    },
    {
     "name": "stdout",
     "output_type": "stream",
     "text": [
      "                   all       1024       4565      0.996      0.992      0.995      0.634\n",
      "\n",
      "      Epoch    GPU_mem   box_loss   cls_loss   dfl_loss  Instances       Size\n"
     ]
    },
    {
     "name": "stderr",
     "output_type": "stream",
     "text": [
      "       4/10      2.35G     0.7902     0.4677     0.9341         11        640: 100%|██████████| 180/180 [00:38<00:00,  4.66it/s]\n",
      "                 Class     Images  Instances      Box(P          R      mAP50  mAP50-95): 100%|██████████| 32/32 [00:06<00:00,  5.32it/s]\n"
     ]
    },
    {
     "name": "stdout",
     "output_type": "stream",
     "text": [
      "                   all       1024       4565      0.997       0.99      0.995      0.686\n",
      "\n",
      "      Epoch    GPU_mem   box_loss   cls_loss   dfl_loss  Instances       Size\n"
     ]
    },
    {
     "name": "stderr",
     "output_type": "stream",
     "text": [
      "       5/10      2.35G     0.7822     0.4448     0.9366          8        640: 100%|██████████| 180/180 [00:39<00:00,  4.59it/s]\n",
      "                 Class     Images  Instances      Box(P          R      mAP50  mAP50-95): 100%|██████████| 32/32 [00:06<00:00,  5.21it/s]\n"
     ]
    },
    {
     "name": "stdout",
     "output_type": "stream",
     "text": [
      "                   all       1024       4565      0.996      0.989      0.995      0.764\n",
      "\n",
      "      Epoch    GPU_mem   box_loss   cls_loss   dfl_loss  Instances       Size\n"
     ]
    },
    {
     "name": "stderr",
     "output_type": "stream",
     "text": [
      "       6/10      2.35G     0.6781     0.3948        0.9         12        640: 100%|██████████| 180/180 [00:39<00:00,  4.61it/s]\n",
      "                 Class     Images  Instances      Box(P          R      mAP50  mAP50-95): 100%|██████████| 32/32 [00:06<00:00,  5.22it/s]\n"
     ]
    },
    {
     "name": "stdout",
     "output_type": "stream",
     "text": [
      "                   all       1024       4565      0.999      0.992      0.995      0.859\n",
      "\n",
      "      Epoch    GPU_mem   box_loss   cls_loss   dfl_loss  Instances       Size\n"
     ]
    },
    {
     "name": "stderr",
     "output_type": "stream",
     "text": [
      "       7/10      2.35G      0.596     0.3499     0.8742         13        640: 100%|██████████| 180/180 [00:38<00:00,  4.68it/s]\n",
      "                 Class     Images  Instances      Box(P          R      mAP50  mAP50-95): 100%|██████████| 32/32 [00:06<00:00,  5.21it/s]\n"
     ]
    },
    {
     "name": "stdout",
     "output_type": "stream",
     "text": [
      "                   all       1024       4565      0.998      0.993      0.995      0.904\n",
      "\n",
      "      Epoch    GPU_mem   box_loss   cls_loss   dfl_loss  Instances       Size\n"
     ]
    },
    {
     "name": "stderr",
     "output_type": "stream",
     "text": [
      "       8/10      2.35G     0.5321     0.3203     0.8579         22        640: 100%|██████████| 180/180 [00:38<00:00,  4.67it/s]\n",
      "                 Class     Images  Instances      Box(P          R      mAP50  mAP50-95): 100%|██████████| 32/32 [00:06<00:00,  5.30it/s]"
     ]
    },
    {
     "name": "stdout",
     "output_type": "stream",
     "text": [
      "                   all       1024       4565      0.999      0.993      0.995      0.932\n"
     ]
    },
    {
     "name": "stderr",
     "output_type": "stream",
     "text": [
      "\n"
     ]
    },
    {
     "name": "stdout",
     "output_type": "stream",
     "text": [
      "\n",
      "      Epoch    GPU_mem   box_loss   cls_loss   dfl_loss  Instances       Size\n"
     ]
    },
    {
     "name": "stderr",
     "output_type": "stream",
     "text": [
      "       9/10      2.35G     0.4583     0.2899     0.8361          9        640: 100%|██████████| 180/180 [00:38<00:00,  4.67it/s]\n",
      "                 Class     Images  Instances      Box(P          R      mAP50  mAP50-95): 100%|██████████| 32/32 [00:06<00:00,  5.21it/s]\n"
     ]
    },
    {
     "name": "stdout",
     "output_type": "stream",
     "text": [
      "                   all       1024       4565          1      0.994      0.995      0.954\n",
      "\n",
      "      Epoch    GPU_mem   box_loss   cls_loss   dfl_loss  Instances       Size\n"
     ]
    },
    {
     "name": "stderr",
     "output_type": "stream",
     "text": [
      "      10/10      2.35G     0.4062     0.2668     0.8253         13        640: 100%|██████████| 180/180 [00:38<00:00,  4.63it/s]\n",
      "                 Class     Images  Instances      Box(P          R      mAP50  mAP50-95): 100%|██████████| 32/32 [00:06<00:00,  5.20it/s]\n"
     ]
    },
    {
     "name": "stdout",
     "output_type": "stream",
     "text": [
      "                   all       1024       4565      0.999      0.994      0.995      0.976\n",
      "\n",
      "10 epochs completed in 0.131 hours.\n",
      "Optimizer stripped from runs/detect/train/weights/last.pt, 6.2MB\n",
      "Optimizer stripped from runs/detect/train/weights/best.pt, 6.2MB\n",
      "\n",
      "Validating runs/detect/train/weights/best.pt...\n",
      "Ultralytics YOLOv8.1.29 🚀 Python-3.9.18 torch-2.2.1+cu121 CUDA:0 (Tesla P100-PCIE-16GB, 16276MiB)\n",
      "YOLOv8n summary (fused): 168 layers, 3005843 parameters, 0 gradients, 8.1 GFLOPs\n"
     ]
    },
    {
     "name": "stderr",
     "output_type": "stream",
     "text": [
      "                 Class     Images  Instances      Box(P          R      mAP50  mAP50-95): 100%|██████████| 32/32 [00:07<00:00,  4.22it/s]\n"
     ]
    },
    {
     "name": "stdout",
     "output_type": "stream",
     "text": [
      "                   all       1024       4565      0.999      0.994      0.995      0.976\n",
      "Speed: 0.2ms preprocess, 1.9ms inference, 0.0ms loss, 1.1ms postprocess per image\n",
      "Results saved to \u001b[1mruns/detect/train\u001b[0m\n"
     ]
    }
   ],
   "source": [
    "results = model.train(data='./parameters/qiu_data.yaml', epochs=10)"
   ]
  },
  {
   "cell_type": "code",
   "execution_count": null,
   "metadata": {},
   "outputs": [],
   "source": [
    "results = model.train(data='./parameters/ellipsoid.yaml', epochs=10)"
   ]
  },
  {
   "cell_type": "code",
   "execution_count": 6,
   "metadata": {},
   "outputs": [
    {
     "name": "stdout",
     "output_type": "stream",
     "text": [
      "New https://pypi.org/project/ultralytics/8.1.30 available 😃 Update with 'pip install -U ultralytics'\n",
      "Ultralytics YOLOv8.1.29 🚀 Python-3.9.18 torch-2.2.1+cu121 CUDA:0 (Tesla P100-PCIE-16GB, 16276MiB)\n",
      "\u001b[34m\u001b[1mengine/trainer: \u001b[0mtask=detect, mode=train, model=yolov8n.yaml, data=./parameters/all.yaml, epochs=10, time=None, patience=100, batch=16, imgsz=640, save=True, save_period=-1, cache=False, device=None, workers=8, project=None, name=train4, exist_ok=False, pretrained=True, optimizer=auto, verbose=True, seed=0, deterministic=True, single_cls=False, rect=False, cos_lr=False, close_mosaic=10, resume=False, amp=True, fraction=1.0, profile=False, freeze=None, multi_scale=False, overlap_mask=True, mask_ratio=4, dropout=0.0, val=True, split=val, save_json=False, save_hybrid=False, conf=None, iou=0.7, max_det=300, half=False, dnn=False, plots=True, source=None, vid_stride=1, stream_buffer=False, visualize=False, augment=False, agnostic_nms=False, classes=None, retina_masks=False, embed=None, show=False, save_frames=False, save_txt=False, save_conf=False, save_crop=False, show_labels=True, show_conf=True, show_boxes=True, line_width=None, format=torchscript, keras=False, optimize=False, int8=False, dynamic=False, simplify=False, opset=None, workspace=4, nms=False, lr0=0.01, lrf=0.01, momentum=0.937, weight_decay=0.0005, warmup_epochs=3.0, warmup_momentum=0.8, warmup_bias_lr=0.1, box=7.5, cls=0.5, dfl=1.5, pose=12.0, kobj=1.0, label_smoothing=0.0, nbs=64, hsv_h=0.015, hsv_s=0.7, hsv_v=0.4, degrees=0.0, translate=0.1, scale=0.5, shear=0.0, perspective=0.0, flipud=0.0, fliplr=0.5, mosaic=1.0, mixup=0.0, copy_paste=0.0, auto_augment=randaugment, erasing=0.4, crop_fraction=1.0, cfg=None, tracker=botsort.yaml, save_dir=runs/detect/train4\n"
     ]
    },
    {
     "name": "stderr",
     "output_type": "stream",
     "text": [
      "/share/anaconda3/envs/mymag/lib/python3.9/site-packages/torch/cuda/__init__.py:628: UserWarning: Can't initialize NVML\n",
      "  warnings.warn(\"Can't initialize NVML\")\n"
     ]
    },
    {
     "name": "stdout",
     "output_type": "stream",
     "text": [
      "Overriding model.yaml nc=80 with nc=2\n",
      "\n",
      "                   from  n    params  module                                       arguments                     \n",
      "  0                  -1  1       464  ultralytics.nn.modules.conv.Conv             [3, 16, 3, 2]                 \n",
      "  1                  -1  1      4672  ultralytics.nn.modules.conv.Conv             [16, 32, 3, 2]                \n",
      "  2                  -1  1      7360  ultralytics.nn.modules.block.C2f             [32, 32, 1, True]             \n",
      "  3                  -1  1     18560  ultralytics.nn.modules.conv.Conv             [32, 64, 3, 2]                \n",
      "  4                  -1  2     49664  ultralytics.nn.modules.block.C2f             [64, 64, 2, True]             \n",
      "  5                  -1  1     73984  ultralytics.nn.modules.conv.Conv             [64, 128, 3, 2]               \n",
      "  6                  -1  2    197632  ultralytics.nn.modules.block.C2f             [128, 128, 2, True]           \n",
      "  7                  -1  1    295424  ultralytics.nn.modules.conv.Conv             [128, 256, 3, 2]              \n",
      "  8                  -1  1    460288  ultralytics.nn.modules.block.C2f             [256, 256, 1, True]           \n",
      "  9                  -1  1    164608  ultralytics.nn.modules.block.SPPF            [256, 256, 5]                 \n",
      " 10                  -1  1         0  torch.nn.modules.upsampling.Upsample         [None, 2, 'nearest']          \n",
      " 11             [-1, 6]  1         0  ultralytics.nn.modules.conv.Concat           [1]                           \n",
      " 12                  -1  1    148224  ultralytics.nn.modules.block.C2f             [384, 128, 1]                 \n",
      " 13                  -1  1         0  torch.nn.modules.upsampling.Upsample         [None, 2, 'nearest']          \n",
      " 14             [-1, 4]  1         0  ultralytics.nn.modules.conv.Concat           [1]                           \n",
      " 15                  -1  1     37248  ultralytics.nn.modules.block.C2f             [192, 64, 1]                  \n",
      " 16                  -1  1     36992  ultralytics.nn.modules.conv.Conv             [64, 64, 3, 2]                \n",
      " 17            [-1, 12]  1         0  ultralytics.nn.modules.conv.Concat           [1]                           \n",
      " 18                  -1  1    123648  ultralytics.nn.modules.block.C2f             [192, 128, 1]                 \n",
      " 19                  -1  1    147712  ultralytics.nn.modules.conv.Conv             [128, 128, 3, 2]              \n",
      " 20             [-1, 9]  1         0  ultralytics.nn.modules.conv.Concat           [1]                           \n",
      " 21                  -1  1    493056  ultralytics.nn.modules.block.C2f             [384, 256, 1]                 \n",
      " 22        [15, 18, 21]  1    751702  ultralytics.nn.modules.head.Detect           [2, [64, 128, 256]]           \n",
      "YOLOv8n summary: 225 layers, 3011238 parameters, 3011222 gradients, 8.2 GFLOPs\n",
      "\n",
      "Transferred 319/355 items from pretrained weights\n",
      "\u001b[34m\u001b[1mTensorBoard: \u001b[0mStart with 'tensorboard --logdir runs/detect/train4', view at http://localhost:6006/\n",
      "Freezing layer 'model.22.dfl.conv.weight'\n",
      "\u001b[34m\u001b[1mAMP: \u001b[0mrunning Automatic Mixed Precision (AMP) checks with YOLOv8n...\n",
      "\u001b[34m\u001b[1mAMP: \u001b[0mchecks passed ✅\n"
     ]
    },
    {
     "name": "stderr",
     "output_type": "stream",
     "text": [
      "\u001b[34m\u001b[1mtrain: \u001b[0mScanning /home/jiajianhao/文档/cnn/my_Magnetic_methods-master/YOLOv8/my_Model_training/data/all_data/train... 7780 images, 0 backgrounds, 0 corrupt: 100%|██████████| 7780/7780 [00:07<00:00, 979.97it/s] \n"
     ]
    },
    {
     "name": "stdout",
     "output_type": "stream",
     "text": [
      "\u001b[34m\u001b[1mtrain: \u001b[0mNew cache created: /home/jiajianhao/文档/cnn/my_Magnetic_methods-master/YOLOv8/my_Model_training/data/all_data/train.cache\n"
     ]
    },
    {
     "name": "stderr",
     "output_type": "stream",
     "text": [
      "\u001b[34m\u001b[1mval: \u001b[0mScanning /home/jiajianhao/文档/cnn/my_Magnetic_methods-master/YOLOv8/my_Model_training/data/all_data/val... 2600 images, 0 backgrounds, 0 corrupt: 100%|██████████| 2600/2600 [00:02<00:00, 1108.86it/s]\n"
     ]
    },
    {
     "name": "stdout",
     "output_type": "stream",
     "text": [
      "\u001b[34m\u001b[1mval: \u001b[0mNew cache created: /home/jiajianhao/文档/cnn/my_Magnetic_methods-master/YOLOv8/my_Model_training/data/all_data/val.cache\n",
      "Plotting labels to runs/detect/train4/labels.jpg... \n",
      "\u001b[34m\u001b[1moptimizer:\u001b[0m 'optimizer=auto' found, ignoring 'lr0=0.01' and 'momentum=0.937' and determining best 'optimizer', 'lr0' and 'momentum' automatically... \n",
      "\u001b[34m\u001b[1moptimizer:\u001b[0m AdamW(lr=0.001667, momentum=0.9) with parameter groups 57 weight(decay=0.0), 64 weight(decay=0.0005), 63 bias(decay=0.0)\n",
      "\u001b[34m\u001b[1mTensorBoard: \u001b[0mmodel graph visualization added ✅\n",
      "Image sizes 640 train, 640 val\n",
      "Using 8 dataloader workers\n",
      "Logging results to \u001b[1mruns/detect/train4\u001b[0m\n",
      "Starting training for 10 epochs...\n",
      "Closing dataloader mosaic\n",
      "\n",
      "      Epoch    GPU_mem   box_loss   cls_loss   dfl_loss  Instances       Size\n"
     ]
    },
    {
     "name": "stderr",
     "output_type": "stream",
     "text": [
      "       1/10       2.4G      1.409      1.597      1.317         26        640: 100%|██████████| 487/487 [01:53<00:00,  4.28it/s]\n",
      "                 Class     Images  Instances      Box(P          R      mAP50  mAP50-95): 100%|██████████| 82/82 [00:16<00:00,  4.97it/s]\n"
     ]
    },
    {
     "name": "stdout",
     "output_type": "stream",
     "text": [
      "                   all       2600      14197        0.8      0.875      0.897      0.508\n",
      "\n",
      "      Epoch    GPU_mem   box_loss   cls_loss   dfl_loss  Instances       Size\n"
     ]
    },
    {
     "name": "stderr",
     "output_type": "stream",
     "text": [
      "       2/10      2.44G       1.13       1.16      1.213         22        640: 100%|██████████| 487/487 [01:47<00:00,  4.53it/s]\n",
      "                 Class     Images  Instances      Box(P          R      mAP50  mAP50-95): 100%|██████████| 82/82 [00:15<00:00,  5.28it/s]\n"
     ]
    },
    {
     "name": "stdout",
     "output_type": "stream",
     "text": [
      "                   all       2600      14197      0.746       0.94       0.93      0.546\n",
      "\n",
      "      Epoch    GPU_mem   box_loss   cls_loss   dfl_loss  Instances       Size\n"
     ]
    },
    {
     "name": "stderr",
     "output_type": "stream",
     "text": [
      "       3/10      2.42G      1.008      1.098      1.151         25        640: 100%|██████████| 487/487 [01:48<00:00,  4.49it/s]\n",
      "                 Class     Images  Instances      Box(P          R      mAP50  mAP50-95): 100%|██████████| 82/82 [00:15<00:00,  5.30it/s]"
     ]
    },
    {
     "name": "stdout",
     "output_type": "stream",
     "text": [
      "                   all       2600      14197      0.622      0.961      0.783      0.457\n"
     ]
    },
    {
     "name": "stderr",
     "output_type": "stream",
     "text": [
      "\n"
     ]
    },
    {
     "name": "stdout",
     "output_type": "stream",
     "text": [
      "\n",
      "      Epoch    GPU_mem   box_loss   cls_loss   dfl_loss  Instances       Size\n"
     ]
    },
    {
     "name": "stderr",
     "output_type": "stream",
     "text": [
      "       4/10      2.43G      0.937      1.073      1.113         27        640: 100%|██████████| 487/487 [01:47<00:00,  4.52it/s]\n",
      "                 Class     Images  Instances      Box(P          R      mAP50  mAP50-95): 100%|██████████| 82/82 [00:15<00:00,  5.31it/s]"
     ]
    },
    {
     "name": "stdout",
     "output_type": "stream",
     "text": [
      "                   all       2600      14197      0.916      0.968      0.982      0.602\n"
     ]
    },
    {
     "name": "stderr",
     "output_type": "stream",
     "text": [
      "\n"
     ]
    },
    {
     "name": "stdout",
     "output_type": "stream",
     "text": [
      "\n",
      "      Epoch    GPU_mem   box_loss   cls_loss   dfl_loss  Instances       Size\n"
     ]
    },
    {
     "name": "stderr",
     "output_type": "stream",
     "text": [
      "       5/10      2.42G       0.91       1.06      1.102         24        640: 100%|██████████| 487/487 [01:47<00:00,  4.53it/s]\n",
      "                 Class     Images  Instances      Box(P          R      mAP50  mAP50-95): 100%|██████████| 82/82 [00:15<00:00,  5.13it/s]"
     ]
    },
    {
     "name": "stdout",
     "output_type": "stream",
     "text": [
      "                   all       2600      14197      0.869      0.973      0.962      0.708\n"
     ]
    },
    {
     "name": "stderr",
     "output_type": "stream",
     "text": [
      "\n"
     ]
    },
    {
     "name": "stdout",
     "output_type": "stream",
     "text": [
      "\n",
      "      Epoch    GPU_mem   box_loss   cls_loss   dfl_loss  Instances       Size\n"
     ]
    },
    {
     "name": "stderr",
     "output_type": "stream",
     "text": [
      "       6/10      2.42G     0.8637      1.054      1.075         18        640: 100%|██████████| 487/487 [01:46<00:00,  4.56it/s]\n",
      "                 Class     Images  Instances      Box(P          R      mAP50  mAP50-95): 100%|██████████| 82/82 [00:15<00:00,  5.24it/s]"
     ]
    },
    {
     "name": "stdout",
     "output_type": "stream",
     "text": [
      "                   all       2600      14197       0.74      0.994      0.968      0.703\n"
     ]
    },
    {
     "name": "stderr",
     "output_type": "stream",
     "text": [
      "\n"
     ]
    },
    {
     "name": "stdout",
     "output_type": "stream",
     "text": [
      "\n",
      "      Epoch    GPU_mem   box_loss   cls_loss   dfl_loss  Instances       Size\n"
     ]
    },
    {
     "name": "stderr",
     "output_type": "stream",
     "text": [
      "       7/10      2.42G     0.8369      1.032       1.07         21        640: 100%|██████████| 487/487 [01:46<00:00,  4.55it/s]\n",
      "                 Class     Images  Instances      Box(P          R      mAP50  mAP50-95): 100%|██████████| 82/82 [00:15<00:00,  5.18it/s]"
     ]
    },
    {
     "name": "stdout",
     "output_type": "stream",
     "text": [
      "                   all       2600      14197      0.926      0.978      0.984      0.727\n"
     ]
    },
    {
     "name": "stderr",
     "output_type": "stream",
     "text": [
      "\n"
     ]
    },
    {
     "name": "stdout",
     "output_type": "stream",
     "text": [
      "\n",
      "      Epoch    GPU_mem   box_loss   cls_loss   dfl_loss  Instances       Size\n"
     ]
    },
    {
     "name": "stderr",
     "output_type": "stream",
     "text": [
      "       8/10      2.43G      0.809      1.022      1.053         15        640: 100%|██████████| 487/487 [01:46<00:00,  4.59it/s]\n",
      "                 Class     Images  Instances      Box(P          R      mAP50  mAP50-95): 100%|██████████| 82/82 [00:15<00:00,  5.16it/s]"
     ]
    },
    {
     "name": "stdout",
     "output_type": "stream",
     "text": [
      "                   all       2600      14197      0.814      0.956       0.97      0.746\n"
     ]
    },
    {
     "name": "stderr",
     "output_type": "stream",
     "text": [
      "\n"
     ]
    },
    {
     "name": "stdout",
     "output_type": "stream",
     "text": [
      "\n",
      "      Epoch    GPU_mem   box_loss   cls_loss   dfl_loss  Instances       Size\n"
     ]
    },
    {
     "name": "stderr",
     "output_type": "stream",
     "text": [
      "       9/10      2.42G     0.7752     0.9942      1.037         16        640: 100%|██████████| 487/487 [01:46<00:00,  4.58it/s]\n",
      "                 Class     Images  Instances      Box(P          R      mAP50  mAP50-95): 100%|██████████| 82/82 [00:15<00:00,  5.26it/s]"
     ]
    },
    {
     "name": "stdout",
     "output_type": "stream",
     "text": [
      "                   all       2600      14197      0.887      0.975      0.986      0.678\n"
     ]
    },
    {
     "name": "stderr",
     "output_type": "stream",
     "text": [
      "\n"
     ]
    },
    {
     "name": "stdout",
     "output_type": "stream",
     "text": [
      "\n",
      "      Epoch    GPU_mem   box_loss   cls_loss   dfl_loss  Instances       Size\n"
     ]
    },
    {
     "name": "stderr",
     "output_type": "stream",
     "text": [
      "      10/10      2.43G     0.7384     0.9526      1.017         14        640: 100%|██████████| 487/487 [01:46<00:00,  4.57it/s]\n",
      "                 Class     Images  Instances      Box(P          R      mAP50  mAP50-95): 100%|██████████| 82/82 [00:15<00:00,  5.25it/s]"
     ]
    },
    {
     "name": "stdout",
     "output_type": "stream",
     "text": [
      "                   all       2600      14197      0.952      0.966      0.987       0.78\n"
     ]
    },
    {
     "name": "stderr",
     "output_type": "stream",
     "text": [
      "\n"
     ]
    },
    {
     "name": "stdout",
     "output_type": "stream",
     "text": [
      "\n",
      "10 epochs completed in 0.347 hours.\n",
      "Optimizer stripped from runs/detect/train4/weights/last.pt, 6.2MB\n",
      "Optimizer stripped from runs/detect/train4/weights/best.pt, 6.2MB\n",
      "\n",
      "Validating runs/detect/train4/weights/best.pt...\n",
      "Ultralytics YOLOv8.1.29 🚀 Python-3.9.18 torch-2.2.1+cu121 CUDA:0 (Tesla P100-PCIE-16GB, 16276MiB)\n",
      "YOLOv8n summary (fused): 168 layers, 3006038 parameters, 0 gradients, 8.1 GFLOPs\n"
     ]
    },
    {
     "name": "stderr",
     "output_type": "stream",
     "text": [
      "                 Class     Images  Instances      Box(P          R      mAP50  mAP50-95): 100%|██████████| 82/82 [00:20<00:00,  4.09it/s]\n"
     ]
    },
    {
     "name": "stdout",
     "output_type": "stream",
     "text": [
      "                   all       2600      14197      0.952      0.966      0.987       0.78\n",
      "                dipole       2600        209      0.981          1      0.995      0.857\n",
      "             ellipsoid       2600      13988      0.922      0.933      0.979      0.702\n",
      "Speed: 0.2ms preprocess, 1.9ms inference, 0.0ms loss, 1.1ms postprocess per image\n",
      "Results saved to \u001b[1mruns/detect/train4\u001b[0m\n"
     ]
    }
   ],
   "source": [
    "results = model.train(data='./parameters/all.yaml', epochs=10)"
   ]
  },
  {
   "cell_type": "code",
   "execution_count": 6,
   "metadata": {},
   "outputs": [
    {
     "name": "stdout",
     "output_type": "stream",
     "text": [
      "Ultralytics YOLOv8.1.29 🚀 Python-3.9.18 torch-2.2.1+cu121 CUDA:0 (Tesla P100-PCIE-16GB, 16276MiB)\n",
      "YOLOv8n summary (fused): 168 layers, 3005843 parameters, 0 gradients, 8.1 GFLOPs\n"
     ]
    },
    {
     "name": "stderr",
     "output_type": "stream",
     "text": [
      "\u001b[34m\u001b[1mval: \u001b[0mScanning /home/jiajianhao/文档/cnn/my_Magnetic_methods-master/YOLOv8/my_Model_training/data/qiu_data/val.cache... 1024 images, 0 backgrounds, 0 corrupt: 100%|██████████| 1024/1024 [00:00<?, ?it/s]\n",
      "                 Class     Images  Instances      Box(P          R      mAP50  mAP50-95): 100%|██████████| 64/64 [00:09<00:00,  6.95it/s]\n"
     ]
    },
    {
     "name": "stdout",
     "output_type": "stream",
     "text": [
      "                   all       1024       4565      0.999      0.994      0.995      0.978\n",
      "Speed: 0.2ms preprocess, 2.4ms inference, 0.0ms loss, 1.0ms postprocess per image\n",
      "Results saved to \u001b[1mruns/detect/train2\u001b[0m\n"
     ]
    }
   ],
   "source": [
    "metrics = model.val()"
   ]
  },
  {
   "cell_type": "markdown",
   "metadata": {},
   "source": [
    "## save my Model"
   ]
  },
  {
   "cell_type": "markdown",
   "metadata": {},
   "source": [
    "## val Model"
   ]
  },
  {
   "cell_type": "markdown",
   "metadata": {},
   "source": [
    "## predict"
   ]
  },
  {
   "cell_type": "code",
   "execution_count": 7,
   "metadata": {},
   "outputs": [
    {
     "name": "stdout",
     "output_type": "stream",
     "text": [
      "\n",
      "image 1/205 /home/jiajianhao/文档/cnn/my_Magnetic_methods-master/YOLOv8/my_Model_training/data/qiu_data/test/test_3892.jpg: 640x640 3 dipoles, 9.3ms\n",
      "image 2/205 /home/jiajianhao/文档/cnn/my_Magnetic_methods-master/YOLOv8/my_Model_training/data/qiu_data/test/test_3893.jpg: 640x640 2 dipoles, 9.7ms\n",
      "image 3/205 /home/jiajianhao/文档/cnn/my_Magnetic_methods-master/YOLOv8/my_Model_training/data/qiu_data/test/test_3894.jpg: 640x640 5 dipoles, 9.3ms\n",
      "image 4/205 /home/jiajianhao/文档/cnn/my_Magnetic_methods-master/YOLOv8/my_Model_training/data/qiu_data/test/test_3895.jpg: 640x640 5 dipoles, 9.3ms\n",
      "image 5/205 /home/jiajianhao/文档/cnn/my_Magnetic_methods-master/YOLOv8/my_Model_training/data/qiu_data/test/test_3896.jpg: 640x640 4 dipoles, 9.3ms\n",
      "image 6/205 /home/jiajianhao/文档/cnn/my_Magnetic_methods-master/YOLOv8/my_Model_training/data/qiu_data/test/test_3897.jpg: 640x640 3 dipoles, 9.3ms\n",
      "image 7/205 /home/jiajianhao/文档/cnn/my_Magnetic_methods-master/YOLOv8/my_Model_training/data/qiu_data/test/test_3898.jpg: 640x640 2 dipoles, 9.3ms\n",
      "image 8/205 /home/jiajianhao/文档/cnn/my_Magnetic_methods-master/YOLOv8/my_Model_training/data/qiu_data/test/test_3899.jpg: 640x640 2 dipoles, 9.2ms\n",
      "image 9/205 /home/jiajianhao/文档/cnn/my_Magnetic_methods-master/YOLOv8/my_Model_training/data/qiu_data/test/test_3900.jpg: 640x640 3 dipoles, 9.2ms\n",
      "image 10/205 /home/jiajianhao/文档/cnn/my_Magnetic_methods-master/YOLOv8/my_Model_training/data/qiu_data/test/test_3901.jpg: 640x640 3 dipoles, 9.2ms\n",
      "image 11/205 /home/jiajianhao/文档/cnn/my_Magnetic_methods-master/YOLOv8/my_Model_training/data/qiu_data/test/test_3902.jpg: 640x640 5 dipoles, 9.3ms\n",
      "image 12/205 /home/jiajianhao/文档/cnn/my_Magnetic_methods-master/YOLOv8/my_Model_training/data/qiu_data/test/test_3903.jpg: 640x640 3 dipoles, 9.3ms\n",
      "image 13/205 /home/jiajianhao/文档/cnn/my_Magnetic_methods-master/YOLOv8/my_Model_training/data/qiu_data/test/test_3904.jpg: 640x640 8 dipoles, 9.3ms\n",
      "image 14/205 /home/jiajianhao/文档/cnn/my_Magnetic_methods-master/YOLOv8/my_Model_training/data/qiu_data/test/test_3905.jpg: 640x640 8 dipoles, 9.5ms\n",
      "image 15/205 /home/jiajianhao/文档/cnn/my_Magnetic_methods-master/YOLOv8/my_Model_training/data/qiu_data/test/test_3906.jpg: 640x640 7 dipoles, 9.3ms\n",
      "image 16/205 /home/jiajianhao/文档/cnn/my_Magnetic_methods-master/YOLOv8/my_Model_training/data/qiu_data/test/test_3907.jpg: 640x640 1 dipole, 9.3ms\n",
      "image 17/205 /home/jiajianhao/文档/cnn/my_Magnetic_methods-master/YOLOv8/my_Model_training/data/qiu_data/test/test_3908.jpg: 640x640 3 dipoles, 9.3ms\n",
      "image 18/205 /home/jiajianhao/文档/cnn/my_Magnetic_methods-master/YOLOv8/my_Model_training/data/qiu_data/test/test_3909.jpg: 640x640 5 dipoles, 9.3ms\n",
      "image 19/205 /home/jiajianhao/文档/cnn/my_Magnetic_methods-master/YOLOv8/my_Model_training/data/qiu_data/test/test_3910.jpg: 640x640 8 dipoles, 9.3ms\n",
      "image 20/205 /home/jiajianhao/文档/cnn/my_Magnetic_methods-master/YOLOv8/my_Model_training/data/qiu_data/test/test_3911.jpg: 640x640 4 dipoles, 9.3ms\n",
      "image 21/205 /home/jiajianhao/文档/cnn/my_Magnetic_methods-master/YOLOv8/my_Model_training/data/qiu_data/test/test_3912.jpg: 640x640 6 dipoles, 9.3ms\n",
      "image 22/205 /home/jiajianhao/文档/cnn/my_Magnetic_methods-master/YOLOv8/my_Model_training/data/qiu_data/test/test_3913.jpg: 640x640 3 dipoles, 9.3ms\n",
      "image 23/205 /home/jiajianhao/文档/cnn/my_Magnetic_methods-master/YOLOv8/my_Model_training/data/qiu_data/test/test_3914.jpg: 640x640 4 dipoles, 9.2ms\n",
      "image 24/205 /home/jiajianhao/文档/cnn/my_Magnetic_methods-master/YOLOv8/my_Model_training/data/qiu_data/test/test_3915.jpg: 640x640 1 dipole, 9.3ms\n",
      "image 25/205 /home/jiajianhao/文档/cnn/my_Magnetic_methods-master/YOLOv8/my_Model_training/data/qiu_data/test/test_3916.jpg: 640x640 5 dipoles, 9.3ms\n",
      "image 26/205 /home/jiajianhao/文档/cnn/my_Magnetic_methods-master/YOLOv8/my_Model_training/data/qiu_data/test/test_3917.jpg: 640x640 3 dipoles, 9.2ms\n",
      "image 27/205 /home/jiajianhao/文档/cnn/my_Magnetic_methods-master/YOLOv8/my_Model_training/data/qiu_data/test/test_3918.jpg: 640x640 7 dipoles, 9.3ms\n",
      "image 28/205 /home/jiajianhao/文档/cnn/my_Magnetic_methods-master/YOLOv8/my_Model_training/data/qiu_data/test/test_3919.jpg: 640x640 7 dipoles, 9.3ms\n",
      "image 29/205 /home/jiajianhao/文档/cnn/my_Magnetic_methods-master/YOLOv8/my_Model_training/data/qiu_data/test/test_3920.jpg: 640x640 3 dipoles, 9.3ms\n",
      "image 30/205 /home/jiajianhao/文档/cnn/my_Magnetic_methods-master/YOLOv8/my_Model_training/data/qiu_data/test/test_3921.jpg: 640x640 3 dipoles, 9.3ms\n",
      "image 31/205 /home/jiajianhao/文档/cnn/my_Magnetic_methods-master/YOLOv8/my_Model_training/data/qiu_data/test/test_3922.jpg: 640x640 8 dipoles, 9.3ms\n",
      "image 32/205 /home/jiajianhao/文档/cnn/my_Magnetic_methods-master/YOLOv8/my_Model_training/data/qiu_data/test/test_3923.jpg: 640x640 4 dipoles, 9.3ms\n",
      "image 33/205 /home/jiajianhao/文档/cnn/my_Magnetic_methods-master/YOLOv8/my_Model_training/data/qiu_data/test/test_3924.jpg: 640x640 7 dipoles, 9.3ms\n",
      "image 34/205 /home/jiajianhao/文档/cnn/my_Magnetic_methods-master/YOLOv8/my_Model_training/data/qiu_data/test/test_3925.jpg: 640x640 1 dipole, 9.3ms\n",
      "image 35/205 /home/jiajianhao/文档/cnn/my_Magnetic_methods-master/YOLOv8/my_Model_training/data/qiu_data/test/test_3926.jpg: 640x640 8 dipoles, 9.3ms\n",
      "image 36/205 /home/jiajianhao/文档/cnn/my_Magnetic_methods-master/YOLOv8/my_Model_training/data/qiu_data/test/test_3927.jpg: 640x640 6 dipoles, 9.3ms\n",
      "image 37/205 /home/jiajianhao/文档/cnn/my_Magnetic_methods-master/YOLOv8/my_Model_training/data/qiu_data/test/test_3928.jpg: 640x640 2 dipoles, 9.3ms\n",
      "image 38/205 /home/jiajianhao/文档/cnn/my_Magnetic_methods-master/YOLOv8/my_Model_training/data/qiu_data/test/test_3929.jpg: 640x640 6 dipoles, 9.3ms\n",
      "image 39/205 /home/jiajianhao/文档/cnn/my_Magnetic_methods-master/YOLOv8/my_Model_training/data/qiu_data/test/test_3930.jpg: 640x640 8 dipoles, 9.3ms\n",
      "image 40/205 /home/jiajianhao/文档/cnn/my_Magnetic_methods-master/YOLOv8/my_Model_training/data/qiu_data/test/test_3931.jpg: 640x640 5 dipoles, 9.4ms\n",
      "image 41/205 /home/jiajianhao/文档/cnn/my_Magnetic_methods-master/YOLOv8/my_Model_training/data/qiu_data/test/test_3932.jpg: 640x640 1 dipole, 9.2ms\n",
      "image 42/205 /home/jiajianhao/文档/cnn/my_Magnetic_methods-master/YOLOv8/my_Model_training/data/qiu_data/test/test_3933.jpg: 640x640 2 dipoles, 9.3ms\n",
      "image 43/205 /home/jiajianhao/文档/cnn/my_Magnetic_methods-master/YOLOv8/my_Model_training/data/qiu_data/test/test_3934.jpg: 640x640 7 dipoles, 9.3ms\n",
      "image 44/205 /home/jiajianhao/文档/cnn/my_Magnetic_methods-master/YOLOv8/my_Model_training/data/qiu_data/test/test_3935.jpg: 640x640 2 dipoles, 9.3ms\n",
      "image 45/205 /home/jiajianhao/文档/cnn/my_Magnetic_methods-master/YOLOv8/my_Model_training/data/qiu_data/test/test_3936.jpg: 640x640 4 dipoles, 9.3ms\n",
      "image 46/205 /home/jiajianhao/文档/cnn/my_Magnetic_methods-master/YOLOv8/my_Model_training/data/qiu_data/test/test_3937.jpg: 640x640 1 dipole, 9.3ms\n",
      "image 47/205 /home/jiajianhao/文档/cnn/my_Magnetic_methods-master/YOLOv8/my_Model_training/data/qiu_data/test/test_3938.jpg: 640x640 3 dipoles, 9.3ms\n",
      "image 48/205 /home/jiajianhao/文档/cnn/my_Magnetic_methods-master/YOLOv8/my_Model_training/data/qiu_data/test/test_3939.jpg: 640x640 7 dipoles, 9.3ms\n",
      "image 49/205 /home/jiajianhao/文档/cnn/my_Magnetic_methods-master/YOLOv8/my_Model_training/data/qiu_data/test/test_3940.jpg: 640x640 5 dipoles, 9.3ms\n",
      "image 50/205 /home/jiajianhao/文档/cnn/my_Magnetic_methods-master/YOLOv8/my_Model_training/data/qiu_data/test/test_3941.jpg: 640x640 3 dipoles, 9.3ms\n",
      "image 51/205 /home/jiajianhao/文档/cnn/my_Magnetic_methods-master/YOLOv8/my_Model_training/data/qiu_data/test/test_3942.jpg: 640x640 8 dipoles, 9.3ms\n",
      "image 52/205 /home/jiajianhao/文档/cnn/my_Magnetic_methods-master/YOLOv8/my_Model_training/data/qiu_data/test/test_3943.jpg: 640x640 4 dipoles, 9.3ms\n",
      "image 53/205 /home/jiajianhao/文档/cnn/my_Magnetic_methods-master/YOLOv8/my_Model_training/data/qiu_data/test/test_3944.jpg: 640x640 7 dipoles, 9.2ms\n",
      "image 54/205 /home/jiajianhao/文档/cnn/my_Magnetic_methods-master/YOLOv8/my_Model_training/data/qiu_data/test/test_3945.jpg: 640x640 8 dipoles, 9.3ms\n",
      "image 55/205 /home/jiajianhao/文档/cnn/my_Magnetic_methods-master/YOLOv8/my_Model_training/data/qiu_data/test/test_3946.jpg: 640x640 7 dipoles, 9.3ms\n",
      "image 56/205 /home/jiajianhao/文档/cnn/my_Magnetic_methods-master/YOLOv8/my_Model_training/data/qiu_data/test/test_3947.jpg: 640x640 4 dipoles, 9.3ms\n",
      "image 57/205 /home/jiajianhao/文档/cnn/my_Magnetic_methods-master/YOLOv8/my_Model_training/data/qiu_data/test/test_3948.jpg: 640x640 8 dipoles, 9.2ms\n",
      "image 58/205 /home/jiajianhao/文档/cnn/my_Magnetic_methods-master/YOLOv8/my_Model_training/data/qiu_data/test/test_3949.jpg: 640x640 5 dipoles, 9.2ms\n",
      "image 59/205 /home/jiajianhao/文档/cnn/my_Magnetic_methods-master/YOLOv8/my_Model_training/data/qiu_data/test/test_3950.jpg: 640x640 4 dipoles, 9.3ms\n",
      "image 60/205 /home/jiajianhao/文档/cnn/my_Magnetic_methods-master/YOLOv8/my_Model_training/data/qiu_data/test/test_3951.jpg: 640x640 8 dipoles, 9.2ms\n",
      "image 61/205 /home/jiajianhao/文档/cnn/my_Magnetic_methods-master/YOLOv8/my_Model_training/data/qiu_data/test/test_3952.jpg: 640x640 5 dipoles, 9.3ms\n",
      "image 62/205 /home/jiajianhao/文档/cnn/my_Magnetic_methods-master/YOLOv8/my_Model_training/data/qiu_data/test/test_3953.jpg: 640x640 2 dipoles, 9.3ms\n",
      "image 63/205 /home/jiajianhao/文档/cnn/my_Magnetic_methods-master/YOLOv8/my_Model_training/data/qiu_data/test/test_3954.jpg: 640x640 5 dipoles, 9.2ms\n",
      "image 64/205 /home/jiajianhao/文档/cnn/my_Magnetic_methods-master/YOLOv8/my_Model_training/data/qiu_data/test/test_3955.jpg: 640x640 3 dipoles, 9.2ms\n",
      "image 65/205 /home/jiajianhao/文档/cnn/my_Magnetic_methods-master/YOLOv8/my_Model_training/data/qiu_data/test/test_3956.jpg: 640x640 4 dipoles, 9.2ms\n",
      "image 66/205 /home/jiajianhao/文档/cnn/my_Magnetic_methods-master/YOLOv8/my_Model_training/data/qiu_data/test/test_3957.jpg: 640x640 4 dipoles, 9.2ms\n",
      "image 67/205 /home/jiajianhao/文档/cnn/my_Magnetic_methods-master/YOLOv8/my_Model_training/data/qiu_data/test/test_3958.jpg: 640x640 4 dipoles, 9.3ms\n",
      "image 68/205 /home/jiajianhao/文档/cnn/my_Magnetic_methods-master/YOLOv8/my_Model_training/data/qiu_data/test/test_3959.jpg: 640x640 2 dipoles, 9.3ms\n",
      "image 69/205 /home/jiajianhao/文档/cnn/my_Magnetic_methods-master/YOLOv8/my_Model_training/data/qiu_data/test/test_3960.jpg: 640x640 7 dipoles, 9.3ms\n",
      "image 70/205 /home/jiajianhao/文档/cnn/my_Magnetic_methods-master/YOLOv8/my_Model_training/data/qiu_data/test/test_3961.jpg: 640x640 4 dipoles, 9.2ms\n",
      "image 71/205 /home/jiajianhao/文档/cnn/my_Magnetic_methods-master/YOLOv8/my_Model_training/data/qiu_data/test/test_3962.jpg: 640x640 6 dipoles, 9.3ms\n",
      "image 72/205 /home/jiajianhao/文档/cnn/my_Magnetic_methods-master/YOLOv8/my_Model_training/data/qiu_data/test/test_3963.jpg: 640x640 2 dipoles, 9.2ms\n",
      "image 73/205 /home/jiajianhao/文档/cnn/my_Magnetic_methods-master/YOLOv8/my_Model_training/data/qiu_data/test/test_3964.jpg: 640x640 3 dipoles, 9.2ms\n",
      "image 74/205 /home/jiajianhao/文档/cnn/my_Magnetic_methods-master/YOLOv8/my_Model_training/data/qiu_data/test/test_3965.jpg: 640x640 2 dipoles, 9.3ms\n",
      "image 75/205 /home/jiajianhao/文档/cnn/my_Magnetic_methods-master/YOLOv8/my_Model_training/data/qiu_data/test/test_3966.jpg: 640x640 2 dipoles, 9.2ms\n",
      "image 76/205 /home/jiajianhao/文档/cnn/my_Magnetic_methods-master/YOLOv8/my_Model_training/data/qiu_data/test/test_3967.jpg: 640x640 2 dipoles, 9.3ms\n",
      "image 77/205 /home/jiajianhao/文档/cnn/my_Magnetic_methods-master/YOLOv8/my_Model_training/data/qiu_data/test/test_3968.jpg: 640x640 4 dipoles, 9.3ms\n",
      "image 78/205 /home/jiajianhao/文档/cnn/my_Magnetic_methods-master/YOLOv8/my_Model_training/data/qiu_data/test/test_3969.jpg: 640x640 3 dipoles, 9.3ms\n",
      "image 79/205 /home/jiajianhao/文档/cnn/my_Magnetic_methods-master/YOLOv8/my_Model_training/data/qiu_data/test/test_3970.jpg: 640x640 7 dipoles, 9.3ms\n",
      "image 80/205 /home/jiajianhao/文档/cnn/my_Magnetic_methods-master/YOLOv8/my_Model_training/data/qiu_data/test/test_3971.jpg: 640x640 2 dipoles, 9.3ms\n",
      "image 81/205 /home/jiajianhao/文档/cnn/my_Magnetic_methods-master/YOLOv8/my_Model_training/data/qiu_data/test/test_3972.jpg: 640x640 7 dipoles, 9.2ms\n",
      "image 82/205 /home/jiajianhao/文档/cnn/my_Magnetic_methods-master/YOLOv8/my_Model_training/data/qiu_data/test/test_3973.jpg: 640x640 8 dipoles, 9.3ms\n",
      "image 83/205 /home/jiajianhao/文档/cnn/my_Magnetic_methods-master/YOLOv8/my_Model_training/data/qiu_data/test/test_3974.jpg: 640x640 3 dipoles, 9.2ms\n",
      "image 84/205 /home/jiajianhao/文档/cnn/my_Magnetic_methods-master/YOLOv8/my_Model_training/data/qiu_data/test/test_3975.jpg: 640x640 7 dipoles, 9.2ms\n",
      "image 85/205 /home/jiajianhao/文档/cnn/my_Magnetic_methods-master/YOLOv8/my_Model_training/data/qiu_data/test/test_3976.jpg: 640x640 4 dipoles, 9.3ms\n",
      "image 86/205 /home/jiajianhao/文档/cnn/my_Magnetic_methods-master/YOLOv8/my_Model_training/data/qiu_data/test/test_3977.jpg: 640x640 5 dipoles, 9.5ms\n",
      "image 87/205 /home/jiajianhao/文档/cnn/my_Magnetic_methods-master/YOLOv8/my_Model_training/data/qiu_data/test/test_3978.jpg: 640x640 3 dipoles, 9.3ms\n",
      "image 88/205 /home/jiajianhao/文档/cnn/my_Magnetic_methods-master/YOLOv8/my_Model_training/data/qiu_data/test/test_3979.jpg: 640x640 7 dipoles, 9.3ms\n",
      "image 89/205 /home/jiajianhao/文档/cnn/my_Magnetic_methods-master/YOLOv8/my_Model_training/data/qiu_data/test/test_3980.jpg: 640x640 3 dipoles, 9.3ms\n",
      "image 90/205 /home/jiajianhao/文档/cnn/my_Magnetic_methods-master/YOLOv8/my_Model_training/data/qiu_data/test/test_3981.jpg: 640x640 1 dipole, 9.3ms\n",
      "image 91/205 /home/jiajianhao/文档/cnn/my_Magnetic_methods-master/YOLOv8/my_Model_training/data/qiu_data/test/test_3982.jpg: 640x640 6 dipoles, 9.3ms\n",
      "image 92/205 /home/jiajianhao/文档/cnn/my_Magnetic_methods-master/YOLOv8/my_Model_training/data/qiu_data/test/test_3983.jpg: 640x640 3 dipoles, 9.6ms\n",
      "image 93/205 /home/jiajianhao/文档/cnn/my_Magnetic_methods-master/YOLOv8/my_Model_training/data/qiu_data/test/test_3984.jpg: 640x640 1 dipole, 9.4ms\n",
      "image 94/205 /home/jiajianhao/文档/cnn/my_Magnetic_methods-master/YOLOv8/my_Model_training/data/qiu_data/test/test_3985.jpg: 640x640 8 dipoles, 9.3ms\n",
      "image 95/205 /home/jiajianhao/文档/cnn/my_Magnetic_methods-master/YOLOv8/my_Model_training/data/qiu_data/test/test_3986.jpg: 640x640 7 dipoles, 9.3ms\n",
      "image 96/205 /home/jiajianhao/文档/cnn/my_Magnetic_methods-master/YOLOv8/my_Model_training/data/qiu_data/test/test_3987.jpg: 640x640 1 dipole, 9.2ms\n",
      "image 97/205 /home/jiajianhao/文档/cnn/my_Magnetic_methods-master/YOLOv8/my_Model_training/data/qiu_data/test/test_3988.jpg: 640x640 6 dipoles, 9.3ms\n",
      "image 98/205 /home/jiajianhao/文档/cnn/my_Magnetic_methods-master/YOLOv8/my_Model_training/data/qiu_data/test/test_3989.jpg: 640x640 7 dipoles, 9.3ms\n",
      "image 99/205 /home/jiajianhao/文档/cnn/my_Magnetic_methods-master/YOLOv8/my_Model_training/data/qiu_data/test/test_3990.jpg: 640x640 2 dipoles, 9.3ms\n",
      "image 100/205 /home/jiajianhao/文档/cnn/my_Magnetic_methods-master/YOLOv8/my_Model_training/data/qiu_data/test/test_3991.jpg: 640x640 2 dipoles, 9.2ms\n",
      "image 101/205 /home/jiajianhao/文档/cnn/my_Magnetic_methods-master/YOLOv8/my_Model_training/data/qiu_data/test/test_3992.jpg: 640x640 4 dipoles, 9.2ms\n",
      "image 102/205 /home/jiajianhao/文档/cnn/my_Magnetic_methods-master/YOLOv8/my_Model_training/data/qiu_data/test/test_3993.jpg: 640x640 5 dipoles, 9.2ms\n",
      "image 103/205 /home/jiajianhao/文档/cnn/my_Magnetic_methods-master/YOLOv8/my_Model_training/data/qiu_data/test/test_3994.jpg: 640x640 5 dipoles, 9.3ms\n",
      "image 104/205 /home/jiajianhao/文档/cnn/my_Magnetic_methods-master/YOLOv8/my_Model_training/data/qiu_data/test/test_3995.jpg: 640x640 3 dipoles, 9.2ms\n",
      "image 105/205 /home/jiajianhao/文档/cnn/my_Magnetic_methods-master/YOLOv8/my_Model_training/data/qiu_data/test/test_3996.jpg: 640x640 8 dipoles, 9.3ms\n",
      "image 106/205 /home/jiajianhao/文档/cnn/my_Magnetic_methods-master/YOLOv8/my_Model_training/data/qiu_data/test/test_3997.jpg: 640x640 8 dipoles, 9.2ms\n",
      "image 107/205 /home/jiajianhao/文档/cnn/my_Magnetic_methods-master/YOLOv8/my_Model_training/data/qiu_data/test/test_3998.jpg: 640x640 7 dipoles, 9.2ms\n",
      "image 108/205 /home/jiajianhao/文档/cnn/my_Magnetic_methods-master/YOLOv8/my_Model_training/data/qiu_data/test/test_3999.jpg: 640x640 1 dipole, 9.2ms\n",
      "image 109/205 /home/jiajianhao/文档/cnn/my_Magnetic_methods-master/YOLOv8/my_Model_training/data/qiu_data/test/test_4000.jpg: 640x640 2 dipoles, 9.2ms\n",
      "image 110/205 /home/jiajianhao/文档/cnn/my_Magnetic_methods-master/YOLOv8/my_Model_training/data/qiu_data/test/test_4001.jpg: 640x640 3 dipoles, 9.3ms\n",
      "image 111/205 /home/jiajianhao/文档/cnn/my_Magnetic_methods-master/YOLOv8/my_Model_training/data/qiu_data/test/test_4002.jpg: 640x640 2 dipoles, 9.3ms\n",
      "image 112/205 /home/jiajianhao/文档/cnn/my_Magnetic_methods-master/YOLOv8/my_Model_training/data/qiu_data/test/test_4003.jpg: 640x640 1 dipole, 9.3ms\n",
      "image 113/205 /home/jiajianhao/文档/cnn/my_Magnetic_methods-master/YOLOv8/my_Model_training/data/qiu_data/test/test_4004.jpg: 640x640 2 dipoles, 9.3ms\n",
      "image 114/205 /home/jiajianhao/文档/cnn/my_Magnetic_methods-master/YOLOv8/my_Model_training/data/qiu_data/test/test_4005.jpg: 640x640 5 dipoles, 9.3ms\n",
      "image 115/205 /home/jiajianhao/文档/cnn/my_Magnetic_methods-master/YOLOv8/my_Model_training/data/qiu_data/test/test_4006.jpg: 640x640 4 dipoles, 9.4ms\n",
      "image 116/205 /home/jiajianhao/文档/cnn/my_Magnetic_methods-master/YOLOv8/my_Model_training/data/qiu_data/test/test_4007.jpg: 640x640 4 dipoles, 9.3ms\n",
      "image 117/205 /home/jiajianhao/文档/cnn/my_Magnetic_methods-master/YOLOv8/my_Model_training/data/qiu_data/test/test_4008.jpg: 640x640 7 dipoles, 9.3ms\n",
      "image 118/205 /home/jiajianhao/文档/cnn/my_Magnetic_methods-master/YOLOv8/my_Model_training/data/qiu_data/test/test_4009.jpg: 640x640 5 dipoles, 9.2ms\n",
      "image 119/205 /home/jiajianhao/文档/cnn/my_Magnetic_methods-master/YOLOv8/my_Model_training/data/qiu_data/test/test_4010.jpg: 640x640 4 dipoles, 9.3ms\n",
      "image 120/205 /home/jiajianhao/文档/cnn/my_Magnetic_methods-master/YOLOv8/my_Model_training/data/qiu_data/test/test_4011.jpg: 640x640 6 dipoles, 9.5ms\n",
      "image 121/205 /home/jiajianhao/文档/cnn/my_Magnetic_methods-master/YOLOv8/my_Model_training/data/qiu_data/test/test_4012.jpg: 640x640 1 dipole, 9.2ms\n",
      "image 122/205 /home/jiajianhao/文档/cnn/my_Magnetic_methods-master/YOLOv8/my_Model_training/data/qiu_data/test/test_4013.jpg: 640x640 8 dipoles, 9.2ms\n",
      "image 123/205 /home/jiajianhao/文档/cnn/my_Magnetic_methods-master/YOLOv8/my_Model_training/data/qiu_data/test/test_4014.jpg: 640x640 4 dipoles, 9.3ms\n",
      "image 124/205 /home/jiajianhao/文档/cnn/my_Magnetic_methods-master/YOLOv8/my_Model_training/data/qiu_data/test/test_4015.jpg: 640x640 8 dipoles, 9.3ms\n",
      "image 125/205 /home/jiajianhao/文档/cnn/my_Magnetic_methods-master/YOLOv8/my_Model_training/data/qiu_data/test/test_4016.jpg: 640x640 2 dipoles, 9.3ms\n",
      "image 126/205 /home/jiajianhao/文档/cnn/my_Magnetic_methods-master/YOLOv8/my_Model_training/data/qiu_data/test/test_4017.jpg: 640x640 5 dipoles, 9.3ms\n",
      "image 127/205 /home/jiajianhao/文档/cnn/my_Magnetic_methods-master/YOLOv8/my_Model_training/data/qiu_data/test/test_4018.jpg: 640x640 2 dipoles, 9.3ms\n",
      "image 128/205 /home/jiajianhao/文档/cnn/my_Magnetic_methods-master/YOLOv8/my_Model_training/data/qiu_data/test/test_4019.jpg: 640x640 5 dipoles, 9.3ms\n",
      "image 129/205 /home/jiajianhao/文档/cnn/my_Magnetic_methods-master/YOLOv8/my_Model_training/data/qiu_data/test/test_4020.jpg: 640x640 6 dipoles, 9.2ms\n",
      "image 130/205 /home/jiajianhao/文档/cnn/my_Magnetic_methods-master/YOLOv8/my_Model_training/data/qiu_data/test/test_4021.jpg: 640x640 2 dipoles, 9.3ms\n",
      "image 131/205 /home/jiajianhao/文档/cnn/my_Magnetic_methods-master/YOLOv8/my_Model_training/data/qiu_data/test/test_4022.jpg: 640x640 6 dipoles, 9.2ms\n",
      "image 132/205 /home/jiajianhao/文档/cnn/my_Magnetic_methods-master/YOLOv8/my_Model_training/data/qiu_data/test/test_4023.jpg: 640x640 4 dipoles, 9.3ms\n",
      "image 133/205 /home/jiajianhao/文档/cnn/my_Magnetic_methods-master/YOLOv8/my_Model_training/data/qiu_data/test/test_4024.jpg: 640x640 6 dipoles, 9.3ms\n",
      "image 134/205 /home/jiajianhao/文档/cnn/my_Magnetic_methods-master/YOLOv8/my_Model_training/data/qiu_data/test/test_4025.jpg: 640x640 7 dipoles, 9.2ms\n",
      "image 135/205 /home/jiajianhao/文档/cnn/my_Magnetic_methods-master/YOLOv8/my_Model_training/data/qiu_data/test/test_4026.jpg: 640x640 4 dipoles, 9.2ms\n",
      "image 136/205 /home/jiajianhao/文档/cnn/my_Magnetic_methods-master/YOLOv8/my_Model_training/data/qiu_data/test/test_4027.jpg: 640x640 5 dipoles, 9.2ms\n",
      "image 137/205 /home/jiajianhao/文档/cnn/my_Magnetic_methods-master/YOLOv8/my_Model_training/data/qiu_data/test/test_4028.jpg: 640x640 2 dipoles, 9.3ms\n",
      "image 138/205 /home/jiajianhao/文档/cnn/my_Magnetic_methods-master/YOLOv8/my_Model_training/data/qiu_data/test/test_4029.jpg: 640x640 3 dipoles, 9.2ms\n",
      "image 139/205 /home/jiajianhao/文档/cnn/my_Magnetic_methods-master/YOLOv8/my_Model_training/data/qiu_data/test/test_4030.jpg: 640x640 5 dipoles, 9.2ms\n",
      "image 140/205 /home/jiajianhao/文档/cnn/my_Magnetic_methods-master/YOLOv8/my_Model_training/data/qiu_data/test/test_4031.jpg: 640x640 8 dipoles, 9.3ms\n",
      "image 141/205 /home/jiajianhao/文档/cnn/my_Magnetic_methods-master/YOLOv8/my_Model_training/data/qiu_data/test/test_4032.jpg: 640x640 5 dipoles, 9.2ms\n",
      "image 142/205 /home/jiajianhao/文档/cnn/my_Magnetic_methods-master/YOLOv8/my_Model_training/data/qiu_data/test/test_4033.jpg: 640x640 2 dipoles, 9.3ms\n",
      "image 143/205 /home/jiajianhao/文档/cnn/my_Magnetic_methods-master/YOLOv8/my_Model_training/data/qiu_data/test/test_4034.jpg: 640x640 2 dipoles, 9.2ms\n",
      "image 144/205 /home/jiajianhao/文档/cnn/my_Magnetic_methods-master/YOLOv8/my_Model_training/data/qiu_data/test/test_4035.jpg: 640x640 7 dipoles, 9.2ms\n",
      "image 145/205 /home/jiajianhao/文档/cnn/my_Magnetic_methods-master/YOLOv8/my_Model_training/data/qiu_data/test/test_4036.jpg: 640x640 7 dipoles, 9.2ms\n",
      "image 146/205 /home/jiajianhao/文档/cnn/my_Magnetic_methods-master/YOLOv8/my_Model_training/data/qiu_data/test/test_4037.jpg: 640x640 6 dipoles, 9.3ms\n",
      "image 147/205 /home/jiajianhao/文档/cnn/my_Magnetic_methods-master/YOLOv8/my_Model_training/data/qiu_data/test/test_4038.jpg: 640x640 2 dipoles, 9.2ms\n",
      "image 148/205 /home/jiajianhao/文档/cnn/my_Magnetic_methods-master/YOLOv8/my_Model_training/data/qiu_data/test/test_4039.jpg: 640x640 3 dipoles, 9.3ms\n",
      "image 149/205 /home/jiajianhao/文档/cnn/my_Magnetic_methods-master/YOLOv8/my_Model_training/data/qiu_data/test/test_4040.jpg: 640x640 1 dipole, 9.3ms\n",
      "image 150/205 /home/jiajianhao/文档/cnn/my_Magnetic_methods-master/YOLOv8/my_Model_training/data/qiu_data/test/test_4041.jpg: 640x640 4 dipoles, 9.2ms\n",
      "image 151/205 /home/jiajianhao/文档/cnn/my_Magnetic_methods-master/YOLOv8/my_Model_training/data/qiu_data/test/test_4042.jpg: 640x640 5 dipoles, 9.3ms\n",
      "image 152/205 /home/jiajianhao/文档/cnn/my_Magnetic_methods-master/YOLOv8/my_Model_training/data/qiu_data/test/test_4043.jpg: 640x640 2 dipoles, 9.3ms\n",
      "image 153/205 /home/jiajianhao/文档/cnn/my_Magnetic_methods-master/YOLOv8/my_Model_training/data/qiu_data/test/test_4044.jpg: 640x640 4 dipoles, 9.2ms\n",
      "image 154/205 /home/jiajianhao/文档/cnn/my_Magnetic_methods-master/YOLOv8/my_Model_training/data/qiu_data/test/test_4045.jpg: 640x640 4 dipoles, 9.4ms\n",
      "image 155/205 /home/jiajianhao/文档/cnn/my_Magnetic_methods-master/YOLOv8/my_Model_training/data/qiu_data/test/test_4046.jpg: 640x640 3 dipoles, 9.3ms\n",
      "image 156/205 /home/jiajianhao/文档/cnn/my_Magnetic_methods-master/YOLOv8/my_Model_training/data/qiu_data/test/test_4047.jpg: 640x640 2 dipoles, 9.2ms\n",
      "image 157/205 /home/jiajianhao/文档/cnn/my_Magnetic_methods-master/YOLOv8/my_Model_training/data/qiu_data/test/test_4048.jpg: 640x640 5 dipoles, 9.2ms\n",
      "image 158/205 /home/jiajianhao/文档/cnn/my_Magnetic_methods-master/YOLOv8/my_Model_training/data/qiu_data/test/test_4049.jpg: 640x640 2 dipoles, 9.3ms\n",
      "image 159/205 /home/jiajianhao/文档/cnn/my_Magnetic_methods-master/YOLOv8/my_Model_training/data/qiu_data/test/test_4050.jpg: 640x640 4 dipoles, 9.2ms\n",
      "image 160/205 /home/jiajianhao/文档/cnn/my_Magnetic_methods-master/YOLOv8/my_Model_training/data/qiu_data/test/test_4051.jpg: 640x640 1 dipole, 9.2ms\n",
      "image 161/205 /home/jiajianhao/文档/cnn/my_Magnetic_methods-master/YOLOv8/my_Model_training/data/qiu_data/test/test_4052.jpg: 640x640 2 dipoles, 9.2ms\n",
      "image 162/205 /home/jiajianhao/文档/cnn/my_Magnetic_methods-master/YOLOv8/my_Model_training/data/qiu_data/test/test_4053.jpg: 640x640 7 dipoles, 9.5ms\n",
      "image 163/205 /home/jiajianhao/文档/cnn/my_Magnetic_methods-master/YOLOv8/my_Model_training/data/qiu_data/test/test_4054.jpg: 640x640 4 dipoles, 9.2ms\n",
      "image 164/205 /home/jiajianhao/文档/cnn/my_Magnetic_methods-master/YOLOv8/my_Model_training/data/qiu_data/test/test_4055.jpg: 640x640 5 dipoles, 9.3ms\n",
      "image 165/205 /home/jiajianhao/文档/cnn/my_Magnetic_methods-master/YOLOv8/my_Model_training/data/qiu_data/test/test_4056.jpg: 640x640 5 dipoles, 9.3ms\n",
      "image 166/205 /home/jiajianhao/文档/cnn/my_Magnetic_methods-master/YOLOv8/my_Model_training/data/qiu_data/test/test_4057.jpg: 640x640 4 dipoles, 9.2ms\n",
      "image 167/205 /home/jiajianhao/文档/cnn/my_Magnetic_methods-master/YOLOv8/my_Model_training/data/qiu_data/test/test_4058.jpg: 640x640 2 dipoles, 9.2ms\n",
      "image 168/205 /home/jiajianhao/文档/cnn/my_Magnetic_methods-master/YOLOv8/my_Model_training/data/qiu_data/test/test_4059.jpg: 640x640 8 dipoles, 9.2ms\n",
      "image 169/205 /home/jiajianhao/文档/cnn/my_Magnetic_methods-master/YOLOv8/my_Model_training/data/qiu_data/test/test_4060.jpg: 640x640 4 dipoles, 9.3ms\n",
      "image 170/205 /home/jiajianhao/文档/cnn/my_Magnetic_methods-master/YOLOv8/my_Model_training/data/qiu_data/test/test_4061.jpg: 640x640 8 dipoles, 9.3ms\n",
      "image 171/205 /home/jiajianhao/文档/cnn/my_Magnetic_methods-master/YOLOv8/my_Model_training/data/qiu_data/test/test_4062.jpg: 640x640 2 dipoles, 9.3ms\n",
      "image 172/205 /home/jiajianhao/文档/cnn/my_Magnetic_methods-master/YOLOv8/my_Model_training/data/qiu_data/test/test_4063.jpg: 640x640 7 dipoles, 9.2ms\n",
      "image 173/205 /home/jiajianhao/文档/cnn/my_Magnetic_methods-master/YOLOv8/my_Model_training/data/qiu_data/test/test_4064.jpg: 640x640 2 dipoles, 9.2ms\n",
      "image 174/205 /home/jiajianhao/文档/cnn/my_Magnetic_methods-master/YOLOv8/my_Model_training/data/qiu_data/test/test_4065.jpg: 640x640 8 dipoles, 9.3ms\n",
      "image 175/205 /home/jiajianhao/文档/cnn/my_Magnetic_methods-master/YOLOv8/my_Model_training/data/qiu_data/test/test_4066.jpg: 640x640 2 dipoles, 9.2ms\n",
      "image 176/205 /home/jiajianhao/文档/cnn/my_Magnetic_methods-master/YOLOv8/my_Model_training/data/qiu_data/test/test_4067.jpg: 640x640 2 dipoles, 9.3ms\n",
      "image 177/205 /home/jiajianhao/文档/cnn/my_Magnetic_methods-master/YOLOv8/my_Model_training/data/qiu_data/test/test_4068.jpg: 640x640 8 dipoles, 9.2ms\n",
      "image 178/205 /home/jiajianhao/文档/cnn/my_Magnetic_methods-master/YOLOv8/my_Model_training/data/qiu_data/test/test_4069.jpg: 640x640 8 dipoles, 9.3ms\n",
      "image 179/205 /home/jiajianhao/文档/cnn/my_Magnetic_methods-master/YOLOv8/my_Model_training/data/qiu_data/test/test_4070.jpg: 640x640 3 dipoles, 9.4ms\n",
      "image 180/205 /home/jiajianhao/文档/cnn/my_Magnetic_methods-master/YOLOv8/my_Model_training/data/qiu_data/test/test_4071.jpg: 640x640 1 dipole, 9.2ms\n",
      "image 181/205 /home/jiajianhao/文档/cnn/my_Magnetic_methods-master/YOLOv8/my_Model_training/data/qiu_data/test/test_4072.jpg: 640x640 1 dipole, 9.2ms\n",
      "image 182/205 /home/jiajianhao/文档/cnn/my_Magnetic_methods-master/YOLOv8/my_Model_training/data/qiu_data/test/test_4073.jpg: 640x640 4 dipoles, 9.3ms\n",
      "image 183/205 /home/jiajianhao/文档/cnn/my_Magnetic_methods-master/YOLOv8/my_Model_training/data/qiu_data/test/test_4074.jpg: 640x640 3 dipoles, 9.2ms\n",
      "image 184/205 /home/jiajianhao/文档/cnn/my_Magnetic_methods-master/YOLOv8/my_Model_training/data/qiu_data/test/test_4075.jpg: 640x640 7 dipoles, 9.3ms\n",
      "image 185/205 /home/jiajianhao/文档/cnn/my_Magnetic_methods-master/YOLOv8/my_Model_training/data/qiu_data/test/test_4076.jpg: 640x640 6 dipoles, 9.2ms\n",
      "image 186/205 /home/jiajianhao/文档/cnn/my_Magnetic_methods-master/YOLOv8/my_Model_training/data/qiu_data/test/test_4077.jpg: 640x640 5 dipoles, 9.2ms\n",
      "image 187/205 /home/jiajianhao/文档/cnn/my_Magnetic_methods-master/YOLOv8/my_Model_training/data/qiu_data/test/test_4078.jpg: 640x640 6 dipoles, 9.2ms\n",
      "image 188/205 /home/jiajianhao/文档/cnn/my_Magnetic_methods-master/YOLOv8/my_Model_training/data/qiu_data/test/test_4079.jpg: 640x640 3 dipoles, 9.2ms\n",
      "image 189/205 /home/jiajianhao/文档/cnn/my_Magnetic_methods-master/YOLOv8/my_Model_training/data/qiu_data/test/test_4080.jpg: 640x640 1 dipole, 9.3ms\n",
      "image 190/205 /home/jiajianhao/文档/cnn/my_Magnetic_methods-master/YOLOv8/my_Model_training/data/qiu_data/test/test_4081.jpg: 640x640 2 dipoles, 9.2ms\n",
      "image 191/205 /home/jiajianhao/文档/cnn/my_Magnetic_methods-master/YOLOv8/my_Model_training/data/qiu_data/test/test_4082.jpg: 640x640 4 dipoles, 9.2ms\n",
      "image 192/205 /home/jiajianhao/文档/cnn/my_Magnetic_methods-master/YOLOv8/my_Model_training/data/qiu_data/test/test_4083.jpg: 640x640 8 dipoles, 9.2ms\n",
      "image 193/205 /home/jiajianhao/文档/cnn/my_Magnetic_methods-master/YOLOv8/my_Model_training/data/qiu_data/test/test_4084.jpg: 640x640 5 dipoles, 9.3ms\n",
      "image 194/205 /home/jiajianhao/文档/cnn/my_Magnetic_methods-master/YOLOv8/my_Model_training/data/qiu_data/test/test_4085.jpg: 640x640 9 dipoles, 9.2ms\n",
      "image 195/205 /home/jiajianhao/文档/cnn/my_Magnetic_methods-master/YOLOv8/my_Model_training/data/qiu_data/test/test_4086.jpg: 640x640 6 dipoles, 9.3ms\n",
      "image 196/205 /home/jiajianhao/文档/cnn/my_Magnetic_methods-master/YOLOv8/my_Model_training/data/qiu_data/test/test_4087.jpg: 640x640 8 dipoles, 9.4ms\n",
      "image 197/205 /home/jiajianhao/文档/cnn/my_Magnetic_methods-master/YOLOv8/my_Model_training/data/qiu_data/test/test_4088.jpg: 640x640 7 dipoles, 9.2ms\n",
      "image 198/205 /home/jiajianhao/文档/cnn/my_Magnetic_methods-master/YOLOv8/my_Model_training/data/qiu_data/test/test_4089.jpg: 640x640 5 dipoles, 9.3ms\n",
      "image 199/205 /home/jiajianhao/文档/cnn/my_Magnetic_methods-master/YOLOv8/my_Model_training/data/qiu_data/test/test_4090.jpg: 640x640 5 dipoles, 9.5ms\n",
      "image 200/205 /home/jiajianhao/文档/cnn/my_Magnetic_methods-master/YOLOv8/my_Model_training/data/qiu_data/test/test_4091.jpg: 640x640 8 dipoles, 9.3ms\n",
      "image 201/205 /home/jiajianhao/文档/cnn/my_Magnetic_methods-master/YOLOv8/my_Model_training/data/qiu_data/test/test_4092.jpg: 640x640 7 dipoles, 9.3ms\n",
      "image 202/205 /home/jiajianhao/文档/cnn/my_Magnetic_methods-master/YOLOv8/my_Model_training/data/qiu_data/test/test_4093.jpg: 640x640 4 dipoles, 9.3ms\n",
      "image 203/205 /home/jiajianhao/文档/cnn/my_Magnetic_methods-master/YOLOv8/my_Model_training/data/qiu_data/test/test_4094.jpg: 640x640 8 dipoles, 9.3ms\n",
      "image 204/205 /home/jiajianhao/文档/cnn/my_Magnetic_methods-master/YOLOv8/my_Model_training/data/qiu_data/test/test_4095.jpg: 640x640 7 dipoles, 9.3ms\n",
      "image 205/205 /home/jiajianhao/文档/cnn/my_Magnetic_methods-master/YOLOv8/my_Model_training/data/qiu_data/test/test_4096.jpg: 640x640 3 dipoles, 9.3ms\n",
      "Speed: 2.6ms preprocess, 9.3ms inference, 1.5ms postprocess per image at shape (1, 3, 640, 640)\n",
      "Results saved to \u001b[1mruns/detect/train3\u001b[0m\n"
     ]
    }
   ],
   "source": [
    "metrics = model.predict('/home/jiajianhao/文档/cnn/my_Magnetic_methods-master/YOLOv8/my_Model_training/data/qiu_data/test', save=True)"
   ]
  }
 ],
 "metadata": {
  "kernelspec": {
   "display_name": "mymag",
   "language": "python",
   "name": "python3"
  },
  "language_info": {
   "codemirror_mode": {
    "name": "ipython",
    "version": 3
   },
   "file_extension": ".py",
   "mimetype": "text/x-python",
   "name": "python",
   "nbconvert_exporter": "python",
   "pygments_lexer": "ipython3",
   "version": "3.9.18"
  }
 },
 "nbformat": 4,
 "nbformat_minor": 2
}
