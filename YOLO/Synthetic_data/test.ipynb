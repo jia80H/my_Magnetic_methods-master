{
 "cells": [
  {
   "cell_type": "code",
   "execution_count": 1,
   "metadata": {},
   "outputs": [],
   "source": [
    "import numpy as np\n",
    "import matplotlib.pyplot as plt\n",
    "from matplotlib.patches import Rectangle\n",
    "\n",
    "import os\n",
    "from sklearn.utils import shuffle\n",
    "import random\n",
    "from skimage import draw\n",
    "import pandas as pd\n",
    "\n",
    "from PIL import Image\n",
    "\n",
    "import seaborn as sns\n",
    "\n",
    "\n",
    "class MyModel(object):\n",
    "    miu_0 = 4 * np.pi * (1e-7)  # μ0为真空磁导率\n",
    "\n",
    "    def __init__(self, map_length=25, zmax=100, a=0.4, b=0.1, c=0.1,\n",
    "                 gama=90.0, theta=0.0, phi=-5.0, x=0, y=0, z=1.5, b_0=55000.0, I=70.0, D=3.5) -> None:\n",
    "\n",
    "        self.map_length = map_length\n",
    "        self.zmax = zmax\n",
    "        self.X = np.linspace(-map_length, map_length, zmax)  # 0,1,...x\n",
    "        self.Y = np.linspace(-map_length, map_length, zmax)\n",
    "        self.center = [x, y, z]  # 中心点坐标\n",
    "        self.axis = [a, b, c]  # 三个轴长 a> b > c\n",
    "        self.D = np.radians(D)  # 磁偏角\n",
    "        self.I = np.radians(I)  # 磁倾角\n",
    "        # self.I = np.arctan(2*np.tan(np.radians(I)))  # 磁倾角\n",
    "        self.b_0 = b_0\n",
    "        self.B_0 = self.__dicichang()\n",
    "\n",
    "        if b == c:\n",
    "            self.axis = [a, b, b]\n",
    "            self.e = a/b  # 横纵轴比\n",
    "        # 椭球的方向\n",
    "        self.gama = gama\n",
    "        self.theta = theta\n",
    "        self.phi = phi\n",
    "        # 转为rad值\n",
    "        self.gama_rad = np.radians(self.gama)\n",
    "        self.theta_rad = np.radians(self.theta)\n",
    "        self.phi_rad = np.radians(self.phi)\n",
    "\n",
    "        self.V = self.__volme()  # 体积\n",
    "        self.A = self.__euler_angles()  # 欧拉旋转角\n",
    "        self.X_d = self.__effective_permeability_matrix()  # 计算有效磁化率矩阵\n",
    "        self.m_i = self.__total_magnetic_dipole_moment()  # 总磁偶极矩\n",
    "        self.F = self.__ji_suan_yi_chang()\n",
    "\n",
    "    # 计算体积\n",
    "\n",
    "    def __volme(self):\n",
    "        return 4/3*np.pi*self.axis[0]*self.axis[1]*self.axis[2]\n",
    "\n",
    "    # 计算地磁场\n",
    "    def __dicichang(self):\n",
    "        b0 = self.b_0 * np.array([np.cos(self.I)*np.cos(self.D),\n",
    "                                 np.cos(self.I)*np.sin(self.D), np.sin(self.I)])\n",
    "        return b0\n",
    "    # 计算欧拉旋转角\n",
    "\n",
    "    def __euler_angles(self):\n",
    "        A = np.array([\n",
    "            [np.cos(self.gama_rad) * np.cos(self.phi_rad), -np.cos(self.gama_rad)\n",
    "             * np.sin(self.phi_rad), -np.sin(self.gama_rad)],\n",
    "            [np.sin(self.theta_rad) * np.sin(self.gama_rad) * np.cos(self.phi_rad) + np.cos(self.theta_rad) * np.sin(self.phi_rad),\n",
    "             -np.sin(self.theta_rad) * np.sin(self.gama_rad) *\n",
    "             np.sin(self.phi_rad) + np.cos(self.theta_rad) *\n",
    "             np.sin(self.phi_rad),\n",
    "             np.sin(self.theta_rad) * np.cos(self.gama_rad)],\n",
    "            [np.cos(self.theta_rad) * np.sin(self.gama_rad) * np.cos(self.phi_rad) - np.sin(self.theta_rad) * np.sin(self.phi_rad),\n",
    "             -np.cos(self.theta_rad) * np.sin(self.gama_rad) *\n",
    "             np.sin(self.phi_rad) - np.sin(self.theta_rad) *\n",
    "             np.cos(self.gama_rad),\n",
    "             np.cos(self.theta_rad) * np.cos(self.gama_rad)]\n",
    "        ])\n",
    "        return A\n",
    "\n",
    "    # 计算有效磁化率矩阵\n",
    "    def __effective_permeability_matrix(self):\n",
    "        E = np.log(self.e - np.sqrt(self.e**2 - 1)) / np.sqrt(self.e**2 - 1)\n",
    "        alpha_1 = (self.e * (self.e + E)) / (self.e**2 - 1)\n",
    "        alpha_3 = (-2 * self.e * (self.e**(-1) + E)) / (self.e**2 - 1)\n",
    "        alpha_2 = (self.e * (self.e + E)) / (self.e**2 - 1)\n",
    "        v = [2/alpha_1, 2/alpha_2, 2/alpha_3]\n",
    "        X_d = np.diag(v)\n",
    "        return X_d\n",
    "\n",
    "    # 计算总磁偶极矩\n",
    "\n",
    "    def __total_magnetic_dipole_moment(self):\n",
    "        m_i = (self.V/MyModel.miu_0)*self.A.T @ self.X_d @ self.A @ self.B_0\n",
    "\n",
    "        return m_i\n",
    "\n",
    "    def __ji_suan_yi_chang(self):\n",
    "        X = self.X\n",
    "        Y = self.Y\n",
    "        miu_0 = MyModel.miu_0\n",
    "        m_i = self.m_i\n",
    "        I = self.I\n",
    "        D = self.D\n",
    "        Z = 0\n",
    "        x_0, y_0, z_0 = self.center\n",
    "        X_0, Y_0 = np.meshgrid(X, Y)\n",
    "        igrf = np.array([np.cos(I)*np.cos(D), np.cos(I) *\n",
    "                        np.sin(D), np.sin(I)], dtype=float)\n",
    "        self.igrf = igrf\n",
    "        temp1 = np.empty_like(X_0, dtype=float)\n",
    "        temp2 = np.empty_like(X_0, dtype=float)\n",
    "        temp3 = np.empty_like(X_0, dtype=float)\n",
    "        temp4 = np.empty_like(X_0, dtype=object)\n",
    "        temp5 = np.empty_like(X_0, dtype=object)\n",
    "        b = np.empty_like(X_0, dtype=object)\n",
    "        F1 = np.empty_like(X_0, dtype=float)\n",
    "        for i in range(X_0.shape[0]):\n",
    "            for j in range(Y_0.shape[1]):\n",
    "                R = np.array([X_0[i, j] - x_0, Y_0[i, j] -\n",
    "                             y_0, Z - z_0], dtype=float)\n",
    "                RR = np.linalg.norm(R)\n",
    "                temp1[i, j] = miu_0 / (4 * np.pi * RR ** 3)\n",
    "                temp2[i, j] = 3 / RR ** 2\n",
    "                temp3[i, j] = np.dot(R, m_i)\n",
    "                temp4[i, j] = temp3[i, j] * R\n",
    "                temp5[i, j] = temp2[i, j] * temp4[i, j] - m_i\n",
    "                b[i, j] = temp1[i, j] * temp5[i, j]\n",
    "\n",
    "                F1[i, j] = b[i, j] @ igrf.T\n",
    "\n",
    "        return F1\n"
   ]
  },
  {
   "cell_type": "code",
   "execution_count": 10,
   "metadata": {},
   "outputs": [],
   "source": [
    "test=MyModel(a=1)"
   ]
  },
  {
   "cell_type": "code",
   "execution_count": null,
   "metadata": {},
   "outputs": [],
   "source": []
  },
  {
   "cell_type": "code",
   "execution_count": 6,
   "metadata": {},
   "outputs": [],
   "source": [
    "map_lenght=25\n",
    "zmax=100"
   ]
  },
  {
   "cell_type": "code",
   "execution_count": 11,
   "metadata": {},
   "outputs": [
    {
     "data": {
      "text/plain": [
       "<matplotlib.contour.QuadContourSet at 0x7f1e12623ca0>"
      ]
     },
     "execution_count": 11,
     "metadata": {},
     "output_type": "execute_result"
    },
    {
     "data": {
      "image/png": "[encoded data removed]",
      "text/plain": [
       "<Figure size 640x480 with 1 Axes>"
      ]
     },
     "metadata": {},
     "output_type": "display_data"
    }
   ],
   "source": [
    "X = np.linspace(-map_lenght, map_lenght, zmax)\n",
    "Y = np.linspace(-map_lenght, map_lenght, zmax)\n",
    "\n",
    "\n",
    "plt.contourf(X, Y, test.F, levels=16, cmap='rainbow')"
   ]
  }
 ],
 "metadata": {
  "kernelspec": {
   "display_name": "mymag",
   "language": "python",
   "name": "python3"
  },
  "language_info": {
   "codemirror_mode": {
    "name": "ipython",
    "version": 3
   },
   "file_extension": ".py",
   "mimetype": "text/x-python",
   "name": "python",
   "nbconvert_exporter": "python",
   "pygments_lexer": "ipython3",
   "version": "3.9.18"
  }
 },
 "nbformat": 4,
 "nbformat_minor": 2
}
