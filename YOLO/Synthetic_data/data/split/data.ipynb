{
 "cells": [
  {
   "cell_type": "code",
   "execution_count": 6,
   "metadata": {},
   "outputs": [],
   "source": [
    "import numpy as np\n",
    "import matplotlib.pyplot as plt"
   ]
  },
  {
   "cell_type": "code",
   "execution_count": 5,
   "metadata": {},
   "outputs": [
    {
     "name": "stdout",
     "output_type": "stream",
     "text": [
      "4\n"
     ]
    }
   ],
   "source": [
    "theta_range1 = [0, 30, 60, 90]\n",
    "print(len(theta_range1))"
   ]
  },
  {
   "cell_type": "code",
   "execution_count": 17,
   "metadata": {},
   "outputs": [
    {
     "name": "stdout",
     "output_type": "stream",
     "text": [
      "90\n"
     ]
    }
   ],
   "source": []
  },
  {
   "cell_type": "code",
   "execution_count": 20,
   "metadata": {},
   "outputs": [],
   "source": [
    "def add_all_data(theta_range1):\n",
    "    X_data_array_raw = np.zeros((4,int(256*len(theta_range1)),100,100))\n",
    "    Parameters_array = np.zeros((4,int(256*len(theta_range1)),5))\n",
    "    for theta_range_num in theta_range1:\n",
    "        X_data_array_raw_1 = np.load(\n",
    "            file=\"./X_data_array_raw768_\"+str(theta_range_num)+\".npy\")\n",
    "        Parameters_array_1 = np.load(\n",
    "            file=\"./Parameters_array_raw768_\"+str(theta_range_num)+\".npy\")\n",
    "        start = int(theta_range_num/30*256)\n",
    "        print\n",
    "        end = int(theta_range_num/30*256+256)\n",
    "        X_data_array_raw[:,start:end,:,:]= X_data_array_raw_1\n",
    "        Parameters_array[:,start:end,:] = Parameters_array_1\n",
    "    return X_data_array_raw, Parameters_array"
   ]
  },
  {
   "cell_type": "code",
   "execution_count": 21,
   "metadata": {},
   "outputs": [],
   "source": [
    "X_data_array_raw, Parameters_array_raw = add_all_data(theta_range1)"
   ]
  },
  {
   "cell_type": "code",
   "execution_count": 13,
   "metadata": {},
   "outputs": [],
   "source": [
    "\n",
    "X_data_array_raw = np.load(\n",
    "    file=\"./X_data_array_raw768_0.npy\")\n",
    "Parameters_array_raw = np.load(\n",
    "    file=\"./Parameters_array_raw768_0.npy\")"
   ]
  },
  {
   "cell_type": "code",
   "execution_count": 14,
   "metadata": {},
   "outputs": [
    {
     "name": "stdout",
     "output_type": "stream",
     "text": [
      "(4, 256, 100, 100)\n",
      "(4, 256, 5)\n"
     ]
    }
   ],
   "source": [
    "print(X_data_array_raw.shape)\n",
    "print(Parameters_array_raw.shape)\n",
    "print(X_data_array_raw)"
   ]
  }
 ],
 "metadata": {
  "kernelspec": {
   "display_name": "tensorflow",
   "language": "python",
   "name": "python3"
  },
  "language_info": {
   "codemirror_mode": {
    "name": "ipython",
    "version": 3
   },
   "file_extension": ".py",
   "mimetype": "text/x-python",
   "name": "python",
   "nbconvert_exporter": "python",
   "pygments_lexer": "ipython3",
   "version": "3.9.18"
  }
 },
 "nbformat": 4,
 "nbformat_minor": 2
}
