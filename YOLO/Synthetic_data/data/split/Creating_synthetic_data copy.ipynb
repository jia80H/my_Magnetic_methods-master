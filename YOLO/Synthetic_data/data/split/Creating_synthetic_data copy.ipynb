{
  "cells": [
    {
      "cell_type": "markdown",
      "metadata": {},
      "source": [
        "# 创建合成数据\n",
        "可用的真实地图数量很少(最多1000个示例)。为了克服这一困难，利用模拟数据对卷积神经网络进行训练和验证。"
      ]
    },
    {
      "cell_type": "markdown",
      "metadata": {},
      "source": [
        "## 导入模块"
      ]
    },
    {
      "cell_type": "code",
      "execution_count": 1,
      "metadata": {
        "id": "MlzuP1A0mn1_"
      },
      "outputs": [],
      "source": [
        "import numpy as np\n",
        "import matplotlib.pyplot as plt\n",
        "from matplotlib.patches import Rectangle \n",
        "%matplotlib inline\n",
        "\n",
        "import os\n",
        "from sklearn.utils import shuffle \n",
        "import random\n",
        "from skimage import draw\n",
        "import pandas as pd\n",
        "from scipy import ndimage\n",
        "import cv2 \n",
        "\n",
        "from PIL import Image\n",
        "\n",
        "import seaborn as sns\n",
        "sns.set()\n",
        "\n",
        "from tqdm import tqdm\n",
        "\n",
        "#%matplotlib notebook\n",
        "np.set_printoptions(suppress=True)  # 禁止打印多余信息"
      ]
    },
    {
      "cell_type": "code",
      "execution_count": 2,
      "metadata": {
        "colab": {
          "base_uri": "https://localhost:8080/",
          "height": 37
        },
        "id": "wwnApjUfzmKw",
        "outputId": "c9e28835-6fe2-4e82-aa64-a1366847eb91"
      },
      "outputs": [
        {
          "data": {
            "text/plain": [
              "'/home/jiajianhao/文档/cnn/Magnetic_methods-master/YOLO/Synthetic_data/data/split'"
            ]
          },
          "execution_count": 2,
          "metadata": {},
          "output_type": "execute_result"
        }
      ],
      "source": [
        "os.getcwd()"
      ]
    },
    {
      "cell_type": "code",
      "execution_count": 3,
      "metadata": {
        "id": "FpHJDk99mpiT"
      },
      "outputs": [],
      "source": [
        "# from My_Utils import * # all the functions created that will be useful\n",
        "# all the functions created that will be useful\n",
        "from My_Utils_Magnetic_methods import *\n",
        "from My_Utils import *\n",
        "# 设置画图语言为雅黑体\n",
        "plt.rcParams['font.sans-serif'] = ['WenQuanYi Zen Hei']\n",
        "plt.rcParams['axes.unicode_minus'] = False"
      ]
    },
    {
      "cell_type": "markdown",
      "metadata": {
        "id": "Ps7MgoHQnHOT"
      },
      "source": [
        "##  Model"
      ]
    },
    {
      "cell_type": "markdown",
      "metadata": {},
      "source": [
        "\n",
        "### Model Griding\n",
        "这段代码创建了一个网格，其中 'zmax' 表示总的网格线数，'map_lenght' 表示地图的长度，以米为单位。然后使用自建的工具模块 `grid` 函数生成 X 和 Y 的坐标(x,y都是-25到25,共100个值)\n"
      ]
    },
    {
      "cell_type": "code",
      "execution_count": 4,
      "metadata": {
        "colab": {
          "base_uri": "https://localhost:8080/"
        },
        "id": "PWOAWYoinHsv",
        "outputId": "9233a06f-afca-43f1-bbe9-2e11ffd65274"
      },
      "outputs": [
        {
          "name": "stdout",
          "output_type": "stream",
          "text": [
            "X array shape: (100, 1)\n",
            "Y array shape: (1, 100)\n",
            "Cell lenght: 0.5\n"
          ]
        }
      ],
      "source": [
        "grid_caracteristic = {\n",
        "\n",
        "    'zmax': 100,  # Total number of grid lines\n",
        "    # [m] Our grid will be between (-map_lenght,map_lenght) because our anomalie is centered in (0,0)\n",
        "    'map_lenght': 25\n",
        "}  # 网格属性\n",
        "\n",
        "zmax = grid_caracteristic['zmax']\n",
        "map_lenght = grid_caracteristic['map_lenght']\n",
        "\n",
        "X, Y = grid(zmax, map_lenght)  # X and Y in [meters]\n",
        "\n",
        "print(f'X array shape: {X.shape}')\n",
        "print(f'Y array shape: {Y.shape}')\n",
        "print(f'Cell lenght: {(map_lenght*2)/zmax}')"
      ]
    },
    {
      "cell_type": "markdown",
      "metadata": {
        "id": "YLnZH5JInYJM"
      },
      "source": [
        "\n",
        "### Latitudes\n",
        "\n"
      ]
    },
    {
      "cell_type": "markdown",
      "metadata": {},
      "source": [
        "使用 `latitudes_array` 函数生成相应的纬度数组（以度和弧度表示），以及倾斜角（Inclination）的数组。\n"
      ]
    },
    {
      "cell_type": "code",
      "execution_count": 5,
      "metadata": {
        "colab": {
          "base_uri": "https://localhost:8080/"
        },
        "id": "JUQWPs9lnWIt",
        "outputId": "1a93d0e5-693a-4d87-8739-9f80a4be464d"
      },
      "outputs": [
        {
          "name": "stdout",
          "output_type": "stream",
          "text": [
            "Latitudes: [ 0 30 60 90] [°]\n",
            "Latitudes: [0.   0.52 1.05 1.57] [rad]\n",
            "Inclinaison: [0.   0.86 1.29 1.57] [rad]\n"
          ]
        }
      ],
      "source": [
        "lat_dict = {\n",
        "\n",
        "    'lat_min': 0,  # [°]\n",
        "    'lat_max': 120,  # [°]\n",
        "    'lat_frequency': 30,  # [°]\n",
        "\n",
        "}\n",
        "\n",
        "lat_array, lat_array_rad, I = latitudes_array(\n",
        "    lat_dict['lat_min'], lat_dict['lat_max'], lat_dict['lat_frequency'])\n",
        "\n",
        "print(f'Latitudes: {lat_array} [°]')  # °\n",
        "print(f'Latitudes: {np.round(lat_array_rad, decimals=2)} [rad]')  # 弧度制\n",
        "print(f'Inclinaison: {np.round(I, decimals=2)} [rad]')  # 倾角"
      ]
    },
    {
      "cell_type": "markdown",
      "metadata": {
        "id": "_snwf2pPnfPP"
      },
      "source": [
        "\n",
        "## Defining anomalies physical characteristics\n",
        "\n"
      ]
    },
    {
      "cell_type": "markdown",
      "metadata": {},
      "source": [
        "这段代码定义了一些物理参数"
      ]
    },
    {
      "cell_type": "code",
      "execution_count": 6,
      "metadata": {
        "colab": {
          "base_uri": "https://localhost:8080/"
        },
        "id": "1ZQDiW7_ncnu",
        "outputId": "09afda2d-20bb-47de-8e4e-3b03411f569b"
      },
      "outputs": [
        {
          "name": "stdout",
          "output_type": "stream",
          "text": [
            "Radius: [0.05 0.06 0.07 0.08] [meters]\n",
            "Volume: [0.002 0.004 0.006 0.009] [m^3]\n",
            "Number of V: 4\n",
            "---------------------------------------------\n",
            "Depth: [1.  1.2 1.4 1.6] [meters]\n",
            "Number of h: 4\n",
            "---------------------------------------------\n",
            "Number of examples: 1024\n",
            "Parameters array shape: (1024, 5) \n"
          ]
        }
      ],
      "source": [
        "r_v_d_dict = {\n",
        "\n",
        "    'Br': 47000,  # Champ local(nT)\n",
        "    'r_min': 0.05,  # [meters]\n",
        "    'r_max': 0.09,  # [meters]\n",
        "    'eAboughtLAndR': 4,\n",
        "    'r_frequency': 0.01,  # [meters]\n",
        "    'h_min': 1.0,  # [meters]\n",
        "    'h_max': 1.8,  # [meters]\n",
        "    'h_frequency': 0.2,  # [meters]\n",
        "\n",
        "\n",
        "}\n",
        "\n",
        "Br = r_v_d_dict['Br']\n",
        "r_min = r_v_d_dict['r_min']\n",
        "r_max = r_v_d_dict['r_max']\n",
        "eAboughtLAndR = r_v_d_dict['eAboughtLAndR']\n",
        "r_frequency = r_v_d_dict['r_frequency']\n",
        "h_min = r_v_d_dict['h_min']\n",
        "h_max = r_v_d_dict['h_max']\n",
        "h_frequency = r_v_d_dict['h_frequency']\n",
        "# position = np.array(\n",
        "#     np.mat('0 0 0;60 0 0'))\n",
        "# position = np.array(\n",
        "#     np.mat('0 0 0;30 0 0;60 0 0;60 180 0;60 270 0;90 0 60;90 0 180;0 120 0;0 90 0'))\n",
        "theta_range = [0,30,60,90]\n",
        "theta_frequency = 30\n",
        "phi_range = [0,90,120,180]\n",
        "phi_frequency = 90\n",
        "gama_range = [0,60,120,180]\n",
        "r_array = np.arange(r_min, r_max, r_frequency)\n",
        "numberOfPosition = len(theta_range)*len(phi_range)*len(gama_range)\n",
        "position = np.zeros((numberOfPosition,3))\n",
        "count = 0\n",
        "for theta in theta_range:\n",
        "    for phi in phi_range:\n",
        "        for gama in gama_range:\n",
        "            position[count,:] = gama,theta,phi\n",
        "            count+=1\n",
        "\n",
        "\n",
        "r_array, V_array, h_array, n_examples, Parameters_array = r_V_h_array(r_min, r_max, r_frequency, eAboughtLAndR,\n",
        "                                                                      h_min, h_max, h_frequency, position,\n",
        "                                                                      zmax, Br)\n",
        "L_array = eAboughtLAndR*r_array\n",
        "\n",
        "# Last 3 examples\n",
        "print(f'Radius: {np.round(r_array[:], decimals=3)} [meters]')\n",
        "print(f'Volume: {V_array[:]} [m^3]')  # Last 3 examples\n",
        "print(f'Number of V: {V_array.shape[0]}')  # Last 3 examples\n",
        "print(\"---------------------------------------------\")\n",
        "# Last 3 examples\n",
        "print(f'Depth: {np.round(h_array[:], decimals = 2)} [meters]')\n",
        "print(f'Number of h: {h_array.shape[0]}')  # Last 3 examples\n",
        "print(\"---------------------------------------------\")\n",
        "print(f'Number of examples: {n_examples}')\n",
        "print(f'Parameters array shape: {Parameters_array.shape} ')"
      ]
    },
    {
      "cell_type": "markdown",
      "metadata": {
        "id": "oTw--lOio-TE"
      },
      "source": [
        "<a name='4'></a>\n",
        "## 4.  Creating X and Y array "
      ]
    },
    {
      "cell_type": "markdown",
      "metadata": {
        "id": "ojdsN6EgpA-c"
      },
      "source": [
        "<a name='4.1'></a>\n",
        "### 4.1 Raw data (before data augmetation在数据增强之前)\n",
        "\n"
      ]
    },
    {
      "cell_type": "markdown",
      "metadata": {},
      "source": [
        "这个函数似乎用于计算垂直方向上的磁感应强度。它通过对每个经度的不同纬度值进行迭代，计算在每个网格点上的磁感应强度。\n",
        "\n",
        "函数的输入包括磁场强度（'Br'）、磁矩（'m'）、倾斜角（'I'）、X、Y、深度（'h'）、传感器的底部和顶部高度（'H_capteur_bas'和'H_capteur_haut'）、纬度数量（'N_lat'）、示例数量（'examples'）、网格数量（'zmax'）、参数数量（'n_parameters'）、以及纬度的弧度表示和参数数组。\n",
        "\n",
        "该函数的输出包括一个包含磁感应强度值的三维数组（'X_array_raw'）和一个包含体积和深度值的三维数组（'Parameters_array_raw'）。\n"
      ]
    },
    {
      "cell_type": "code",
      "execution_count": 7,
      "metadata": {
        "id": "zxAxCk4Tnlod"
      },
      "outputs": [],
      "source": [
        "# Capteur type fluxgate, on calcule la composante verticale\n",
        "\n",
        "def X_array_raw(map_lenght, eAboughtLAndR,N_lat, examples,\n",
        "                zmax, n_parameters, lat_array, Parameters_array):\n",
        "\n",
        "    X_array_raw = np.zeros((N_lat, examples, zmax, zmax))  # 初始化磁感应值数组\n",
        "    Parameters_array_raw = np.zeros((N_lat, examples, n_parameters))  # 初始化参数数组\n",
        "\n",
        "\n",
        "    i = 0\n",
        "\n",
        "    for i_lat in lat_array:  # 遍历纬度弧度\n",
        "        Parameters_array_raw[i, :, :] = Parameters_array[:, :]\n",
        "        for i_example in range(examples):\n",
        "            r = round(Parameters_array[i_example,0],2)\n",
        "            L = round(eAboughtLAndR * r,2)\n",
        "            z = round(Parameters_array[i_example,1],2)\n",
        "            gama,theta,phi = Parameters_array[i_example,2:]\n",
        "            print(i_lat,i_example,r,L,z,gama,theta,phi)\n",
        "            # X_array_raw[i,i_example, :, :] = MyModel().F\n",
        "            X_array_raw[i,i_example, :, :] = MyModel(map_lenght, zmax, L, r,r ,gama,theta,phi,0,0,z=z,I=i_lat,D=0).F\n",
        "        i =i + 1\n",
        "\n",
        "    return X_array_raw, Parameters_array_raw"
      ]
    },
    {
      "cell_type": "code",
      "execution_count": 8,
      "metadata": {
        "colab": {
          "base_uri": "https://localhost:8080/"
        },
        "id": "9F9zPr-ApEmX",
        "outputId": "1fd1a25b-650a-4e35-bf8b-3afef6b30d4b"
      },
      "outputs": [],
      "source": [
        "### X_data array, Calculating Induction magnétique de l'Anomalie [nT] ###\n",
        "\n",
        "X_Y_array_dict = {\n",
        "    'N_latitudes': lat_array.shape[0],  # Number of latitudes\n",
        "    'N_parameters': Parameters_array.shape[1]  # Number of parameters\n",
        "}\n",
        "\n",
        "N_latitudes = X_Y_array_dict[\"N_latitudes\"]\n",
        "N_parameters = X_Y_array_dict[\"N_parameters\"]"
      ]
    },
    {
      "cell_type": "code",
      "execution_count": 9,
      "metadata": {},
      "outputs": [],
      "source": [
        "# X_data_array_raw, Parameters_array_raw = X_array_raw(map_lenght,eAboughtLAndR , N_latitudes,\n",
        "#                                                      n_examples, zmax, N_parameters,\n",
        "#                                                      lat_array, Parameters_array)\n",
        "\n",
        "# print(f'X array raw shape: {X_data_array_raw.shape}')\n",
        "# print(f'Parameters array raw shape: {Parameters_array_raw.shape}')\n",
        "# # 存储\n",
        "# np.save(file=\"./data/X_data_array_raw768.npy\", arr=X_data_array_raw)\n",
        "# np.save(file=\"./data/Parameters_array_raw768.npy\", arr=Parameters_array_raw)"
      ]
    },
    {
      "cell_type": "code",
      "execution_count": 10,
      "metadata": {},
      "outputs": [],
      "source": [
        "theta_range1 = theta_range\n",
        "def add_all_data(theta_range1):\n",
        "    X_data_array_raw = np.zeros((4,int(256*len(theta_range1)),100,100))\n",
        "    Parameters_array = np.zeros((4,int(256*len(theta_range1)),5))\n",
        "    for theta_range_num in theta_range1:\n",
        "        X_data_array_raw_1 = np.load(\n",
        "            file=\"./X_data_array_raw768_\"+str(theta_range_num)+\".npy\")\n",
        "        Parameters_array_1 = np.load(\n",
        "            file=\"./Parameters_array_raw768_\"+str(theta_range_num)+\".npy\")\n",
        "        start = int(theta_range_num/30*256)\n",
        "        print\n",
        "        end = int(theta_range_num/30*256+256)\n",
        "        X_data_array_raw[:,start:end,:,:]= X_data_array_raw_1\n",
        "        Parameters_array[:,start:end,:] = Parameters_array_1\n",
        "    return X_data_array_raw, Parameters_array\n",
        "for theta_range_num in theta_range1:\n",
        "    X_data_array_raw = np.load(\n",
        "        file=\"./X_data_array_raw768_\"+str(theta_range_num)+\".npy\")\n",
        "    Parameters_array_raw = np.load(\n",
        "        file=\"./Parameters_array_raw768_\"+str(theta_range_num)+\".npy\")\n"
      ]
    },
    {
      "cell_type": "code",
      "execution_count": 11,
      "metadata": {},
      "outputs": [],
      "source": [
        "X_data_array_raw,Parameters_array_raw = add_all_data(theta_range1)"
      ]
    },
    {
      "cell_type": "code",
      "execution_count": 12,
      "metadata": {},
      "outputs": [
        {
          "name": "stdout",
          "output_type": "stream",
          "text": [
            "(4, 1024, 100, 100)\n",
            "(4, 1024, 5)\n"
          ]
        }
      ],
      "source": [
        "print(X_data_array_raw.shape)\n",
        "print(Parameters_array_raw.shape)"
      ]
    },
    {
      "cell_type": "code",
      "execution_count": 13,
      "metadata": {
        "colab": {
          "base_uri": "https://localhost:8080/"
        },
        "id": "U4XwZ2EwpKqq",
        "outputId": "822464c4-957a-4912-d563-13bf5484c12d"
      },
      "outputs": [
        {
          "name": "stdout",
          "output_type": "stream",
          "text": [
            "(4, 1024, 64, 64)\n"
          ]
        }
      ],
      "source": [
        "par_window = 64  # 24 to have a better look\n",
        "\n",
        "diff_max = int((zmax + par_window) / 2)\n",
        "diff_min = int((zmax - par_window) / 2)\n",
        "\n",
        "X_data_array_raw_2 = X_data_array_raw[:,:, diff_min:diff_max, diff_min:diff_max]\n",
        "\n",
        "print(X_data_array_raw_2.shape)"
      ]
    },
    {
      "cell_type": "code",
      "execution_count": 14,
      "metadata": {
        "colab": {
          "base_uri": "https://localhost:8080/",
          "height": 890
        },
        "id": "hKRDsQnvpULZ",
        "outputId": "fe91e55d-9c26-47b4-da77-e048b4eeb505"
      },
      "outputs": [
        {
          "name": "stdout",
          "output_type": "stream",
          "text": [
            "Plotting model: 10\n"
          ]
        },
        {
          "data": {
            "image/png": "[encoded data removed]",
            "text/plain": [
              "<Figure size 1600x1200 with 8 Axes>"
            ]
          },
          "metadata": {},
          "output_type": "display_data"
        }
      ],
      "source": [
        "Raw_visualization_dict = {\n",
        "\n",
        "    'height': 16,\n",
        "    'width': 12,\n",
        "    'n_model_aug': None,  # Not yet\n",
        "    'n_dipoles': None,  # Not yet\n",
        "\n",
        "}\n",
        "\n",
        "height = Raw_visualization_dict['height']\n",
        "width = Raw_visualization_dict['width']\n",
        "n_model_aug = Raw_visualization_dict['n_model_aug']\n",
        "n_dipoles = Raw_visualization_dict['n_dipoles']\n",
        "\n",
        "rows = 2\n",
        "cols = 2\n",
        "\n",
        "example_to_plot = 10\n",
        "\n",
        "par_window = 100\n",
        "\n",
        "Plot_X_array_raw(map_lenght, height, width, example_to_plot, lat_array, X_data_array_raw,\n",
        "                 Parameters_array_raw, n_model_aug, n_dipoles, rows, cols, par_window)"
      ]
    },
    {
      "cell_type": "markdown",
      "metadata": {
        "id": "4F-DVHHwkqFu"
      },
      "source": [
        "### rearranging database shape"
      ]
    },
    {
      "cell_type": "code",
      "execution_count": 15,
      "metadata": {},
      "outputs": [
        {
          "name": "stdout",
          "output_type": "stream",
          "text": [
            "(4, 1024, 100, 100)\n",
            "(4, 1024, 64, 64)\n",
            "(4, 1024, 5)\n"
          ]
        }
      ],
      "source": [
        "print(X_data_array_raw.shape)\n",
        "print(X_data_array_raw_2.shape)\n",
        "print(Parameters_array_raw.shape)"
      ]
    },
    {
      "cell_type": "code",
      "execution_count": 16,
      "metadata": {
        "id": "iKq-2xylkwOX"
      },
      "outputs": [
        {
          "name": "stderr",
          "output_type": "stream",
          "text": [
            "100%|██████████| 4/4 [00:00<00:00, 37.06it/s]\n"
          ]
        }
      ],
      "source": [
        "random_seed_2 = 10\n",
        "\n",
        "for lat_i in tqdm(range(X_data_array_raw.shape[0])):\n",
        "\n",
        "    X_data_array_raw_2[lat_i, :] = shuffle(\n",
        "        X_data_array_raw_2[lat_i, :], random_state=random_seed_2)\n",
        "    Parameters_array_raw[lat_i, :] = shuffle(\n",
        "        Parameters_array_raw[lat_i, :], random_state=random_seed_2)\n"
      ]
    },
    {
      "cell_type": "code",
      "execution_count": 17,
      "metadata": {},
      "outputs": [
        {
          "name": "stdout",
          "output_type": "stream",
          "text": [
            "(4, 1024, 100, 100)\n",
            "(4, 1024, 64, 64)\n",
            "(4, 1024, 5)\n"
          ]
        }
      ],
      "source": [
        "print(X_data_array_raw.shape)\n",
        "print(X_data_array_raw_2.shape)\n",
        "print(Parameters_array_raw.shape)"
      ]
    },
    {
      "cell_type": "code",
      "execution_count": 18,
      "metadata": {
        "id": "183Ilgo8kyaH"
      },
      "outputs": [],
      "source": [
        "train_rate = 0.70\n",
        "dev_rate = 0.25\n",
        "test_rate = 0.05\n",
        "\n",
        "examples_t = X_data_array_raw_2.shape[1]\n",
        "\n",
        "X_train = X_data_array_raw_2[0, :int(examples_t*train_rate), :, :]\n",
        "Y_pos_train = Parameters_array_raw[0, :int(examples_t*train_rate), :]\n",
        "\n",
        "X_dev = X_data_array_raw_2[0, int(examples_t*train_rate):int(examples_t*(train_rate+dev_rate)), :, :]\n",
        "Y_pos_dev = Parameters_array_raw[0, int(examples_t*train_rate)\n",
        "                              :int(examples_t*(train_rate+dev_rate)), :]\n",
        "\n",
        "X_test = X_data_array_raw_2[0, int(examples_t*(train_rate+dev_rate)):, :, :]\n",
        "Y_pos_test = Parameters_array_raw[0, int(examples_t*(train_rate+dev_rate)):, :]\n"
      ]
    },
    {
      "cell_type": "code",
      "execution_count": 19,
      "metadata": {},
      "outputs": [
        {
          "name": "stdout",
          "output_type": "stream",
          "text": [
            "(716, 64, 64) (716, 5)\n",
            "(256, 64, 64) (256, 5)\n",
            "(52, 64, 64) (52, 5)\n"
          ]
        }
      ],
      "source": [
        "print(X_train.shape, Y_pos_train.shape)\n",
        "print(X_dev.shape, Y_pos_dev.shape)\n",
        "print(X_test.shape, Y_pos_test.shape)"
      ]
    },
    {
      "cell_type": "code",
      "execution_count": 20,
      "metadata": {
        "id": "ttd8W1ValBXG"
      },
      "outputs": [],
      "source": [
        "def rearrange_final(X_data_array, Y_pos):\n",
        "\n",
        "    X_data_array_final = X_data_array.reshape(\n",
        "        X_data_array.shape[0], X_data_array.shape[1], X_data_array.shape[2], 1)\n",
        "\n",
        "    Y_pos_final = Y_pos.reshape(Y_pos.shape[0],Y_pos.shape[1])\n",
        "\n",
        "\n",
        "    return X_data_array_final, Y_pos_final"
      ]
    },
    {
      "cell_type": "code",
      "execution_count": 21,
      "metadata": {
        "id": "_cb15e75lDLl"
      },
      "outputs": [],
      "source": [
        "X_train, Y_pos_train = rearrange_final(\n",
        "    X_train, Y_pos_train)\n",
        "\n",
        "X_dev, Y_pos_dev = rearrange_final(\n",
        "    X_dev, Y_pos_dev)\n",
        "\n",
        "X_test, Y_pos_test = rearrange_final(\n",
        "    X_test, Y_pos_test)"
      ]
    },
    {
      "cell_type": "code",
      "execution_count": 22,
      "metadata": {
        "colab": {
          "base_uri": "https://localhost:8080/"
        },
        "id": "mlB1L2LGlE_l",
        "outputId": "d20014ed-329c-4121-a473-f68ab4cfa4ed"
      },
      "outputs": [
        {
          "name": "stdout",
          "output_type": "stream",
          "text": [
            "(716, 64, 64, 1) (716, 5)\n",
            "(256, 64, 64, 1) (256, 5)\n",
            "(52, 64, 64, 1) (52, 5)\n"
          ]
        }
      ],
      "source": [
        "print(X_train.shape, Y_pos_train.shape)\n",
        "print(X_dev.shape, Y_pos_dev.shape)\n",
        "print(X_test.shape, Y_pos_test.shape)"
      ]
    },
    {
      "cell_type": "code",
      "execution_count": 23,
      "metadata": {
        "id": "6397Q4rNlGLl"
      },
      "outputs": [],
      "source": [
        "def shuffle_final(X, pos, random_seed_3):\n",
        "\n",
        "    X = shuffle(X[:], random_state=random_seed_3)\n",
        "    pos = shuffle(pos[:], random_state=random_seed_3)\n",
        "\n",
        "    return X, pos"
      ]
    },
    {
      "cell_type": "code",
      "execution_count": 24,
      "metadata": {
        "id": "j7H0aOpllIMy"
      },
      "outputs": [],
      "source": [
        "random_seed_3 = 30\n",
        "\n",
        "X_train, Y_pos_train = shuffle_final(\n",
        "    X_train, Y_pos_train, random_seed_3)\n",
        "X_dev, Y_pos_dev = shuffle_final(\n",
        "    X_dev, Y_pos_dev, random_seed_3)\n",
        "X_test, Y_pos_test = shuffle_final(\n",
        "    X_test, Y_pos_test, random_seed_3)"
      ]
    },
    {
      "cell_type": "code",
      "execution_count": 25,
      "metadata": {},
      "outputs": [
        {
          "name": "stdout",
          "output_type": "stream",
          "text": [
            "(716, 64, 64, 1) (716, 5)\n",
            "(256, 64, 64, 1) (256, 5)\n",
            "(52, 64, 64, 1) (52, 5)\n"
          ]
        }
      ],
      "source": [
        "print(X_train.shape, Y_pos_train.shape)\n",
        "print(X_dev.shape, Y_pos_dev.shape)\n",
        "print(X_test.shape, Y_pos_test.shape)"
      ]
    },
    {
      "cell_type": "code",
      "execution_count": 26,
      "metadata": {
        "colab": {
          "base_uri": "https://localhost:8080/"
        },
        "id": "ajhHRqSQlJlV",
        "outputId": "60b01030-b46d-42f8-d5ac-c16ededca6c8"
      },
      "outputs": [
        {
          "name": "stdout",
          "output_type": "stream",
          "text": [
            "Total examples: 1024\n"
          ]
        }
      ],
      "source": [
        "print(\"Total examples: {:.0f}\".format(\n",
        "    X_train.shape[0]+X_dev.shape[0]+X_test.shape[0]))"
      ]
    },
    {
      "cell_type": "markdown",
      "metadata": {
        "id": "aUL62k0qlPGe"
      },
      "source": [
        "<a name='4.7'></a>\n",
        "### X,Y data visualization\n"
      ]
    },
    {
      "cell_type": "markdown",
      "metadata": {
        "id": "HUzfI0IOla1_"
      },
      "source": [
        "### Adding Gaussian noise"
      ]
    },
    {
      "cell_type": "code",
      "execution_count": 27,
      "metadata": {
        "id": "ALNn0CLZlbvG"
      },
      "outputs": [],
      "source": [
        "def gaussian_noise_models(mean, var, sigma, n_models_with_noise, zmax, X_data_array, Y_pos):\n",
        "\n",
        "    X_data_array_with_noise = np.zeros(\n",
        "        (n_models_with_noise, zmax, zmax, X_data_array.shape[3]))\n",
        "    Y_pos_f = np.zeros((n_models_with_noise, Y_pos.shape[1]))\n",
        "\n",
        "    n_i = random.sample(range(X_data_array.shape[0]-1), n_models_with_noise)\n",
        "\n",
        "    for i_noise_models in range(0, n_models_with_noise, 1):\n",
        "\n",
        "        m = n_i[i_noise_models]\n",
        "\n",
        "        if (0 > np.max(X_data_array[m, :, :, 0])) and (np.max(X_data_array[m, :, :, 0]) < 10):\n",
        "\n",
        "            var = 0.01\n",
        "\n",
        "        elif (-10 < np.min(X_data_array[m, :, :, 0])) and (np.min(X_data_array[m, :, :, 0]) < 0):\n",
        "\n",
        "            var = 0.01\n",
        "\n",
        "        elif (10 > np.max(X_data_array[m, :, :, 0])) and (np.max(X_data_array[m, :, :, 0]) < 100):\n",
        "\n",
        "            var = 1\n",
        "\n",
        "        elif (-100 < np.min(X_data_array[m, :, :, 0])) and (np.min(X_data_array[m, :, :, 0]) < -10):\n",
        "\n",
        "            var = 1\n",
        "\n",
        "        elif (100 > np.max(X_data_array[m, :, :, 0])) and (np.max(X_data_array[m, :, :, 0]) < 1000):\n",
        "\n",
        "            var = 5\n",
        "\n",
        "        elif (-1000 < np.min(X_data_array[m, :, :, 0])) and (np.min(X_data_array[m, :, :, 0]) < -100):\n",
        "\n",
        "            var = 5\n",
        "\n",
        "        else:\n",
        "            var = 10\n",
        "\n",
        "        sigma = var ** 0.5\n",
        "\n",
        "        gaussian = np.random.normal(mean, sigma, (zmax, zmax))\n",
        "\n",
        "        X_data_array_with_noise[i_noise_models, :, :,\n",
        "                                0] = X_data_array[m, :, :, 0] + gaussian\n",
        "        Y_pos_f[i_noise_models, :] = Y_pos[m, :]\n",
        "\n",
        "    return X_data_array_with_noise,Y_pos_f, n_i"
      ]
    },
    {
      "cell_type": "code",
      "execution_count": 28,
      "metadata": {
        "id": "D-7j0GsulgQk"
      },
      "outputs": [],
      "source": [
        "Gaussian_noise_dict = {\n",
        "\n",
        "    \"mean\": 0,\n",
        "    \"var\": 0.1,\n",
        "    \"n_models_with_noise\": 100  # Number of models with noise\n",
        "\n",
        "}\n",
        "\n",
        "sigma = Gaussian_noise_dict['var'] ** 0.5\n",
        "X_data_array_with_noise,Y_pos_train_noise, n_i = gaussian_noise_models(Gaussian_noise_dict['mean'], Gaussian_noise_dict['var'],\n",
        "                                                                                          sigma, Gaussian_noise_dict[\n",
        "                                                                                              'n_models_with_noise'],\n",
        "                                                                                          X_train.shape[1], X_train, Y_pos_train)"
      ]
    },
    {
      "cell_type": "markdown",
      "metadata": {
        "id": "h-U_nWMAlo3P"
      },
      "source": [
        "Gaussian noise models visualization"
      ]
    },
    {
      "cell_type": "code",
      "execution_count": 29,
      "metadata": {
        "colab": {
          "base_uri": "https://localhost:8080/",
          "height": 916
        },
        "id": "dDpTrtCjljWC",
        "outputId": "a6daa639-4448-4dac-84de-e423dd0161a0"
      },
      "outputs": [
        {
          "name": "stdout",
          "output_type": "stream",
          "text": [
            "87\n"
          ]
        },
        {
          "data": {
            "image/png": "[encoded data removed]",
            "text/plain": [
              "<Figure size 1400x500 with 4 Axes>"
            ]
          },
          "metadata": {},
          "output_type": "display_data"
        }
      ],
      "source": [
        "height_2 = 5\n",
        "width_2 = 14\n",
        "new_size =64\n",
        "X = np.linspace(0, new_size, new_size)\n",
        "Y = np.linspace(0, new_size, new_size)\n",
        "\n",
        "model_to_plot_l = int(np.random.randint(\n",
        "    0, X_data_array_with_noise.shape[0]-1, 1))\n",
        "model_to_plot_l = 87\n",
        "print(model_to_plot_l)\n",
        "\n",
        "##############################\n",
        "\n",
        "fig, axs = plt.subplots(1, 2, figsize=(width_2, height_2))\n",
        "\n",
        "axs = axs.ravel()\n",
        "\n",
        "cp_0 = axs[0].contourf(X, Y, X_train[n_i[model_to_plot_l],\n",
        "                       :, :, 0], levels=50, cmap='rainbow')\n",
        "axs[0].set_xlabel('Position X (m)')\n",
        "# axs[0].set_xticks(np.arange(-25, 25, step=5))\n",
        "axs[0].set_ylabel('Position Y (m)')\n",
        "# axs[0].set_yticks(np.arange(-25, 25, step=5))\n",
        "clb = plt.colorbar(cp_0, ax=axs[0])\n",
        "\n",
        "cp_1 = axs[1].contourf(\n",
        "    X, Y, X_train[n_i[model_to_plot_l+1], :, :, 0], levels=50, cmap='rainbow')\n",
        "axs[1].set_xlabel('Position X (m)')\n",
        "# axs[1].set_xticks(np.arange(-25, 25, step=5))\n",
        "axs[1].set_ylabel('Position Y (m)')\n",
        "# axs[1].set_yticks(np.arange(-25, 25, step=5))\n",
        "clb = plt.colorbar(cp_1, ax=axs[1])\n",
        "\n",
        "\n",
        "plt.tight_layout()"
      ]
    },
    {
      "cell_type": "code",
      "execution_count": 30,
      "metadata": {
        "id": "POlu-dcplwzj"
      },
      "outputs": [],
      "source": [
        "X_train = np.concatenate((X_train, X_data_array_with_noise), axis=0)\n",
        "Y_pos_train = np.concatenate((Y_pos_train, Y_pos_train_noise), axis=0)"
      ]
    },
    {
      "cell_type": "code",
      "execution_count": 31,
      "metadata": {
        "id": "3ZhaaL8Ily0g"
      },
      "outputs": [],
      "source": [
        "random_seed_3 = 128\n",
        "\n",
        "X_train = shuffle(X_train[:], random_state=random_seed_3)\n",
        "Y_pos_train = shuffle(Y_pos_train[:], random_state=random_seed_3)"
      ]
    },
    {
      "cell_type": "code",
      "execution_count": 32,
      "metadata": {},
      "outputs": [
        {
          "name": "stdout",
          "output_type": "stream",
          "text": [
            "(816, 64, 64, 1) (816, 5)\n",
            "(256, 64, 64, 1) (256, 5)\n",
            "(52, 64, 64, 1) (52, 5)\n"
          ]
        }
      ],
      "source": [
        "print(X_train.shape, Y_pos_train.shape)\n",
        "print(X_dev.shape, Y_pos_dev.shape)\n",
        "print(X_test.shape, Y_pos_test.shape)"
      ]
    },
    {
      "cell_type": "code",
      "execution_count": 33,
      "metadata": {
        "colab": {
          "base_uri": "https://localhost:8080/"
        },
        "id": "GLs-Qu50l_Ug",
        "outputId": "f95b04c5-080b-4d65-ef31-fec47f226d8f"
      },
      "outputs": [
        {
          "name": "stdout",
          "output_type": "stream",
          "text": [
            "Total number of examples : 1124\n",
            "Train : 816\n",
            "Dev : 256\n",
            "Test : 52\n"
          ]
        }
      ],
      "source": [
        "N_total_examples = X_train.shape[0] + X_dev.shape[0] + X_test.shape[0]\n",
        "\n",
        "print(f'Total number of examples : {N_total_examples}')\n",
        "print(f'Train : {X_train.shape[0]}')\n",
        "print(f'Dev : {X_dev.shape[0]}')\n",
        "print(f'Test : {X_test.shape[0]}')"
      ]
    },
    {
      "cell_type": "code",
      "execution_count": 34,
      "metadata": {},
      "outputs": [
        {
          "data": {
            "text/plain": [
              "'/home/jiajianhao/文档/cnn/Magnetic_methods-master/YOLO/Synthetic_data/data/split'"
            ]
          },
          "execution_count": 34,
          "metadata": {},
          "output_type": "execute_result"
        }
      ],
      "source": [
        "os.getcwd()"
      ]
    },
    {
      "cell_type": "code",
      "execution_count": 41,
      "metadata": {},
      "outputs": [],
      "source": [
        "def to_image(X_array):\n",
        "    n,p,q,z = X_array.shape\n",
        "    m = np.zeros([n,p,q,3])\n",
        "    for bb_n_models in range(n):\n",
        "        image = (X_array[bb_n_models,:,:,:] - np.min(X_array[bb_n_models,:,:,:])) / (np.max(X_array[bb_n_models,:,:,:]) - np.min(X_array[bb_n_models,:,:,:]))\n",
        "        #Converting to rgb\n",
        "        image_t = np.uint8(image * 255)      \n",
        "        image_t = cv2.cvtColor(image_t,cv2.COLOR_GRAY2RGB)\n",
        "        m[bb_n_models,:,:,:] = image_t\n",
        "    return m\n",
        "\n",
        "    "
      ]
    },
    {
      "cell_type": "code",
      "execution_count": 42,
      "metadata": {},
      "outputs": [],
      "source": [
        "X_train = to_image(X_train)\n",
        "X_dev = to_image(X_dev)\n",
        "X_test = to_image(X_test)"
      ]
    },
    {
      "cell_type": "code",
      "execution_count": 43,
      "metadata": {},
      "outputs": [],
      "source": [
        "# np.save(file=\"./data/Parameters_array_raw768.npy\", arr=Parameters_array_raw)\n",
        "np.save(file=\"./npy/X_train\",arr=X_train)\n",
        "np.save(file=\"./npy/X_dev\",arr=X_dev)\n",
        "np.save(file=\"./npy/X_test\",arr=X_test)\n",
        "np.save(file=\"./npy/Y_train\",arr=Y_pos_train)\n",
        "np.save(file=\"./npy/Y_dev\",arr=Y_pos_dev)\n",
        "np.save(file=\"./npy/Y_test\",arr=Y_pos_test)"
      ]
    }
  ],
  "metadata": {
    "accelerator": "GPU",
    "colab": {
      "collapsed_sections": [],
      "name": "Creating_synthetic_data.ipynb",
      "provenance": []
    },
    "kernelspec": {
      "display_name": "Python 3",
      "name": "python3"
    },
    "language_info": {
      "codemirror_mode": {
        "name": "ipython",
        "version": 3
      },
      "file_extension": ".py",
      "mimetype": "text/x-python",
      "name": "python",
      "nbconvert_exporter": "python",
      "pygments_lexer": "ipython3",
      "version": "3.9.18"
    }
  },
  "nbformat": 4,
  "nbformat_minor": 0
}
